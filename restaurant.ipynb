{
 "cells": [
  {
   "cell_type": "markdown",
   "metadata": {},
   "source": [
    "Description:\n",
    "This dataset captures sales transactions from a local restaurant near my home. It includes details such as the order ID, date of the transaction, item names (representing various food and beverage items), item types (categorized as Fast-food or Beverages), item prices, quantities ordered, transaction amounts, transaction types (cash, online, or others), the gender of the staff member who received the order, and the time of the sale (Morning, Evening, Afternoon, Night, Midnight). The dataset offers a valuable snapshot of the restaurant's daily operations and customer behavior.\n",
    "\n",
    "Columns:\n",
    "\n",
    "order_id: a unique identifier for each order.\n",
    "date: date of the transaction.\n",
    "item_name: name of the food.\n",
    "item_type: category of item (Fastfood or Beverages).\n",
    "item_price: price of the item for 1 quantity.\n",
    "Quantity: how much quantity the customer orders.\n",
    "transaction_amount: the total amount paid by customers.\n",
    "transaction_type: payment method (cash, online, others).\n",
    "received_by: gender of the person handling the transaction.\n",
    "time_of_sale: different times of the day (Morning, Evening, Afternoon, Night, Midnight)."
   ]
  },
  {
   "cell_type": "code",
   "execution_count": 35,
   "metadata": {},
   "outputs": [],
   "source": [
    "import pandas as pd\n",
    "import plotly.express as px"
   ]
  },
  {
   "cell_type": "code",
   "execution_count": 36,
   "metadata": {},
   "outputs": [
    {
     "data": {
      "text/html": [
       "<div>\n",
       "<style scoped>\n",
       "    .dataframe tbody tr th:only-of-type {\n",
       "        vertical-align: middle;\n",
       "    }\n",
       "\n",
       "    .dataframe tbody tr th {\n",
       "        vertical-align: top;\n",
       "    }\n",
       "\n",
       "    .dataframe thead th {\n",
       "        text-align: right;\n",
       "    }\n",
       "</style>\n",
       "<table border=\"1\" class=\"dataframe\">\n",
       "  <thead>\n",
       "    <tr style=\"text-align: right;\">\n",
       "      <th></th>\n",
       "      <th>order_id</th>\n",
       "      <th>date</th>\n",
       "      <th>item_name</th>\n",
       "      <th>item_type</th>\n",
       "      <th>item_price</th>\n",
       "      <th>quantity</th>\n",
       "      <th>transaction_amount</th>\n",
       "      <th>transaction_type</th>\n",
       "      <th>received_by</th>\n",
       "      <th>time_of_sale</th>\n",
       "    </tr>\n",
       "  </thead>\n",
       "  <tbody>\n",
       "    <tr>\n",
       "      <th>0</th>\n",
       "      <td>1</td>\n",
       "      <td>07-03-2022</td>\n",
       "      <td>Aalopuri</td>\n",
       "      <td>Fastfood</td>\n",
       "      <td>20</td>\n",
       "      <td>13</td>\n",
       "      <td>260</td>\n",
       "      <td>NaN</td>\n",
       "      <td>Mr.</td>\n",
       "      <td>Night</td>\n",
       "    </tr>\n",
       "    <tr>\n",
       "      <th>1</th>\n",
       "      <td>2</td>\n",
       "      <td>8/23/2022</td>\n",
       "      <td>Vadapav</td>\n",
       "      <td>Fastfood</td>\n",
       "      <td>20</td>\n",
       "      <td>15</td>\n",
       "      <td>300</td>\n",
       "      <td>Cash</td>\n",
       "      <td>Mr.</td>\n",
       "      <td>Afternoon</td>\n",
       "    </tr>\n",
       "    <tr>\n",
       "      <th>2</th>\n",
       "      <td>3</td>\n",
       "      <td>11/20/2022</td>\n",
       "      <td>Vadapav</td>\n",
       "      <td>Fastfood</td>\n",
       "      <td>20</td>\n",
       "      <td>1</td>\n",
       "      <td>20</td>\n",
       "      <td>Cash</td>\n",
       "      <td>Mr.</td>\n",
       "      <td>Afternoon</td>\n",
       "    </tr>\n",
       "    <tr>\n",
       "      <th>3</th>\n",
       "      <td>4</td>\n",
       "      <td>02-03-2023</td>\n",
       "      <td>Sugarcane juice</td>\n",
       "      <td>Beverages</td>\n",
       "      <td>25</td>\n",
       "      <td>6</td>\n",
       "      <td>150</td>\n",
       "      <td>Online</td>\n",
       "      <td>Mr.</td>\n",
       "      <td>Night</td>\n",
       "    </tr>\n",
       "    <tr>\n",
       "      <th>4</th>\n",
       "      <td>5</td>\n",
       "      <td>10-02-2022</td>\n",
       "      <td>Sugarcane juice</td>\n",
       "      <td>Beverages</td>\n",
       "      <td>25</td>\n",
       "      <td>8</td>\n",
       "      <td>200</td>\n",
       "      <td>Online</td>\n",
       "      <td>Mr.</td>\n",
       "      <td>Evening</td>\n",
       "    </tr>\n",
       "  </tbody>\n",
       "</table>\n",
       "</div>"
      ],
      "text/plain": [
       "   order_id        date        item_name  item_type  item_price  quantity   \n",
       "0         1  07-03-2022         Aalopuri   Fastfood          20        13  \\\n",
       "1         2   8/23/2022          Vadapav   Fastfood          20        15   \n",
       "2         3  11/20/2022          Vadapav   Fastfood          20         1   \n",
       "3         4  02-03-2023  Sugarcane juice  Beverages          25         6   \n",
       "4         5  10-02-2022  Sugarcane juice  Beverages          25         8   \n",
       "\n",
       "   transaction_amount transaction_type received_by time_of_sale  \n",
       "0                 260              NaN         Mr.        Night  \n",
       "1                 300             Cash         Mr.    Afternoon  \n",
       "2                  20             Cash         Mr.    Afternoon  \n",
       "3                 150           Online         Mr.        Night  \n",
       "4                 200           Online         Mr.      Evening  "
      ]
     },
     "execution_count": 36,
     "metadata": {},
     "output_type": "execute_result"
    }
   ],
   "source": [
    "df=pd.read_csv(\"C:\\\\Users\\\\thris\\\\Downloads\\\\Balaji Fast Food Sales.csv\")\n",
    "df.head()"
   ]
  },
  {
   "cell_type": "code",
   "execution_count": 37,
   "metadata": {},
   "outputs": [
    {
     "name": "stdout",
     "output_type": "stream",
     "text": [
      "<class 'pandas.core.frame.DataFrame'>\n",
      "RangeIndex: 1000 entries, 0 to 999\n",
      "Data columns (total 10 columns):\n",
      " #   Column              Non-Null Count  Dtype \n",
      "---  ------              --------------  ----- \n",
      " 0   order_id            1000 non-null   int64 \n",
      " 1   date                1000 non-null   object\n",
      " 2   item_name           1000 non-null   object\n",
      " 3   item_type           1000 non-null   object\n",
      " 4   item_price          1000 non-null   int64 \n",
      " 5   quantity            1000 non-null   int64 \n",
      " 6   transaction_amount  1000 non-null   int64 \n",
      " 7   transaction_type    893 non-null    object\n",
      " 8   received_by         1000 non-null   object\n",
      " 9   time_of_sale        1000 non-null   object\n",
      "dtypes: int64(4), object(6)\n",
      "memory usage: 78.2+ KB\n"
     ]
    }
   ],
   "source": [
    "df.info()"
   ]
  },
  {
   "cell_type": "code",
   "execution_count": 38,
   "metadata": {},
   "outputs": [
    {
     "name": "stdout",
     "output_type": "stream",
     "text": [
      "Unique values of order_id is 1000\n",
      "Unique values of date is 348\n",
      "Unique values of item_name is 7\n",
      "Unique values of item_type is 2\n",
      "Unique values of item_price is 5\n",
      "Unique values of quantity is 15\n",
      "Unique values of transaction_amount is 48\n",
      "Unique values of transaction_type is 2\n",
      "Unique values of received_by is 2\n",
      "Unique values of time_of_sale is 5\n"
     ]
    }
   ],
   "source": [
    "for col in df.columns:\n",
    "    print(f\"Unique values of {col} is {df[col].nunique()}\")"
   ]
  },
  {
   "cell_type": "code",
   "execution_count": 39,
   "metadata": {},
   "outputs": [],
   "source": [
    "df[\"Revenue\"]=df[\"quantity\"]*df[\"item_price\"]"
   ]
  },
  {
   "cell_type": "markdown",
   "metadata": {},
   "source": [
    "Distrubution of Price of Items purchased"
   ]
  },
  {
   "cell_type": "code",
   "execution_count": 40,
   "metadata": {},
   "outputs": [
    {
     "data": {
      "application/vnd.plotly.v1+json": {
       "config": {
        "plotlyServerURL": "https://plot.ly"
       },
       "data": [
        {
         "alignmentgroup": "True",
         "bingroup": "x",
         "hovertemplate": "item_price=%{x}<br>count=%{y}<extra></extra>",
         "legendgroup": "",
         "marker": {
          "color": "#636efa",
          "pattern": {
           "shape": ""
          }
         },
         "name": "",
         "offsetgroup": "",
         "orientation": "v",
         "showlegend": false,
         "type": "histogram",
         "x": [
          20,
          20,
          20,
          25,
          25,
          20,
          25,
          20,
          20,
          20,
          50,
          20,
          20,
          50,
          20,
          60,
          20,
          20,
          20,
          40,
          40,
          25,
          60,
          25,
          60,
          25,
          40,
          40,
          25,
          50,
          40,
          20,
          20,
          50,
          20,
          40,
          50,
          20,
          20,
          60,
          40,
          20,
          20,
          40,
          25,
          20,
          60,
          60,
          50,
          20,
          50,
          25,
          20,
          20,
          60,
          20,
          20,
          20,
          20,
          40,
          20,
          25,
          60,
          40,
          20,
          50,
          20,
          40,
          20,
          40,
          40,
          50,
          20,
          40,
          40,
          20,
          25,
          20,
          20,
          50,
          50,
          50,
          50,
          20,
          20,
          20,
          20,
          40,
          20,
          20,
          40,
          20,
          40,
          20,
          25,
          60,
          40,
          20,
          25,
          20,
          20,
          40,
          40,
          40,
          20,
          50,
          60,
          20,
          40,
          20,
          60,
          60,
          20,
          20,
          20,
          25,
          50,
          60,
          20,
          50,
          40,
          20,
          40,
          25,
          20,
          20,
          20,
          20,
          20,
          25,
          60,
          20,
          20,
          20,
          20,
          20,
          25,
          60,
          50,
          50,
          20,
          25,
          50,
          20,
          60,
          50,
          20,
          60,
          60,
          40,
          50,
          40,
          20,
          20,
          25,
          20,
          50,
          20,
          25,
          20,
          25,
          20,
          50,
          25,
          60,
          20,
          40,
          60,
          20,
          20,
          20,
          25,
          40,
          20,
          50,
          20,
          20,
          20,
          25,
          20,
          40,
          40,
          25,
          40,
          25,
          50,
          20,
          20,
          20,
          40,
          25,
          20,
          40,
          20,
          60,
          60,
          20,
          50,
          50,
          40,
          20,
          20,
          20,
          40,
          20,
          20,
          40,
          40,
          20,
          25,
          20,
          40,
          20,
          25,
          25,
          20,
          40,
          40,
          20,
          25,
          60,
          60,
          20,
          25,
          50,
          20,
          40,
          20,
          20,
          50,
          25,
          20,
          20,
          20,
          60,
          20,
          20,
          20,
          50,
          60,
          25,
          40,
          20,
          60,
          20,
          20,
          25,
          50,
          25,
          25,
          40,
          20,
          25,
          40,
          20,
          20,
          60,
          20,
          60,
          25,
          50,
          20,
          20,
          25,
          20,
          50,
          20,
          40,
          20,
          60,
          20,
          50,
          20,
          25,
          20,
          25,
          40,
          50,
          20,
          20,
          60,
          20,
          20,
          50,
          20,
          20,
          20,
          60,
          20,
          20,
          50,
          50,
          20,
          20,
          60,
          20,
          60,
          25,
          20,
          20,
          20,
          20,
          25,
          20,
          20,
          40,
          20,
          60,
          60,
          20,
          50,
          40,
          40,
          50,
          40,
          50,
          20,
          20,
          50,
          25,
          50,
          40,
          20,
          25,
          20,
          60,
          50,
          20,
          20,
          20,
          20,
          20,
          25,
          40,
          40,
          25,
          20,
          25,
          25,
          40,
          50,
          20,
          25,
          40,
          20,
          40,
          50,
          20,
          20,
          40,
          50,
          50,
          20,
          20,
          40,
          25,
          60,
          20,
          20,
          40,
          60,
          25,
          50,
          40,
          20,
          25,
          20,
          40,
          60,
          20,
          20,
          50,
          25,
          50,
          20,
          50,
          25,
          20,
          40,
          60,
          20,
          40,
          20,
          25,
          20,
          50,
          25,
          60,
          60,
          25,
          20,
          20,
          25,
          60,
          60,
          50,
          20,
          20,
          20,
          40,
          25,
          50,
          40,
          50,
          25,
          40,
          25,
          20,
          20,
          20,
          20,
          25,
          20,
          40,
          20,
          60,
          20,
          40,
          25,
          50,
          40,
          40,
          50,
          25,
          20,
          50,
          60,
          25,
          40,
          60,
          20,
          20,
          20,
          20,
          60,
          50,
          40,
          40,
          50,
          20,
          20,
          25,
          25,
          50,
          60,
          40,
          50,
          20,
          50,
          25,
          25,
          50,
          60,
          60,
          40,
          40,
          40,
          25,
          20,
          20,
          25,
          20,
          60,
          25,
          25,
          20,
          20,
          20,
          60,
          20,
          20,
          20,
          60,
          25,
          40,
          20,
          60,
          25,
          60,
          20,
          25,
          20,
          20,
          40,
          20,
          20,
          60,
          40,
          50,
          40,
          20,
          60,
          40,
          40,
          20,
          40,
          60,
          50,
          60,
          20,
          25,
          20,
          20,
          40,
          50,
          40,
          20,
          60,
          20,
          60,
          20,
          20,
          40,
          40,
          60,
          25,
          20,
          20,
          40,
          20,
          20,
          20,
          50,
          20,
          20,
          60,
          25,
          25,
          20,
          20,
          40,
          20,
          50,
          20,
          60,
          25,
          20,
          20,
          20,
          20,
          20,
          25,
          20,
          60,
          60,
          20,
          40,
          40,
          25,
          40,
          25,
          25,
          20,
          20,
          60,
          20,
          60,
          20,
          40,
          25,
          20,
          50,
          50,
          40,
          20,
          50,
          40,
          20,
          40,
          25,
          25,
          60,
          50,
          20,
          20,
          20,
          40,
          50,
          20,
          20,
          25,
          20,
          50,
          40,
          20,
          60,
          20,
          50,
          40,
          20,
          60,
          25,
          25,
          50,
          50,
          40,
          20,
          40,
          50,
          20,
          20,
          20,
          20,
          50,
          40,
          40,
          20,
          20,
          20,
          50,
          20,
          20,
          20,
          20,
          60,
          20,
          25,
          50,
          25,
          20,
          20,
          20,
          40,
          60,
          60,
          40,
          25,
          40,
          25,
          50,
          40,
          20,
          40,
          20,
          20,
          40,
          20,
          40,
          20,
          60,
          20,
          40,
          25,
          20,
          60,
          20,
          20,
          60,
          50,
          60,
          60,
          40,
          50,
          20,
          25,
          60,
          40,
          20,
          20,
          60,
          50,
          20,
          25,
          50,
          20,
          20,
          20,
          20,
          60,
          20,
          60,
          40,
          60,
          25,
          60,
          50,
          40,
          20,
          60,
          40,
          50,
          20,
          50,
          20,
          20,
          40,
          20,
          50,
          20,
          20,
          60,
          50,
          25,
          20,
          20,
          25,
          25,
          20,
          40,
          50,
          25,
          40,
          20,
          60,
          60,
          50,
          20,
          60,
          40,
          60,
          20,
          20,
          25,
          25,
          60,
          20,
          25,
          20,
          20,
          50,
          20,
          20,
          40,
          50,
          20,
          20,
          20,
          20,
          60,
          50,
          50,
          20,
          50,
          50,
          20,
          20,
          50,
          60,
          20,
          20,
          20,
          20,
          20,
          50,
          20,
          25,
          40,
          60,
          20,
          50,
          20,
          20,
          25,
          25,
          20,
          25,
          25,
          20,
          25,
          25,
          60,
          20,
          20,
          60,
          60,
          60,
          50,
          60,
          50,
          20,
          20,
          40,
          40,
          20,
          60,
          50,
          20,
          50,
          60,
          25,
          20,
          20,
          20,
          20,
          20,
          60,
          20,
          25,
          25,
          20,
          20,
          20,
          60,
          25,
          20,
          25,
          40,
          50,
          20,
          40,
          20,
          60,
          20,
          40,
          25,
          20,
          50,
          20,
          20,
          20,
          20,
          20,
          20,
          20,
          40,
          25,
          20,
          50,
          20,
          20,
          20,
          20,
          20,
          20,
          20,
          60,
          60,
          20,
          40,
          40,
          50,
          25,
          20,
          25,
          25,
          20,
          20,
          40,
          25,
          40,
          20,
          20,
          25,
          25,
          40,
          20,
          20,
          50,
          40,
          20,
          20,
          25,
          40,
          40,
          20,
          20,
          25,
          40,
          60,
          40,
          25,
          50,
          50,
          40,
          25,
          50,
          50,
          20,
          20,
          40,
          20,
          60,
          25,
          40,
          20,
          40,
          25,
          60,
          40,
          25,
          60,
          20,
          20,
          20,
          25,
          25,
          20,
          20,
          20,
          25,
          40,
          25,
          25,
          60,
          25,
          20,
          20,
          50,
          20,
          25,
          20,
          50,
          20,
          20,
          50,
          60,
          40,
          60,
          40,
          20,
          60,
          20,
          50,
          60,
          40,
          40,
          20,
          20,
          20,
          50,
          20,
          50,
          40,
          20,
          50,
          50,
          40,
          60,
          50,
          25,
          20,
          60,
          25,
          40,
          60,
          20,
          20,
          25,
          20,
          25,
          40,
          50,
          20,
          20,
          40,
          60,
          20,
          60,
          20,
          50,
          20,
          20,
          60,
          20,
          25,
          50,
          20,
          60,
          20,
          25,
          50,
          50,
          20,
          40,
          50,
          20,
          40,
          40,
          40,
          20,
          50,
          20,
          25,
          20,
          20,
          25,
          20,
          50,
          20,
          20,
          20,
          25,
          40,
          50,
          50,
          25,
          20,
          50,
          40,
          20,
          60,
          60,
          50,
          20,
          25,
          50,
          60,
          60,
          20,
          20
         ],
         "xaxis": "x",
         "yaxis": "y"
        }
       ],
       "layout": {
        "barmode": "relative",
        "legend": {
         "tracegroupgap": 0
        },
        "template": {
         "data": {
          "bar": [
           {
            "error_x": {
             "color": "#2a3f5f"
            },
            "error_y": {
             "color": "#2a3f5f"
            },
            "marker": {
             "line": {
              "color": "#E5ECF6",
              "width": 0.5
             },
             "pattern": {
              "fillmode": "overlay",
              "size": 10,
              "solidity": 0.2
             }
            },
            "type": "bar"
           }
          ],
          "barpolar": [
           {
            "marker": {
             "line": {
              "color": "#E5ECF6",
              "width": 0.5
             },
             "pattern": {
              "fillmode": "overlay",
              "size": 10,
              "solidity": 0.2
             }
            },
            "type": "barpolar"
           }
          ],
          "carpet": [
           {
            "aaxis": {
             "endlinecolor": "#2a3f5f",
             "gridcolor": "white",
             "linecolor": "white",
             "minorgridcolor": "white",
             "startlinecolor": "#2a3f5f"
            },
            "baxis": {
             "endlinecolor": "#2a3f5f",
             "gridcolor": "white",
             "linecolor": "white",
             "minorgridcolor": "white",
             "startlinecolor": "#2a3f5f"
            },
            "type": "carpet"
           }
          ],
          "choropleth": [
           {
            "colorbar": {
             "outlinewidth": 0,
             "ticks": ""
            },
            "type": "choropleth"
           }
          ],
          "contour": [
           {
            "colorbar": {
             "outlinewidth": 0,
             "ticks": ""
            },
            "colorscale": [
             [
              0,
              "#0d0887"
             ],
             [
              0.1111111111111111,
              "#46039f"
             ],
             [
              0.2222222222222222,
              "#7201a8"
             ],
             [
              0.3333333333333333,
              "#9c179e"
             ],
             [
              0.4444444444444444,
              "#bd3786"
             ],
             [
              0.5555555555555556,
              "#d8576b"
             ],
             [
              0.6666666666666666,
              "#ed7953"
             ],
             [
              0.7777777777777778,
              "#fb9f3a"
             ],
             [
              0.8888888888888888,
              "#fdca26"
             ],
             [
              1,
              "#f0f921"
             ]
            ],
            "type": "contour"
           }
          ],
          "contourcarpet": [
           {
            "colorbar": {
             "outlinewidth": 0,
             "ticks": ""
            },
            "type": "contourcarpet"
           }
          ],
          "heatmap": [
           {
            "colorbar": {
             "outlinewidth": 0,
             "ticks": ""
            },
            "colorscale": [
             [
              0,
              "#0d0887"
             ],
             [
              0.1111111111111111,
              "#46039f"
             ],
             [
              0.2222222222222222,
              "#7201a8"
             ],
             [
              0.3333333333333333,
              "#9c179e"
             ],
             [
              0.4444444444444444,
              "#bd3786"
             ],
             [
              0.5555555555555556,
              "#d8576b"
             ],
             [
              0.6666666666666666,
              "#ed7953"
             ],
             [
              0.7777777777777778,
              "#fb9f3a"
             ],
             [
              0.8888888888888888,
              "#fdca26"
             ],
             [
              1,
              "#f0f921"
             ]
            ],
            "type": "heatmap"
           }
          ],
          "heatmapgl": [
           {
            "colorbar": {
             "outlinewidth": 0,
             "ticks": ""
            },
            "colorscale": [
             [
              0,
              "#0d0887"
             ],
             [
              0.1111111111111111,
              "#46039f"
             ],
             [
              0.2222222222222222,
              "#7201a8"
             ],
             [
              0.3333333333333333,
              "#9c179e"
             ],
             [
              0.4444444444444444,
              "#bd3786"
             ],
             [
              0.5555555555555556,
              "#d8576b"
             ],
             [
              0.6666666666666666,
              "#ed7953"
             ],
             [
              0.7777777777777778,
              "#fb9f3a"
             ],
             [
              0.8888888888888888,
              "#fdca26"
             ],
             [
              1,
              "#f0f921"
             ]
            ],
            "type": "heatmapgl"
           }
          ],
          "histogram": [
           {
            "marker": {
             "pattern": {
              "fillmode": "overlay",
              "size": 10,
              "solidity": 0.2
             }
            },
            "type": "histogram"
           }
          ],
          "histogram2d": [
           {
            "colorbar": {
             "outlinewidth": 0,
             "ticks": ""
            },
            "colorscale": [
             [
              0,
              "#0d0887"
             ],
             [
              0.1111111111111111,
              "#46039f"
             ],
             [
              0.2222222222222222,
              "#7201a8"
             ],
             [
              0.3333333333333333,
              "#9c179e"
             ],
             [
              0.4444444444444444,
              "#bd3786"
             ],
             [
              0.5555555555555556,
              "#d8576b"
             ],
             [
              0.6666666666666666,
              "#ed7953"
             ],
             [
              0.7777777777777778,
              "#fb9f3a"
             ],
             [
              0.8888888888888888,
              "#fdca26"
             ],
             [
              1,
              "#f0f921"
             ]
            ],
            "type": "histogram2d"
           }
          ],
          "histogram2dcontour": [
           {
            "colorbar": {
             "outlinewidth": 0,
             "ticks": ""
            },
            "colorscale": [
             [
              0,
              "#0d0887"
             ],
             [
              0.1111111111111111,
              "#46039f"
             ],
             [
              0.2222222222222222,
              "#7201a8"
             ],
             [
              0.3333333333333333,
              "#9c179e"
             ],
             [
              0.4444444444444444,
              "#bd3786"
             ],
             [
              0.5555555555555556,
              "#d8576b"
             ],
             [
              0.6666666666666666,
              "#ed7953"
             ],
             [
              0.7777777777777778,
              "#fb9f3a"
             ],
             [
              0.8888888888888888,
              "#fdca26"
             ],
             [
              1,
              "#f0f921"
             ]
            ],
            "type": "histogram2dcontour"
           }
          ],
          "mesh3d": [
           {
            "colorbar": {
             "outlinewidth": 0,
             "ticks": ""
            },
            "type": "mesh3d"
           }
          ],
          "parcoords": [
           {
            "line": {
             "colorbar": {
              "outlinewidth": 0,
              "ticks": ""
             }
            },
            "type": "parcoords"
           }
          ],
          "pie": [
           {
            "automargin": true,
            "type": "pie"
           }
          ],
          "scatter": [
           {
            "fillpattern": {
             "fillmode": "overlay",
             "size": 10,
             "solidity": 0.2
            },
            "type": "scatter"
           }
          ],
          "scatter3d": [
           {
            "line": {
             "colorbar": {
              "outlinewidth": 0,
              "ticks": ""
             }
            },
            "marker": {
             "colorbar": {
              "outlinewidth": 0,
              "ticks": ""
             }
            },
            "type": "scatter3d"
           }
          ],
          "scattercarpet": [
           {
            "marker": {
             "colorbar": {
              "outlinewidth": 0,
              "ticks": ""
             }
            },
            "type": "scattercarpet"
           }
          ],
          "scattergeo": [
           {
            "marker": {
             "colorbar": {
              "outlinewidth": 0,
              "ticks": ""
             }
            },
            "type": "scattergeo"
           }
          ],
          "scattergl": [
           {
            "marker": {
             "colorbar": {
              "outlinewidth": 0,
              "ticks": ""
             }
            },
            "type": "scattergl"
           }
          ],
          "scattermapbox": [
           {
            "marker": {
             "colorbar": {
              "outlinewidth": 0,
              "ticks": ""
             }
            },
            "type": "scattermapbox"
           }
          ],
          "scatterpolar": [
           {
            "marker": {
             "colorbar": {
              "outlinewidth": 0,
              "ticks": ""
             }
            },
            "type": "scatterpolar"
           }
          ],
          "scatterpolargl": [
           {
            "marker": {
             "colorbar": {
              "outlinewidth": 0,
              "ticks": ""
             }
            },
            "type": "scatterpolargl"
           }
          ],
          "scatterternary": [
           {
            "marker": {
             "colorbar": {
              "outlinewidth": 0,
              "ticks": ""
             }
            },
            "type": "scatterternary"
           }
          ],
          "surface": [
           {
            "colorbar": {
             "outlinewidth": 0,
             "ticks": ""
            },
            "colorscale": [
             [
              0,
              "#0d0887"
             ],
             [
              0.1111111111111111,
              "#46039f"
             ],
             [
              0.2222222222222222,
              "#7201a8"
             ],
             [
              0.3333333333333333,
              "#9c179e"
             ],
             [
              0.4444444444444444,
              "#bd3786"
             ],
             [
              0.5555555555555556,
              "#d8576b"
             ],
             [
              0.6666666666666666,
              "#ed7953"
             ],
             [
              0.7777777777777778,
              "#fb9f3a"
             ],
             [
              0.8888888888888888,
              "#fdca26"
             ],
             [
              1,
              "#f0f921"
             ]
            ],
            "type": "surface"
           }
          ],
          "table": [
           {
            "cells": {
             "fill": {
              "color": "#EBF0F8"
             },
             "line": {
              "color": "white"
             }
            },
            "header": {
             "fill": {
              "color": "#C8D4E3"
             },
             "line": {
              "color": "white"
             }
            },
            "type": "table"
           }
          ]
         },
         "layout": {
          "annotationdefaults": {
           "arrowcolor": "#2a3f5f",
           "arrowhead": 0,
           "arrowwidth": 1
          },
          "autotypenumbers": "strict",
          "coloraxis": {
           "colorbar": {
            "outlinewidth": 0,
            "ticks": ""
           }
          },
          "colorscale": {
           "diverging": [
            [
             0,
             "#8e0152"
            ],
            [
             0.1,
             "#c51b7d"
            ],
            [
             0.2,
             "#de77ae"
            ],
            [
             0.3,
             "#f1b6da"
            ],
            [
             0.4,
             "#fde0ef"
            ],
            [
             0.5,
             "#f7f7f7"
            ],
            [
             0.6,
             "#e6f5d0"
            ],
            [
             0.7,
             "#b8e186"
            ],
            [
             0.8,
             "#7fbc41"
            ],
            [
             0.9,
             "#4d9221"
            ],
            [
             1,
             "#276419"
            ]
           ],
           "sequential": [
            [
             0,
             "#0d0887"
            ],
            [
             0.1111111111111111,
             "#46039f"
            ],
            [
             0.2222222222222222,
             "#7201a8"
            ],
            [
             0.3333333333333333,
             "#9c179e"
            ],
            [
             0.4444444444444444,
             "#bd3786"
            ],
            [
             0.5555555555555556,
             "#d8576b"
            ],
            [
             0.6666666666666666,
             "#ed7953"
            ],
            [
             0.7777777777777778,
             "#fb9f3a"
            ],
            [
             0.8888888888888888,
             "#fdca26"
            ],
            [
             1,
             "#f0f921"
            ]
           ],
           "sequentialminus": [
            [
             0,
             "#0d0887"
            ],
            [
             0.1111111111111111,
             "#46039f"
            ],
            [
             0.2222222222222222,
             "#7201a8"
            ],
            [
             0.3333333333333333,
             "#9c179e"
            ],
            [
             0.4444444444444444,
             "#bd3786"
            ],
            [
             0.5555555555555556,
             "#d8576b"
            ],
            [
             0.6666666666666666,
             "#ed7953"
            ],
            [
             0.7777777777777778,
             "#fb9f3a"
            ],
            [
             0.8888888888888888,
             "#fdca26"
            ],
            [
             1,
             "#f0f921"
            ]
           ]
          },
          "colorway": [
           "#636efa",
           "#EF553B",
           "#00cc96",
           "#ab63fa",
           "#FFA15A",
           "#19d3f3",
           "#FF6692",
           "#B6E880",
           "#FF97FF",
           "#FECB52"
          ],
          "font": {
           "color": "#2a3f5f"
          },
          "geo": {
           "bgcolor": "white",
           "lakecolor": "white",
           "landcolor": "#E5ECF6",
           "showlakes": true,
           "showland": true,
           "subunitcolor": "white"
          },
          "hoverlabel": {
           "align": "left"
          },
          "hovermode": "closest",
          "mapbox": {
           "style": "light"
          },
          "paper_bgcolor": "white",
          "plot_bgcolor": "#E5ECF6",
          "polar": {
           "angularaxis": {
            "gridcolor": "white",
            "linecolor": "white",
            "ticks": ""
           },
           "bgcolor": "#E5ECF6",
           "radialaxis": {
            "gridcolor": "white",
            "linecolor": "white",
            "ticks": ""
           }
          },
          "scene": {
           "xaxis": {
            "backgroundcolor": "#E5ECF6",
            "gridcolor": "white",
            "gridwidth": 2,
            "linecolor": "white",
            "showbackground": true,
            "ticks": "",
            "zerolinecolor": "white"
           },
           "yaxis": {
            "backgroundcolor": "#E5ECF6",
            "gridcolor": "white",
            "gridwidth": 2,
            "linecolor": "white",
            "showbackground": true,
            "ticks": "",
            "zerolinecolor": "white"
           },
           "zaxis": {
            "backgroundcolor": "#E5ECF6",
            "gridcolor": "white",
            "gridwidth": 2,
            "linecolor": "white",
            "showbackground": true,
            "ticks": "",
            "zerolinecolor": "white"
           }
          },
          "shapedefaults": {
           "line": {
            "color": "#2a3f5f"
           }
          },
          "ternary": {
           "aaxis": {
            "gridcolor": "white",
            "linecolor": "white",
            "ticks": ""
           },
           "baxis": {
            "gridcolor": "white",
            "linecolor": "white",
            "ticks": ""
           },
           "bgcolor": "#E5ECF6",
           "caxis": {
            "gridcolor": "white",
            "linecolor": "white",
            "ticks": ""
           }
          },
          "title": {
           "x": 0.05
          },
          "xaxis": {
           "automargin": true,
           "gridcolor": "white",
           "linecolor": "white",
           "ticks": "",
           "title": {
            "standoff": 15
           },
           "zerolinecolor": "white",
           "zerolinewidth": 2
          },
          "yaxis": {
           "automargin": true,
           "gridcolor": "white",
           "linecolor": "white",
           "ticks": "",
           "title": {
            "standoff": 15
           },
           "zerolinecolor": "white",
           "zerolinewidth": 2
          }
         }
        },
        "title": {
         "text": "Distribution of item prices"
        },
        "xaxis": {
         "anchor": "y",
         "domain": [
          0,
          1
         ],
         "title": {
          "text": "item_price"
         }
        },
        "yaxis": {
         "anchor": "x",
         "domain": [
          0,
          1
         ],
         "title": {
          "text": "count"
         }
        }
       }
      }
     },
     "metadata": {},
     "output_type": "display_data"
    }
   ],
   "source": [
    "fig=px.histogram(df,x=\"item_price\",title=\"Distribution of item prices\")\n",
    "fig.show()"
   ]
  },
  {
   "cell_type": "markdown",
   "metadata": {},
   "source": [
    "Which type of food is sold most?"
   ]
  },
  {
   "cell_type": "code",
   "execution_count": 41,
   "metadata": {},
   "outputs": [
    {
     "data": {
      "application/vnd.plotly.v1+json": {
       "config": {
        "plotlyServerURL": "https://plot.ly"
       },
       "data": [
        {
         "alignmentgroup": "True",
         "bingroup": "x",
         "hovertemplate": "item_type=%{x}<br>count=%{y}<extra></extra>",
         "legendgroup": "Fastfood",
         "marker": {
          "color": "#636efa",
          "pattern": {
           "shape": ""
          }
         },
         "name": "Fastfood",
         "offsetgroup": "Fastfood",
         "orientation": "v",
         "showlegend": true,
         "type": "histogram",
         "x": [
          "Fastfood",
          "Fastfood",
          "Fastfood",
          "Fastfood",
          "Fastfood",
          "Fastfood",
          "Fastfood",
          "Fastfood",
          "Fastfood",
          "Fastfood",
          "Fastfood",
          "Fastfood",
          "Fastfood",
          "Fastfood",
          "Fastfood",
          "Fastfood",
          "Fastfood",
          "Fastfood",
          "Fastfood",
          "Fastfood",
          "Fastfood",
          "Fastfood",
          "Fastfood",
          "Fastfood",
          "Fastfood",
          "Fastfood",
          "Fastfood",
          "Fastfood",
          "Fastfood",
          "Fastfood",
          "Fastfood",
          "Fastfood",
          "Fastfood",
          "Fastfood",
          "Fastfood",
          "Fastfood",
          "Fastfood",
          "Fastfood",
          "Fastfood",
          "Fastfood",
          "Fastfood",
          "Fastfood",
          "Fastfood",
          "Fastfood",
          "Fastfood",
          "Fastfood",
          "Fastfood",
          "Fastfood",
          "Fastfood",
          "Fastfood",
          "Fastfood",
          "Fastfood",
          "Fastfood",
          "Fastfood",
          "Fastfood",
          "Fastfood",
          "Fastfood",
          "Fastfood",
          "Fastfood",
          "Fastfood",
          "Fastfood",
          "Fastfood",
          "Fastfood",
          "Fastfood",
          "Fastfood",
          "Fastfood",
          "Fastfood",
          "Fastfood",
          "Fastfood",
          "Fastfood",
          "Fastfood",
          "Fastfood",
          "Fastfood",
          "Fastfood",
          "Fastfood",
          "Fastfood",
          "Fastfood",
          "Fastfood",
          "Fastfood",
          "Fastfood",
          "Fastfood",
          "Fastfood",
          "Fastfood",
          "Fastfood",
          "Fastfood",
          "Fastfood",
          "Fastfood",
          "Fastfood",
          "Fastfood",
          "Fastfood",
          "Fastfood",
          "Fastfood",
          "Fastfood",
          "Fastfood",
          "Fastfood",
          "Fastfood",
          "Fastfood",
          "Fastfood",
          "Fastfood",
          "Fastfood",
          "Fastfood",
          "Fastfood",
          "Fastfood",
          "Fastfood",
          "Fastfood",
          "Fastfood",
          "Fastfood",
          "Fastfood",
          "Fastfood",
          "Fastfood",
          "Fastfood",
          "Fastfood",
          "Fastfood",
          "Fastfood",
          "Fastfood",
          "Fastfood",
          "Fastfood",
          "Fastfood",
          "Fastfood",
          "Fastfood",
          "Fastfood",
          "Fastfood",
          "Fastfood",
          "Fastfood",
          "Fastfood",
          "Fastfood",
          "Fastfood",
          "Fastfood",
          "Fastfood",
          "Fastfood",
          "Fastfood",
          "Fastfood",
          "Fastfood",
          "Fastfood",
          "Fastfood",
          "Fastfood",
          "Fastfood",
          "Fastfood",
          "Fastfood",
          "Fastfood",
          "Fastfood",
          "Fastfood",
          "Fastfood",
          "Fastfood",
          "Fastfood",
          "Fastfood",
          "Fastfood",
          "Fastfood",
          "Fastfood",
          "Fastfood",
          "Fastfood",
          "Fastfood",
          "Fastfood",
          "Fastfood",
          "Fastfood",
          "Fastfood",
          "Fastfood",
          "Fastfood",
          "Fastfood",
          "Fastfood",
          "Fastfood",
          "Fastfood",
          "Fastfood",
          "Fastfood",
          "Fastfood",
          "Fastfood",
          "Fastfood",
          "Fastfood",
          "Fastfood",
          "Fastfood",
          "Fastfood",
          "Fastfood",
          "Fastfood",
          "Fastfood",
          "Fastfood",
          "Fastfood",
          "Fastfood",
          "Fastfood",
          "Fastfood",
          "Fastfood",
          "Fastfood",
          "Fastfood",
          "Fastfood",
          "Fastfood",
          "Fastfood",
          "Fastfood",
          "Fastfood",
          "Fastfood",
          "Fastfood",
          "Fastfood",
          "Fastfood",
          "Fastfood",
          "Fastfood",
          "Fastfood",
          "Fastfood",
          "Fastfood",
          "Fastfood",
          "Fastfood",
          "Fastfood",
          "Fastfood",
          "Fastfood",
          "Fastfood",
          "Fastfood",
          "Fastfood",
          "Fastfood",
          "Fastfood",
          "Fastfood",
          "Fastfood",
          "Fastfood",
          "Fastfood",
          "Fastfood",
          "Fastfood",
          "Fastfood",
          "Fastfood",
          "Fastfood",
          "Fastfood",
          "Fastfood",
          "Fastfood",
          "Fastfood",
          "Fastfood",
          "Fastfood",
          "Fastfood",
          "Fastfood",
          "Fastfood",
          "Fastfood",
          "Fastfood",
          "Fastfood",
          "Fastfood",
          "Fastfood",
          "Fastfood",
          "Fastfood",
          "Fastfood",
          "Fastfood",
          "Fastfood",
          "Fastfood",
          "Fastfood",
          "Fastfood",
          "Fastfood",
          "Fastfood",
          "Fastfood",
          "Fastfood",
          "Fastfood",
          "Fastfood",
          "Fastfood",
          "Fastfood",
          "Fastfood",
          "Fastfood",
          "Fastfood",
          "Fastfood",
          "Fastfood",
          "Fastfood",
          "Fastfood",
          "Fastfood",
          "Fastfood",
          "Fastfood",
          "Fastfood",
          "Fastfood",
          "Fastfood",
          "Fastfood",
          "Fastfood",
          "Fastfood",
          "Fastfood",
          "Fastfood",
          "Fastfood",
          "Fastfood",
          "Fastfood",
          "Fastfood",
          "Fastfood",
          "Fastfood",
          "Fastfood",
          "Fastfood",
          "Fastfood",
          "Fastfood",
          "Fastfood",
          "Fastfood",
          "Fastfood",
          "Fastfood",
          "Fastfood",
          "Fastfood",
          "Fastfood",
          "Fastfood",
          "Fastfood",
          "Fastfood",
          "Fastfood",
          "Fastfood",
          "Fastfood",
          "Fastfood",
          "Fastfood",
          "Fastfood",
          "Fastfood",
          "Fastfood",
          "Fastfood",
          "Fastfood",
          "Fastfood",
          "Fastfood",
          "Fastfood",
          "Fastfood",
          "Fastfood",
          "Fastfood",
          "Fastfood",
          "Fastfood",
          "Fastfood",
          "Fastfood",
          "Fastfood",
          "Fastfood",
          "Fastfood",
          "Fastfood",
          "Fastfood",
          "Fastfood",
          "Fastfood",
          "Fastfood",
          "Fastfood",
          "Fastfood",
          "Fastfood",
          "Fastfood",
          "Fastfood",
          "Fastfood",
          "Fastfood",
          "Fastfood",
          "Fastfood",
          "Fastfood",
          "Fastfood",
          "Fastfood",
          "Fastfood",
          "Fastfood",
          "Fastfood",
          "Fastfood",
          "Fastfood",
          "Fastfood",
          "Fastfood",
          "Fastfood",
          "Fastfood",
          "Fastfood",
          "Fastfood",
          "Fastfood",
          "Fastfood",
          "Fastfood",
          "Fastfood",
          "Fastfood",
          "Fastfood",
          "Fastfood",
          "Fastfood",
          "Fastfood",
          "Fastfood",
          "Fastfood",
          "Fastfood",
          "Fastfood",
          "Fastfood",
          "Fastfood",
          "Fastfood",
          "Fastfood",
          "Fastfood",
          "Fastfood",
          "Fastfood",
          "Fastfood",
          "Fastfood",
          "Fastfood",
          "Fastfood",
          "Fastfood",
          "Fastfood",
          "Fastfood",
          "Fastfood",
          "Fastfood",
          "Fastfood",
          "Fastfood",
          "Fastfood",
          "Fastfood",
          "Fastfood",
          "Fastfood",
          "Fastfood",
          "Fastfood",
          "Fastfood",
          "Fastfood",
          "Fastfood",
          "Fastfood",
          "Fastfood",
          "Fastfood",
          "Fastfood",
          "Fastfood",
          "Fastfood",
          "Fastfood",
          "Fastfood",
          "Fastfood",
          "Fastfood",
          "Fastfood",
          "Fastfood",
          "Fastfood",
          "Fastfood",
          "Fastfood",
          "Fastfood",
          "Fastfood",
          "Fastfood",
          "Fastfood",
          "Fastfood",
          "Fastfood",
          "Fastfood",
          "Fastfood",
          "Fastfood",
          "Fastfood",
          "Fastfood",
          "Fastfood",
          "Fastfood",
          "Fastfood",
          "Fastfood",
          "Fastfood",
          "Fastfood",
          "Fastfood",
          "Fastfood",
          "Fastfood",
          "Fastfood",
          "Fastfood",
          "Fastfood",
          "Fastfood",
          "Fastfood",
          "Fastfood",
          "Fastfood",
          "Fastfood",
          "Fastfood",
          "Fastfood",
          "Fastfood",
          "Fastfood",
          "Fastfood",
          "Fastfood",
          "Fastfood",
          "Fastfood",
          "Fastfood",
          "Fastfood",
          "Fastfood",
          "Fastfood",
          "Fastfood",
          "Fastfood",
          "Fastfood",
          "Fastfood",
          "Fastfood",
          "Fastfood",
          "Fastfood",
          "Fastfood",
          "Fastfood",
          "Fastfood",
          "Fastfood",
          "Fastfood",
          "Fastfood",
          "Fastfood",
          "Fastfood",
          "Fastfood",
          "Fastfood",
          "Fastfood",
          "Fastfood",
          "Fastfood",
          "Fastfood",
          "Fastfood",
          "Fastfood",
          "Fastfood",
          "Fastfood",
          "Fastfood",
          "Fastfood",
          "Fastfood",
          "Fastfood",
          "Fastfood",
          "Fastfood",
          "Fastfood",
          "Fastfood",
          "Fastfood",
          "Fastfood",
          "Fastfood",
          "Fastfood",
          "Fastfood",
          "Fastfood",
          "Fastfood",
          "Fastfood",
          "Fastfood",
          "Fastfood",
          "Fastfood",
          "Fastfood",
          "Fastfood",
          "Fastfood",
          "Fastfood",
          "Fastfood",
          "Fastfood",
          "Fastfood",
          "Fastfood",
          "Fastfood",
          "Fastfood",
          "Fastfood",
          "Fastfood",
          "Fastfood",
          "Fastfood",
          "Fastfood",
          "Fastfood",
          "Fastfood",
          "Fastfood",
          "Fastfood",
          "Fastfood",
          "Fastfood",
          "Fastfood",
          "Fastfood",
          "Fastfood",
          "Fastfood",
          "Fastfood",
          "Fastfood",
          "Fastfood",
          "Fastfood",
          "Fastfood",
          "Fastfood",
          "Fastfood",
          "Fastfood",
          "Fastfood",
          "Fastfood",
          "Fastfood",
          "Fastfood",
          "Fastfood",
          "Fastfood",
          "Fastfood",
          "Fastfood",
          "Fastfood",
          "Fastfood",
          "Fastfood",
          "Fastfood",
          "Fastfood",
          "Fastfood",
          "Fastfood",
          "Fastfood",
          "Fastfood",
          "Fastfood",
          "Fastfood",
          "Fastfood",
          "Fastfood",
          "Fastfood",
          "Fastfood",
          "Fastfood",
          "Fastfood",
          "Fastfood",
          "Fastfood",
          "Fastfood",
          "Fastfood",
          "Fastfood",
          "Fastfood",
          "Fastfood",
          "Fastfood",
          "Fastfood",
          "Fastfood",
          "Fastfood",
          "Fastfood",
          "Fastfood",
          "Fastfood",
          "Fastfood",
          "Fastfood",
          "Fastfood",
          "Fastfood",
          "Fastfood",
          "Fastfood",
          "Fastfood",
          "Fastfood",
          "Fastfood",
          "Fastfood",
          "Fastfood",
          "Fastfood",
          "Fastfood",
          "Fastfood",
          "Fastfood",
          "Fastfood",
          "Fastfood",
          "Fastfood",
          "Fastfood",
          "Fastfood",
          "Fastfood",
          "Fastfood",
          "Fastfood",
          "Fastfood",
          "Fastfood",
          "Fastfood",
          "Fastfood",
          "Fastfood",
          "Fastfood",
          "Fastfood",
          "Fastfood",
          "Fastfood",
          "Fastfood",
          "Fastfood",
          "Fastfood",
          "Fastfood",
          "Fastfood",
          "Fastfood",
          "Fastfood",
          "Fastfood",
          "Fastfood",
          "Fastfood",
          "Fastfood",
          "Fastfood",
          "Fastfood",
          "Fastfood",
          "Fastfood",
          "Fastfood",
          "Fastfood",
          "Fastfood",
          "Fastfood",
          "Fastfood",
          "Fastfood",
          "Fastfood",
          "Fastfood",
          "Fastfood",
          "Fastfood",
          "Fastfood",
          "Fastfood",
          "Fastfood",
          "Fastfood",
          "Fastfood",
          "Fastfood",
          "Fastfood",
          "Fastfood",
          "Fastfood",
          "Fastfood",
          "Fastfood",
          "Fastfood",
          "Fastfood",
          "Fastfood",
          "Fastfood",
          "Fastfood",
          "Fastfood",
          "Fastfood",
          "Fastfood",
          "Fastfood",
          "Fastfood",
          "Fastfood",
          "Fastfood",
          "Fastfood",
          "Fastfood",
          "Fastfood",
          "Fastfood",
          "Fastfood",
          "Fastfood",
          "Fastfood",
          "Fastfood",
          "Fastfood",
          "Fastfood",
          "Fastfood",
          "Fastfood",
          "Fastfood",
          "Fastfood",
          "Fastfood",
          "Fastfood",
          "Fastfood",
          "Fastfood",
          "Fastfood",
          "Fastfood",
          "Fastfood",
          "Fastfood",
          "Fastfood",
          "Fastfood",
          "Fastfood",
          "Fastfood",
          "Fastfood",
          "Fastfood",
          "Fastfood",
          "Fastfood",
          "Fastfood",
          "Fastfood",
          "Fastfood",
          "Fastfood",
          "Fastfood",
          "Fastfood",
          "Fastfood",
          "Fastfood",
          "Fastfood",
          "Fastfood",
          "Fastfood",
          "Fastfood",
          "Fastfood",
          "Fastfood",
          "Fastfood",
          "Fastfood",
          "Fastfood",
          "Fastfood",
          "Fastfood",
          "Fastfood",
          "Fastfood",
          "Fastfood",
          "Fastfood",
          "Fastfood",
          "Fastfood",
          "Fastfood",
          "Fastfood",
          "Fastfood",
          "Fastfood",
          "Fastfood",
          "Fastfood"
         ],
         "xaxis": "x",
         "yaxis": "y"
        },
        {
         "alignmentgroup": "True",
         "bingroup": "x",
         "hovertemplate": "item_type=%{x}<br>count=%{y}<extra></extra>",
         "legendgroup": "Beverages",
         "marker": {
          "color": "#EF553B",
          "pattern": {
           "shape": ""
          }
         },
         "name": "Beverages",
         "offsetgroup": "Beverages",
         "orientation": "v",
         "showlegend": true,
         "type": "histogram",
         "x": [
          "Beverages",
          "Beverages",
          "Beverages",
          "Beverages",
          "Beverages",
          "Beverages",
          "Beverages",
          "Beverages",
          "Beverages",
          "Beverages",
          "Beverages",
          "Beverages",
          "Beverages",
          "Beverages",
          "Beverages",
          "Beverages",
          "Beverages",
          "Beverages",
          "Beverages",
          "Beverages",
          "Beverages",
          "Beverages",
          "Beverages",
          "Beverages",
          "Beverages",
          "Beverages",
          "Beverages",
          "Beverages",
          "Beverages",
          "Beverages",
          "Beverages",
          "Beverages",
          "Beverages",
          "Beverages",
          "Beverages",
          "Beverages",
          "Beverages",
          "Beverages",
          "Beverages",
          "Beverages",
          "Beverages",
          "Beverages",
          "Beverages",
          "Beverages",
          "Beverages",
          "Beverages",
          "Beverages",
          "Beverages",
          "Beverages",
          "Beverages",
          "Beverages",
          "Beverages",
          "Beverages",
          "Beverages",
          "Beverages",
          "Beverages",
          "Beverages",
          "Beverages",
          "Beverages",
          "Beverages",
          "Beverages",
          "Beverages",
          "Beverages",
          "Beverages",
          "Beverages",
          "Beverages",
          "Beverages",
          "Beverages",
          "Beverages",
          "Beverages",
          "Beverages",
          "Beverages",
          "Beverages",
          "Beverages",
          "Beverages",
          "Beverages",
          "Beverages",
          "Beverages",
          "Beverages",
          "Beverages",
          "Beverages",
          "Beverages",
          "Beverages",
          "Beverages",
          "Beverages",
          "Beverages",
          "Beverages",
          "Beverages",
          "Beverages",
          "Beverages",
          "Beverages",
          "Beverages",
          "Beverages",
          "Beverages",
          "Beverages",
          "Beverages",
          "Beverages",
          "Beverages",
          "Beverages",
          "Beverages",
          "Beverages",
          "Beverages",
          "Beverages",
          "Beverages",
          "Beverages",
          "Beverages",
          "Beverages",
          "Beverages",
          "Beverages",
          "Beverages",
          "Beverages",
          "Beverages",
          "Beverages",
          "Beverages",
          "Beverages",
          "Beverages",
          "Beverages",
          "Beverages",
          "Beverages",
          "Beverages",
          "Beverages",
          "Beverages",
          "Beverages",
          "Beverages",
          "Beverages",
          "Beverages",
          "Beverages",
          "Beverages",
          "Beverages",
          "Beverages",
          "Beverages",
          "Beverages",
          "Beverages",
          "Beverages",
          "Beverages",
          "Beverages",
          "Beverages",
          "Beverages",
          "Beverages",
          "Beverages",
          "Beverages",
          "Beverages",
          "Beverages",
          "Beverages",
          "Beverages",
          "Beverages",
          "Beverages",
          "Beverages",
          "Beverages",
          "Beverages",
          "Beverages",
          "Beverages",
          "Beverages",
          "Beverages",
          "Beverages",
          "Beverages",
          "Beverages",
          "Beverages",
          "Beverages",
          "Beverages",
          "Beverages",
          "Beverages",
          "Beverages",
          "Beverages",
          "Beverages",
          "Beverages",
          "Beverages",
          "Beverages",
          "Beverages",
          "Beverages",
          "Beverages",
          "Beverages",
          "Beverages",
          "Beverages",
          "Beverages",
          "Beverages",
          "Beverages",
          "Beverages",
          "Beverages",
          "Beverages",
          "Beverages",
          "Beverages",
          "Beverages",
          "Beverages",
          "Beverages",
          "Beverages",
          "Beverages",
          "Beverages",
          "Beverages",
          "Beverages",
          "Beverages",
          "Beverages",
          "Beverages",
          "Beverages",
          "Beverages",
          "Beverages",
          "Beverages",
          "Beverages",
          "Beverages",
          "Beverages",
          "Beverages",
          "Beverages",
          "Beverages",
          "Beverages",
          "Beverages",
          "Beverages",
          "Beverages",
          "Beverages",
          "Beverages",
          "Beverages",
          "Beverages",
          "Beverages",
          "Beverages",
          "Beverages",
          "Beverages",
          "Beverages",
          "Beverages",
          "Beverages",
          "Beverages",
          "Beverages",
          "Beverages",
          "Beverages",
          "Beverages",
          "Beverages",
          "Beverages",
          "Beverages",
          "Beverages",
          "Beverages",
          "Beverages",
          "Beverages",
          "Beverages",
          "Beverages",
          "Beverages",
          "Beverages",
          "Beverages",
          "Beverages",
          "Beverages",
          "Beverages",
          "Beverages",
          "Beverages",
          "Beverages",
          "Beverages",
          "Beverages",
          "Beverages",
          "Beverages",
          "Beverages",
          "Beverages",
          "Beverages",
          "Beverages",
          "Beverages",
          "Beverages",
          "Beverages",
          "Beverages",
          "Beverages",
          "Beverages",
          "Beverages",
          "Beverages",
          "Beverages",
          "Beverages",
          "Beverages",
          "Beverages",
          "Beverages",
          "Beverages",
          "Beverages",
          "Beverages",
          "Beverages",
          "Beverages",
          "Beverages",
          "Beverages",
          "Beverages",
          "Beverages",
          "Beverages",
          "Beverages",
          "Beverages",
          "Beverages",
          "Beverages",
          "Beverages",
          "Beverages",
          "Beverages",
          "Beverages",
          "Beverages",
          "Beverages",
          "Beverages",
          "Beverages",
          "Beverages",
          "Beverages",
          "Beverages",
          "Beverages",
          "Beverages",
          "Beverages",
          "Beverages",
          "Beverages",
          "Beverages",
          "Beverages",
          "Beverages",
          "Beverages",
          "Beverages",
          "Beverages",
          "Beverages",
          "Beverages",
          "Beverages",
          "Beverages",
          "Beverages",
          "Beverages",
          "Beverages",
          "Beverages",
          "Beverages",
          "Beverages",
          "Beverages",
          "Beverages",
          "Beverages",
          "Beverages",
          "Beverages",
          "Beverages"
         ],
         "xaxis": "x",
         "yaxis": "y"
        }
       ],
       "layout": {
        "barmode": "relative",
        "legend": {
         "title": {
          "text": "item_type"
         },
         "tracegroupgap": 0
        },
        "template": {
         "data": {
          "bar": [
           {
            "error_x": {
             "color": "#2a3f5f"
            },
            "error_y": {
             "color": "#2a3f5f"
            },
            "marker": {
             "line": {
              "color": "#E5ECF6",
              "width": 0.5
             },
             "pattern": {
              "fillmode": "overlay",
              "size": 10,
              "solidity": 0.2
             }
            },
            "type": "bar"
           }
          ],
          "barpolar": [
           {
            "marker": {
             "line": {
              "color": "#E5ECF6",
              "width": 0.5
             },
             "pattern": {
              "fillmode": "overlay",
              "size": 10,
              "solidity": 0.2
             }
            },
            "type": "barpolar"
           }
          ],
          "carpet": [
           {
            "aaxis": {
             "endlinecolor": "#2a3f5f",
             "gridcolor": "white",
             "linecolor": "white",
             "minorgridcolor": "white",
             "startlinecolor": "#2a3f5f"
            },
            "baxis": {
             "endlinecolor": "#2a3f5f",
             "gridcolor": "white",
             "linecolor": "white",
             "minorgridcolor": "white",
             "startlinecolor": "#2a3f5f"
            },
            "type": "carpet"
           }
          ],
          "choropleth": [
           {
            "colorbar": {
             "outlinewidth": 0,
             "ticks": ""
            },
            "type": "choropleth"
           }
          ],
          "contour": [
           {
            "colorbar": {
             "outlinewidth": 0,
             "ticks": ""
            },
            "colorscale": [
             [
              0,
              "#0d0887"
             ],
             [
              0.1111111111111111,
              "#46039f"
             ],
             [
              0.2222222222222222,
              "#7201a8"
             ],
             [
              0.3333333333333333,
              "#9c179e"
             ],
             [
              0.4444444444444444,
              "#bd3786"
             ],
             [
              0.5555555555555556,
              "#d8576b"
             ],
             [
              0.6666666666666666,
              "#ed7953"
             ],
             [
              0.7777777777777778,
              "#fb9f3a"
             ],
             [
              0.8888888888888888,
              "#fdca26"
             ],
             [
              1,
              "#f0f921"
             ]
            ],
            "type": "contour"
           }
          ],
          "contourcarpet": [
           {
            "colorbar": {
             "outlinewidth": 0,
             "ticks": ""
            },
            "type": "contourcarpet"
           }
          ],
          "heatmap": [
           {
            "colorbar": {
             "outlinewidth": 0,
             "ticks": ""
            },
            "colorscale": [
             [
              0,
              "#0d0887"
             ],
             [
              0.1111111111111111,
              "#46039f"
             ],
             [
              0.2222222222222222,
              "#7201a8"
             ],
             [
              0.3333333333333333,
              "#9c179e"
             ],
             [
              0.4444444444444444,
              "#bd3786"
             ],
             [
              0.5555555555555556,
              "#d8576b"
             ],
             [
              0.6666666666666666,
              "#ed7953"
             ],
             [
              0.7777777777777778,
              "#fb9f3a"
             ],
             [
              0.8888888888888888,
              "#fdca26"
             ],
             [
              1,
              "#f0f921"
             ]
            ],
            "type": "heatmap"
           }
          ],
          "heatmapgl": [
           {
            "colorbar": {
             "outlinewidth": 0,
             "ticks": ""
            },
            "colorscale": [
             [
              0,
              "#0d0887"
             ],
             [
              0.1111111111111111,
              "#46039f"
             ],
             [
              0.2222222222222222,
              "#7201a8"
             ],
             [
              0.3333333333333333,
              "#9c179e"
             ],
             [
              0.4444444444444444,
              "#bd3786"
             ],
             [
              0.5555555555555556,
              "#d8576b"
             ],
             [
              0.6666666666666666,
              "#ed7953"
             ],
             [
              0.7777777777777778,
              "#fb9f3a"
             ],
             [
              0.8888888888888888,
              "#fdca26"
             ],
             [
              1,
              "#f0f921"
             ]
            ],
            "type": "heatmapgl"
           }
          ],
          "histogram": [
           {
            "marker": {
             "pattern": {
              "fillmode": "overlay",
              "size": 10,
              "solidity": 0.2
             }
            },
            "type": "histogram"
           }
          ],
          "histogram2d": [
           {
            "colorbar": {
             "outlinewidth": 0,
             "ticks": ""
            },
            "colorscale": [
             [
              0,
              "#0d0887"
             ],
             [
              0.1111111111111111,
              "#46039f"
             ],
             [
              0.2222222222222222,
              "#7201a8"
             ],
             [
              0.3333333333333333,
              "#9c179e"
             ],
             [
              0.4444444444444444,
              "#bd3786"
             ],
             [
              0.5555555555555556,
              "#d8576b"
             ],
             [
              0.6666666666666666,
              "#ed7953"
             ],
             [
              0.7777777777777778,
              "#fb9f3a"
             ],
             [
              0.8888888888888888,
              "#fdca26"
             ],
             [
              1,
              "#f0f921"
             ]
            ],
            "type": "histogram2d"
           }
          ],
          "histogram2dcontour": [
           {
            "colorbar": {
             "outlinewidth": 0,
             "ticks": ""
            },
            "colorscale": [
             [
              0,
              "#0d0887"
             ],
             [
              0.1111111111111111,
              "#46039f"
             ],
             [
              0.2222222222222222,
              "#7201a8"
             ],
             [
              0.3333333333333333,
              "#9c179e"
             ],
             [
              0.4444444444444444,
              "#bd3786"
             ],
             [
              0.5555555555555556,
              "#d8576b"
             ],
             [
              0.6666666666666666,
              "#ed7953"
             ],
             [
              0.7777777777777778,
              "#fb9f3a"
             ],
             [
              0.8888888888888888,
              "#fdca26"
             ],
             [
              1,
              "#f0f921"
             ]
            ],
            "type": "histogram2dcontour"
           }
          ],
          "mesh3d": [
           {
            "colorbar": {
             "outlinewidth": 0,
             "ticks": ""
            },
            "type": "mesh3d"
           }
          ],
          "parcoords": [
           {
            "line": {
             "colorbar": {
              "outlinewidth": 0,
              "ticks": ""
             }
            },
            "type": "parcoords"
           }
          ],
          "pie": [
           {
            "automargin": true,
            "type": "pie"
           }
          ],
          "scatter": [
           {
            "fillpattern": {
             "fillmode": "overlay",
             "size": 10,
             "solidity": 0.2
            },
            "type": "scatter"
           }
          ],
          "scatter3d": [
           {
            "line": {
             "colorbar": {
              "outlinewidth": 0,
              "ticks": ""
             }
            },
            "marker": {
             "colorbar": {
              "outlinewidth": 0,
              "ticks": ""
             }
            },
            "type": "scatter3d"
           }
          ],
          "scattercarpet": [
           {
            "marker": {
             "colorbar": {
              "outlinewidth": 0,
              "ticks": ""
             }
            },
            "type": "scattercarpet"
           }
          ],
          "scattergeo": [
           {
            "marker": {
             "colorbar": {
              "outlinewidth": 0,
              "ticks": ""
             }
            },
            "type": "scattergeo"
           }
          ],
          "scattergl": [
           {
            "marker": {
             "colorbar": {
              "outlinewidth": 0,
              "ticks": ""
             }
            },
            "type": "scattergl"
           }
          ],
          "scattermapbox": [
           {
            "marker": {
             "colorbar": {
              "outlinewidth": 0,
              "ticks": ""
             }
            },
            "type": "scattermapbox"
           }
          ],
          "scatterpolar": [
           {
            "marker": {
             "colorbar": {
              "outlinewidth": 0,
              "ticks": ""
             }
            },
            "type": "scatterpolar"
           }
          ],
          "scatterpolargl": [
           {
            "marker": {
             "colorbar": {
              "outlinewidth": 0,
              "ticks": ""
             }
            },
            "type": "scatterpolargl"
           }
          ],
          "scatterternary": [
           {
            "marker": {
             "colorbar": {
              "outlinewidth": 0,
              "ticks": ""
             }
            },
            "type": "scatterternary"
           }
          ],
          "surface": [
           {
            "colorbar": {
             "outlinewidth": 0,
             "ticks": ""
            },
            "colorscale": [
             [
              0,
              "#0d0887"
             ],
             [
              0.1111111111111111,
              "#46039f"
             ],
             [
              0.2222222222222222,
              "#7201a8"
             ],
             [
              0.3333333333333333,
              "#9c179e"
             ],
             [
              0.4444444444444444,
              "#bd3786"
             ],
             [
              0.5555555555555556,
              "#d8576b"
             ],
             [
              0.6666666666666666,
              "#ed7953"
             ],
             [
              0.7777777777777778,
              "#fb9f3a"
             ],
             [
              0.8888888888888888,
              "#fdca26"
             ],
             [
              1,
              "#f0f921"
             ]
            ],
            "type": "surface"
           }
          ],
          "table": [
           {
            "cells": {
             "fill": {
              "color": "#EBF0F8"
             },
             "line": {
              "color": "white"
             }
            },
            "header": {
             "fill": {
              "color": "#C8D4E3"
             },
             "line": {
              "color": "white"
             }
            },
            "type": "table"
           }
          ]
         },
         "layout": {
          "annotationdefaults": {
           "arrowcolor": "#2a3f5f",
           "arrowhead": 0,
           "arrowwidth": 1
          },
          "autotypenumbers": "strict",
          "coloraxis": {
           "colorbar": {
            "outlinewidth": 0,
            "ticks": ""
           }
          },
          "colorscale": {
           "diverging": [
            [
             0,
             "#8e0152"
            ],
            [
             0.1,
             "#c51b7d"
            ],
            [
             0.2,
             "#de77ae"
            ],
            [
             0.3,
             "#f1b6da"
            ],
            [
             0.4,
             "#fde0ef"
            ],
            [
             0.5,
             "#f7f7f7"
            ],
            [
             0.6,
             "#e6f5d0"
            ],
            [
             0.7,
             "#b8e186"
            ],
            [
             0.8,
             "#7fbc41"
            ],
            [
             0.9,
             "#4d9221"
            ],
            [
             1,
             "#276419"
            ]
           ],
           "sequential": [
            [
             0,
             "#0d0887"
            ],
            [
             0.1111111111111111,
             "#46039f"
            ],
            [
             0.2222222222222222,
             "#7201a8"
            ],
            [
             0.3333333333333333,
             "#9c179e"
            ],
            [
             0.4444444444444444,
             "#bd3786"
            ],
            [
             0.5555555555555556,
             "#d8576b"
            ],
            [
             0.6666666666666666,
             "#ed7953"
            ],
            [
             0.7777777777777778,
             "#fb9f3a"
            ],
            [
             0.8888888888888888,
             "#fdca26"
            ],
            [
             1,
             "#f0f921"
            ]
           ],
           "sequentialminus": [
            [
             0,
             "#0d0887"
            ],
            [
             0.1111111111111111,
             "#46039f"
            ],
            [
             0.2222222222222222,
             "#7201a8"
            ],
            [
             0.3333333333333333,
             "#9c179e"
            ],
            [
             0.4444444444444444,
             "#bd3786"
            ],
            [
             0.5555555555555556,
             "#d8576b"
            ],
            [
             0.6666666666666666,
             "#ed7953"
            ],
            [
             0.7777777777777778,
             "#fb9f3a"
            ],
            [
             0.8888888888888888,
             "#fdca26"
            ],
            [
             1,
             "#f0f921"
            ]
           ]
          },
          "colorway": [
           "#636efa",
           "#EF553B",
           "#00cc96",
           "#ab63fa",
           "#FFA15A",
           "#19d3f3",
           "#FF6692",
           "#B6E880",
           "#FF97FF",
           "#FECB52"
          ],
          "font": {
           "color": "#2a3f5f"
          },
          "geo": {
           "bgcolor": "white",
           "lakecolor": "white",
           "landcolor": "#E5ECF6",
           "showlakes": true,
           "showland": true,
           "subunitcolor": "white"
          },
          "hoverlabel": {
           "align": "left"
          },
          "hovermode": "closest",
          "mapbox": {
           "style": "light"
          },
          "paper_bgcolor": "white",
          "plot_bgcolor": "#E5ECF6",
          "polar": {
           "angularaxis": {
            "gridcolor": "white",
            "linecolor": "white",
            "ticks": ""
           },
           "bgcolor": "#E5ECF6",
           "radialaxis": {
            "gridcolor": "white",
            "linecolor": "white",
            "ticks": ""
           }
          },
          "scene": {
           "xaxis": {
            "backgroundcolor": "#E5ECF6",
            "gridcolor": "white",
            "gridwidth": 2,
            "linecolor": "white",
            "showbackground": true,
            "ticks": "",
            "zerolinecolor": "white"
           },
           "yaxis": {
            "backgroundcolor": "#E5ECF6",
            "gridcolor": "white",
            "gridwidth": 2,
            "linecolor": "white",
            "showbackground": true,
            "ticks": "",
            "zerolinecolor": "white"
           },
           "zaxis": {
            "backgroundcolor": "#E5ECF6",
            "gridcolor": "white",
            "gridwidth": 2,
            "linecolor": "white",
            "showbackground": true,
            "ticks": "",
            "zerolinecolor": "white"
           }
          },
          "shapedefaults": {
           "line": {
            "color": "#2a3f5f"
           }
          },
          "ternary": {
           "aaxis": {
            "gridcolor": "white",
            "linecolor": "white",
            "ticks": ""
           },
           "baxis": {
            "gridcolor": "white",
            "linecolor": "white",
            "ticks": ""
           },
           "bgcolor": "#E5ECF6",
           "caxis": {
            "gridcolor": "white",
            "linecolor": "white",
            "ticks": ""
           }
          },
          "title": {
           "x": 0.05
          },
          "xaxis": {
           "automargin": true,
           "gridcolor": "white",
           "linecolor": "white",
           "ticks": "",
           "title": {
            "standoff": 15
           },
           "zerolinecolor": "white",
           "zerolinewidth": 2
          },
          "yaxis": {
           "automargin": true,
           "gridcolor": "white",
           "linecolor": "white",
           "ticks": "",
           "title": {
            "standoff": 15
           },
           "zerolinecolor": "white",
           "zerolinewidth": 2
          }
         }
        },
        "title": {
         "text": "Type of food sold most"
        },
        "xaxis": {
         "anchor": "y",
         "categoryarray": [
          "Fastfood",
          "Beverages"
         ],
         "categoryorder": "array",
         "domain": [
          0,
          1
         ],
         "title": {
          "text": "item_type"
         }
        },
        "yaxis": {
         "anchor": "x",
         "domain": [
          0,
          1
         ],
         "title": {
          "text": "count"
         }
        }
       }
      }
     },
     "metadata": {},
     "output_type": "display_data"
    }
   ],
   "source": [
    "fig=px.histogram(df,x=\"item_type\",title=\"Type of food sold most\",color=\"item_type\")\n",
    "fig.show()"
   ]
  },
  {
   "cell_type": "markdown",
   "metadata": {},
   "source": [
    "Which type of item has more revenue?"
   ]
  },
  {
   "cell_type": "code",
   "execution_count": 42,
   "metadata": {},
   "outputs": [
    {
     "data": {
      "text/html": [
       "<div>\n",
       "<style scoped>\n",
       "    .dataframe tbody tr th:only-of-type {\n",
       "        vertical-align: middle;\n",
       "    }\n",
       "\n",
       "    .dataframe tbody tr th {\n",
       "        vertical-align: top;\n",
       "    }\n",
       "\n",
       "    .dataframe thead th {\n",
       "        text-align: right;\n",
       "    }\n",
       "</style>\n",
       "<table border=\"1\" class=\"dataframe\">\n",
       "  <thead>\n",
       "    <tr style=\"text-align: right;\">\n",
       "      <th></th>\n",
       "      <th>item_type</th>\n",
       "      <th>Revenue</th>\n",
       "    </tr>\n",
       "  </thead>\n",
       "  <tbody>\n",
       "    <tr>\n",
       "      <th>0</th>\n",
       "      <td>Beverages</td>\n",
       "      <td>86390</td>\n",
       "    </tr>\n",
       "    <tr>\n",
       "      <th>1</th>\n",
       "      <td>Fastfood</td>\n",
       "      <td>188840</td>\n",
       "    </tr>\n",
       "  </tbody>\n",
       "</table>\n",
       "</div>"
      ],
      "text/plain": [
       "   item_type  Revenue\n",
       "0  Beverages    86390\n",
       "1   Fastfood   188840"
      ]
     },
     "execution_count": 42,
     "metadata": {},
     "output_type": "execute_result"
    }
   ],
   "source": [
    "d1=df.groupby(\"item_type\")[\"Revenue\"].sum().reset_index()\n",
    "d1"
   ]
  },
  {
   "cell_type": "code",
   "execution_count": 43,
   "metadata": {},
   "outputs": [
    {
     "data": {
      "text/plain": [
       "Index(['item_type', 'Revenue'], dtype='object')"
      ]
     },
     "execution_count": 43,
     "metadata": {},
     "output_type": "execute_result"
    }
   ],
   "source": [
    "d1.columns"
   ]
  },
  {
   "cell_type": "code",
   "execution_count": 44,
   "metadata": {},
   "outputs": [
    {
     "data": {
      "application/vnd.plotly.v1+json": {
       "config": {
        "plotlyServerURL": "https://plot.ly"
       },
       "data": [
        {
         "alignmentgroup": "True",
         "hovertemplate": "item_type=%{x}<br>Revenue=%{y}<extra></extra>",
         "legendgroup": "Beverages",
         "marker": {
          "color": "#636efa",
          "pattern": {
           "shape": ""
          }
         },
         "name": "Beverages",
         "offsetgroup": "Beverages",
         "orientation": "v",
         "showlegend": true,
         "textposition": "auto",
         "type": "bar",
         "x": [
          "Beverages"
         ],
         "xaxis": "x",
         "y": [
          86390
         ],
         "yaxis": "y"
        },
        {
         "alignmentgroup": "True",
         "hovertemplate": "item_type=%{x}<br>Revenue=%{y}<extra></extra>",
         "legendgroup": "Fastfood",
         "marker": {
          "color": "#EF553B",
          "pattern": {
           "shape": ""
          }
         },
         "name": "Fastfood",
         "offsetgroup": "Fastfood",
         "orientation": "v",
         "showlegend": true,
         "textposition": "auto",
         "type": "bar",
         "x": [
          "Fastfood"
         ],
         "xaxis": "x",
         "y": [
          188840
         ],
         "yaxis": "y"
        }
       ],
       "layout": {
        "barmode": "relative",
        "legend": {
         "title": {
          "text": "item_type"
         },
         "tracegroupgap": 0
        },
        "template": {
         "data": {
          "bar": [
           {
            "error_x": {
             "color": "#2a3f5f"
            },
            "error_y": {
             "color": "#2a3f5f"
            },
            "marker": {
             "line": {
              "color": "#E5ECF6",
              "width": 0.5
             },
             "pattern": {
              "fillmode": "overlay",
              "size": 10,
              "solidity": 0.2
             }
            },
            "type": "bar"
           }
          ],
          "barpolar": [
           {
            "marker": {
             "line": {
              "color": "#E5ECF6",
              "width": 0.5
             },
             "pattern": {
              "fillmode": "overlay",
              "size": 10,
              "solidity": 0.2
             }
            },
            "type": "barpolar"
           }
          ],
          "carpet": [
           {
            "aaxis": {
             "endlinecolor": "#2a3f5f",
             "gridcolor": "white",
             "linecolor": "white",
             "minorgridcolor": "white",
             "startlinecolor": "#2a3f5f"
            },
            "baxis": {
             "endlinecolor": "#2a3f5f",
             "gridcolor": "white",
             "linecolor": "white",
             "minorgridcolor": "white",
             "startlinecolor": "#2a3f5f"
            },
            "type": "carpet"
           }
          ],
          "choropleth": [
           {
            "colorbar": {
             "outlinewidth": 0,
             "ticks": ""
            },
            "type": "choropleth"
           }
          ],
          "contour": [
           {
            "colorbar": {
             "outlinewidth": 0,
             "ticks": ""
            },
            "colorscale": [
             [
              0,
              "#0d0887"
             ],
             [
              0.1111111111111111,
              "#46039f"
             ],
             [
              0.2222222222222222,
              "#7201a8"
             ],
             [
              0.3333333333333333,
              "#9c179e"
             ],
             [
              0.4444444444444444,
              "#bd3786"
             ],
             [
              0.5555555555555556,
              "#d8576b"
             ],
             [
              0.6666666666666666,
              "#ed7953"
             ],
             [
              0.7777777777777778,
              "#fb9f3a"
             ],
             [
              0.8888888888888888,
              "#fdca26"
             ],
             [
              1,
              "#f0f921"
             ]
            ],
            "type": "contour"
           }
          ],
          "contourcarpet": [
           {
            "colorbar": {
             "outlinewidth": 0,
             "ticks": ""
            },
            "type": "contourcarpet"
           }
          ],
          "heatmap": [
           {
            "colorbar": {
             "outlinewidth": 0,
             "ticks": ""
            },
            "colorscale": [
             [
              0,
              "#0d0887"
             ],
             [
              0.1111111111111111,
              "#46039f"
             ],
             [
              0.2222222222222222,
              "#7201a8"
             ],
             [
              0.3333333333333333,
              "#9c179e"
             ],
             [
              0.4444444444444444,
              "#bd3786"
             ],
             [
              0.5555555555555556,
              "#d8576b"
             ],
             [
              0.6666666666666666,
              "#ed7953"
             ],
             [
              0.7777777777777778,
              "#fb9f3a"
             ],
             [
              0.8888888888888888,
              "#fdca26"
             ],
             [
              1,
              "#f0f921"
             ]
            ],
            "type": "heatmap"
           }
          ],
          "heatmapgl": [
           {
            "colorbar": {
             "outlinewidth": 0,
             "ticks": ""
            },
            "colorscale": [
             [
              0,
              "#0d0887"
             ],
             [
              0.1111111111111111,
              "#46039f"
             ],
             [
              0.2222222222222222,
              "#7201a8"
             ],
             [
              0.3333333333333333,
              "#9c179e"
             ],
             [
              0.4444444444444444,
              "#bd3786"
             ],
             [
              0.5555555555555556,
              "#d8576b"
             ],
             [
              0.6666666666666666,
              "#ed7953"
             ],
             [
              0.7777777777777778,
              "#fb9f3a"
             ],
             [
              0.8888888888888888,
              "#fdca26"
             ],
             [
              1,
              "#f0f921"
             ]
            ],
            "type": "heatmapgl"
           }
          ],
          "histogram": [
           {
            "marker": {
             "pattern": {
              "fillmode": "overlay",
              "size": 10,
              "solidity": 0.2
             }
            },
            "type": "histogram"
           }
          ],
          "histogram2d": [
           {
            "colorbar": {
             "outlinewidth": 0,
             "ticks": ""
            },
            "colorscale": [
             [
              0,
              "#0d0887"
             ],
             [
              0.1111111111111111,
              "#46039f"
             ],
             [
              0.2222222222222222,
              "#7201a8"
             ],
             [
              0.3333333333333333,
              "#9c179e"
             ],
             [
              0.4444444444444444,
              "#bd3786"
             ],
             [
              0.5555555555555556,
              "#d8576b"
             ],
             [
              0.6666666666666666,
              "#ed7953"
             ],
             [
              0.7777777777777778,
              "#fb9f3a"
             ],
             [
              0.8888888888888888,
              "#fdca26"
             ],
             [
              1,
              "#f0f921"
             ]
            ],
            "type": "histogram2d"
           }
          ],
          "histogram2dcontour": [
           {
            "colorbar": {
             "outlinewidth": 0,
             "ticks": ""
            },
            "colorscale": [
             [
              0,
              "#0d0887"
             ],
             [
              0.1111111111111111,
              "#46039f"
             ],
             [
              0.2222222222222222,
              "#7201a8"
             ],
             [
              0.3333333333333333,
              "#9c179e"
             ],
             [
              0.4444444444444444,
              "#bd3786"
             ],
             [
              0.5555555555555556,
              "#d8576b"
             ],
             [
              0.6666666666666666,
              "#ed7953"
             ],
             [
              0.7777777777777778,
              "#fb9f3a"
             ],
             [
              0.8888888888888888,
              "#fdca26"
             ],
             [
              1,
              "#f0f921"
             ]
            ],
            "type": "histogram2dcontour"
           }
          ],
          "mesh3d": [
           {
            "colorbar": {
             "outlinewidth": 0,
             "ticks": ""
            },
            "type": "mesh3d"
           }
          ],
          "parcoords": [
           {
            "line": {
             "colorbar": {
              "outlinewidth": 0,
              "ticks": ""
             }
            },
            "type": "parcoords"
           }
          ],
          "pie": [
           {
            "automargin": true,
            "type": "pie"
           }
          ],
          "scatter": [
           {
            "fillpattern": {
             "fillmode": "overlay",
             "size": 10,
             "solidity": 0.2
            },
            "type": "scatter"
           }
          ],
          "scatter3d": [
           {
            "line": {
             "colorbar": {
              "outlinewidth": 0,
              "ticks": ""
             }
            },
            "marker": {
             "colorbar": {
              "outlinewidth": 0,
              "ticks": ""
             }
            },
            "type": "scatter3d"
           }
          ],
          "scattercarpet": [
           {
            "marker": {
             "colorbar": {
              "outlinewidth": 0,
              "ticks": ""
             }
            },
            "type": "scattercarpet"
           }
          ],
          "scattergeo": [
           {
            "marker": {
             "colorbar": {
              "outlinewidth": 0,
              "ticks": ""
             }
            },
            "type": "scattergeo"
           }
          ],
          "scattergl": [
           {
            "marker": {
             "colorbar": {
              "outlinewidth": 0,
              "ticks": ""
             }
            },
            "type": "scattergl"
           }
          ],
          "scattermapbox": [
           {
            "marker": {
             "colorbar": {
              "outlinewidth": 0,
              "ticks": ""
             }
            },
            "type": "scattermapbox"
           }
          ],
          "scatterpolar": [
           {
            "marker": {
             "colorbar": {
              "outlinewidth": 0,
              "ticks": ""
             }
            },
            "type": "scatterpolar"
           }
          ],
          "scatterpolargl": [
           {
            "marker": {
             "colorbar": {
              "outlinewidth": 0,
              "ticks": ""
             }
            },
            "type": "scatterpolargl"
           }
          ],
          "scatterternary": [
           {
            "marker": {
             "colorbar": {
              "outlinewidth": 0,
              "ticks": ""
             }
            },
            "type": "scatterternary"
           }
          ],
          "surface": [
           {
            "colorbar": {
             "outlinewidth": 0,
             "ticks": ""
            },
            "colorscale": [
             [
              0,
              "#0d0887"
             ],
             [
              0.1111111111111111,
              "#46039f"
             ],
             [
              0.2222222222222222,
              "#7201a8"
             ],
             [
              0.3333333333333333,
              "#9c179e"
             ],
             [
              0.4444444444444444,
              "#bd3786"
             ],
             [
              0.5555555555555556,
              "#d8576b"
             ],
             [
              0.6666666666666666,
              "#ed7953"
             ],
             [
              0.7777777777777778,
              "#fb9f3a"
             ],
             [
              0.8888888888888888,
              "#fdca26"
             ],
             [
              1,
              "#f0f921"
             ]
            ],
            "type": "surface"
           }
          ],
          "table": [
           {
            "cells": {
             "fill": {
              "color": "#EBF0F8"
             },
             "line": {
              "color": "white"
             }
            },
            "header": {
             "fill": {
              "color": "#C8D4E3"
             },
             "line": {
              "color": "white"
             }
            },
            "type": "table"
           }
          ]
         },
         "layout": {
          "annotationdefaults": {
           "arrowcolor": "#2a3f5f",
           "arrowhead": 0,
           "arrowwidth": 1
          },
          "autotypenumbers": "strict",
          "coloraxis": {
           "colorbar": {
            "outlinewidth": 0,
            "ticks": ""
           }
          },
          "colorscale": {
           "diverging": [
            [
             0,
             "#8e0152"
            ],
            [
             0.1,
             "#c51b7d"
            ],
            [
             0.2,
             "#de77ae"
            ],
            [
             0.3,
             "#f1b6da"
            ],
            [
             0.4,
             "#fde0ef"
            ],
            [
             0.5,
             "#f7f7f7"
            ],
            [
             0.6,
             "#e6f5d0"
            ],
            [
             0.7,
             "#b8e186"
            ],
            [
             0.8,
             "#7fbc41"
            ],
            [
             0.9,
             "#4d9221"
            ],
            [
             1,
             "#276419"
            ]
           ],
           "sequential": [
            [
             0,
             "#0d0887"
            ],
            [
             0.1111111111111111,
             "#46039f"
            ],
            [
             0.2222222222222222,
             "#7201a8"
            ],
            [
             0.3333333333333333,
             "#9c179e"
            ],
            [
             0.4444444444444444,
             "#bd3786"
            ],
            [
             0.5555555555555556,
             "#d8576b"
            ],
            [
             0.6666666666666666,
             "#ed7953"
            ],
            [
             0.7777777777777778,
             "#fb9f3a"
            ],
            [
             0.8888888888888888,
             "#fdca26"
            ],
            [
             1,
             "#f0f921"
            ]
           ],
           "sequentialminus": [
            [
             0,
             "#0d0887"
            ],
            [
             0.1111111111111111,
             "#46039f"
            ],
            [
             0.2222222222222222,
             "#7201a8"
            ],
            [
             0.3333333333333333,
             "#9c179e"
            ],
            [
             0.4444444444444444,
             "#bd3786"
            ],
            [
             0.5555555555555556,
             "#d8576b"
            ],
            [
             0.6666666666666666,
             "#ed7953"
            ],
            [
             0.7777777777777778,
             "#fb9f3a"
            ],
            [
             0.8888888888888888,
             "#fdca26"
            ],
            [
             1,
             "#f0f921"
            ]
           ]
          },
          "colorway": [
           "#636efa",
           "#EF553B",
           "#00cc96",
           "#ab63fa",
           "#FFA15A",
           "#19d3f3",
           "#FF6692",
           "#B6E880",
           "#FF97FF",
           "#FECB52"
          ],
          "font": {
           "color": "#2a3f5f"
          },
          "geo": {
           "bgcolor": "white",
           "lakecolor": "white",
           "landcolor": "#E5ECF6",
           "showlakes": true,
           "showland": true,
           "subunitcolor": "white"
          },
          "hoverlabel": {
           "align": "left"
          },
          "hovermode": "closest",
          "mapbox": {
           "style": "light"
          },
          "paper_bgcolor": "white",
          "plot_bgcolor": "#E5ECF6",
          "polar": {
           "angularaxis": {
            "gridcolor": "white",
            "linecolor": "white",
            "ticks": ""
           },
           "bgcolor": "#E5ECF6",
           "radialaxis": {
            "gridcolor": "white",
            "linecolor": "white",
            "ticks": ""
           }
          },
          "scene": {
           "xaxis": {
            "backgroundcolor": "#E5ECF6",
            "gridcolor": "white",
            "gridwidth": 2,
            "linecolor": "white",
            "showbackground": true,
            "ticks": "",
            "zerolinecolor": "white"
           },
           "yaxis": {
            "backgroundcolor": "#E5ECF6",
            "gridcolor": "white",
            "gridwidth": 2,
            "linecolor": "white",
            "showbackground": true,
            "ticks": "",
            "zerolinecolor": "white"
           },
           "zaxis": {
            "backgroundcolor": "#E5ECF6",
            "gridcolor": "white",
            "gridwidth": 2,
            "linecolor": "white",
            "showbackground": true,
            "ticks": "",
            "zerolinecolor": "white"
           }
          },
          "shapedefaults": {
           "line": {
            "color": "#2a3f5f"
           }
          },
          "ternary": {
           "aaxis": {
            "gridcolor": "white",
            "linecolor": "white",
            "ticks": ""
           },
           "baxis": {
            "gridcolor": "white",
            "linecolor": "white",
            "ticks": ""
           },
           "bgcolor": "#E5ECF6",
           "caxis": {
            "gridcolor": "white",
            "linecolor": "white",
            "ticks": ""
           }
          },
          "title": {
           "x": 0.05
          },
          "xaxis": {
           "automargin": true,
           "gridcolor": "white",
           "linecolor": "white",
           "ticks": "",
           "title": {
            "standoff": 15
           },
           "zerolinecolor": "white",
           "zerolinewidth": 2
          },
          "yaxis": {
           "automargin": true,
           "gridcolor": "white",
           "linecolor": "white",
           "ticks": "",
           "title": {
            "standoff": 15
           },
           "zerolinecolor": "white",
           "zerolinewidth": 2
          }
         }
        },
        "title": {
         "text": "Revenue generated for item type"
        },
        "xaxis": {
         "anchor": "y",
         "categoryarray": [
          "Beverages",
          "Fastfood"
         ],
         "categoryorder": "array",
         "domain": [
          0,
          1
         ],
         "title": {
          "text": "item_type"
         }
        },
        "yaxis": {
         "anchor": "x",
         "domain": [
          0,
          1
         ],
         "title": {
          "text": "Revenue"
         }
        }
       }
      }
     },
     "metadata": {},
     "output_type": "display_data"
    }
   ],
   "source": [
    "fig=px.bar(d1,x=\"item_type\",y=\"Revenue\",title=\"Revenue generated for item type\",color=\"item_type\")\n",
    "fig.show()"
   ]
  },
  {
   "cell_type": "markdown",
   "metadata": {},
   "source": [
    "Most selling item in hotel"
   ]
  },
  {
   "cell_type": "code",
   "execution_count": 45,
   "metadata": {},
   "outputs": [
    {
     "data": {
      "application/vnd.plotly.v1+json": {
       "config": {
        "plotlyServerURL": "https://plot.ly"
       },
       "data": [
        {
         "alignmentgroup": "True",
         "bingroup": "x",
         "hovertemplate": "item_name=%{x}<br>count=%{y}<extra></extra>",
         "legendgroup": "Aalopuri",
         "marker": {
          "color": "#636efa",
          "pattern": {
           "shape": ""
          }
         },
         "name": "Aalopuri",
         "offsetgroup": "Aalopuri",
         "orientation": "v",
         "showlegend": true,
         "textposition": "outside",
         "texttemplate": "%{y}",
         "type": "histogram",
         "x": [
          "Aalopuri",
          "Aalopuri",
          "Aalopuri",
          "Aalopuri",
          "Aalopuri",
          "Aalopuri",
          "Aalopuri",
          "Aalopuri",
          "Aalopuri",
          "Aalopuri",
          "Aalopuri",
          "Aalopuri",
          "Aalopuri",
          "Aalopuri",
          "Aalopuri",
          "Aalopuri",
          "Aalopuri",
          "Aalopuri",
          "Aalopuri",
          "Aalopuri",
          "Aalopuri",
          "Aalopuri",
          "Aalopuri",
          "Aalopuri",
          "Aalopuri",
          "Aalopuri",
          "Aalopuri",
          "Aalopuri",
          "Aalopuri",
          "Aalopuri",
          "Aalopuri",
          "Aalopuri",
          "Aalopuri",
          "Aalopuri",
          "Aalopuri",
          "Aalopuri",
          "Aalopuri",
          "Aalopuri",
          "Aalopuri",
          "Aalopuri",
          "Aalopuri",
          "Aalopuri",
          "Aalopuri",
          "Aalopuri",
          "Aalopuri",
          "Aalopuri",
          "Aalopuri",
          "Aalopuri",
          "Aalopuri",
          "Aalopuri",
          "Aalopuri",
          "Aalopuri",
          "Aalopuri",
          "Aalopuri",
          "Aalopuri",
          "Aalopuri",
          "Aalopuri",
          "Aalopuri",
          "Aalopuri",
          "Aalopuri",
          "Aalopuri",
          "Aalopuri",
          "Aalopuri",
          "Aalopuri",
          "Aalopuri",
          "Aalopuri",
          "Aalopuri",
          "Aalopuri",
          "Aalopuri",
          "Aalopuri",
          "Aalopuri",
          "Aalopuri",
          "Aalopuri",
          "Aalopuri",
          "Aalopuri",
          "Aalopuri",
          "Aalopuri",
          "Aalopuri",
          "Aalopuri",
          "Aalopuri",
          "Aalopuri",
          "Aalopuri",
          "Aalopuri",
          "Aalopuri",
          "Aalopuri",
          "Aalopuri",
          "Aalopuri",
          "Aalopuri",
          "Aalopuri",
          "Aalopuri",
          "Aalopuri",
          "Aalopuri",
          "Aalopuri",
          "Aalopuri",
          "Aalopuri",
          "Aalopuri",
          "Aalopuri",
          "Aalopuri",
          "Aalopuri",
          "Aalopuri",
          "Aalopuri",
          "Aalopuri",
          "Aalopuri",
          "Aalopuri",
          "Aalopuri",
          "Aalopuri",
          "Aalopuri",
          "Aalopuri",
          "Aalopuri",
          "Aalopuri",
          "Aalopuri",
          "Aalopuri",
          "Aalopuri",
          "Aalopuri",
          "Aalopuri",
          "Aalopuri",
          "Aalopuri",
          "Aalopuri",
          "Aalopuri",
          "Aalopuri",
          "Aalopuri",
          "Aalopuri",
          "Aalopuri",
          "Aalopuri",
          "Aalopuri",
          "Aalopuri",
          "Aalopuri",
          "Aalopuri",
          "Aalopuri",
          "Aalopuri",
          "Aalopuri",
          "Aalopuri",
          "Aalopuri",
          "Aalopuri"
         ],
         "xaxis": "x",
         "yaxis": "y"
        },
        {
         "alignmentgroup": "True",
         "bingroup": "x",
         "hovertemplate": "item_name=%{x}<br>count=%{y}<extra></extra>",
         "legendgroup": "Vadapav",
         "marker": {
          "color": "#EF553B",
          "pattern": {
           "shape": ""
          }
         },
         "name": "Vadapav",
         "offsetgroup": "Vadapav",
         "orientation": "v",
         "showlegend": true,
         "textposition": "outside",
         "texttemplate": "%{y}",
         "type": "histogram",
         "x": [
          "Vadapav",
          "Vadapav",
          "Vadapav",
          "Vadapav",
          "Vadapav",
          "Vadapav",
          "Vadapav",
          "Vadapav",
          "Vadapav",
          "Vadapav",
          "Vadapav",
          "Vadapav",
          "Vadapav",
          "Vadapav",
          "Vadapav",
          "Vadapav",
          "Vadapav",
          "Vadapav",
          "Vadapav",
          "Vadapav",
          "Vadapav",
          "Vadapav",
          "Vadapav",
          "Vadapav",
          "Vadapav",
          "Vadapav",
          "Vadapav",
          "Vadapav",
          "Vadapav",
          "Vadapav",
          "Vadapav",
          "Vadapav",
          "Vadapav",
          "Vadapav",
          "Vadapav",
          "Vadapav",
          "Vadapav",
          "Vadapav",
          "Vadapav",
          "Vadapav",
          "Vadapav",
          "Vadapav",
          "Vadapav",
          "Vadapav",
          "Vadapav",
          "Vadapav",
          "Vadapav",
          "Vadapav",
          "Vadapav",
          "Vadapav",
          "Vadapav",
          "Vadapav",
          "Vadapav",
          "Vadapav",
          "Vadapav",
          "Vadapav",
          "Vadapav",
          "Vadapav",
          "Vadapav",
          "Vadapav",
          "Vadapav",
          "Vadapav",
          "Vadapav",
          "Vadapav",
          "Vadapav",
          "Vadapav",
          "Vadapav",
          "Vadapav",
          "Vadapav",
          "Vadapav",
          "Vadapav",
          "Vadapav",
          "Vadapav",
          "Vadapav",
          "Vadapav",
          "Vadapav",
          "Vadapav",
          "Vadapav",
          "Vadapav",
          "Vadapav",
          "Vadapav",
          "Vadapav",
          "Vadapav",
          "Vadapav",
          "Vadapav",
          "Vadapav",
          "Vadapav",
          "Vadapav",
          "Vadapav",
          "Vadapav",
          "Vadapav",
          "Vadapav",
          "Vadapav",
          "Vadapav",
          "Vadapav",
          "Vadapav",
          "Vadapav",
          "Vadapav",
          "Vadapav",
          "Vadapav",
          "Vadapav",
          "Vadapav",
          "Vadapav",
          "Vadapav",
          "Vadapav",
          "Vadapav",
          "Vadapav",
          "Vadapav",
          "Vadapav",
          "Vadapav",
          "Vadapav",
          "Vadapav",
          "Vadapav",
          "Vadapav",
          "Vadapav",
          "Vadapav",
          "Vadapav",
          "Vadapav",
          "Vadapav",
          "Vadapav",
          "Vadapav",
          "Vadapav",
          "Vadapav",
          "Vadapav",
          "Vadapav",
          "Vadapav",
          "Vadapav",
          "Vadapav",
          "Vadapav",
          "Vadapav",
          "Vadapav",
          "Vadapav",
          "Vadapav",
          "Vadapav"
         ],
         "xaxis": "x",
         "yaxis": "y"
        },
        {
         "alignmentgroup": "True",
         "bingroup": "x",
         "hovertemplate": "item_name=%{x}<br>count=%{y}<extra></extra>",
         "legendgroup": "Sugarcane juice",
         "marker": {
          "color": "#00cc96",
          "pattern": {
           "shape": ""
          }
         },
         "name": "Sugarcane juice",
         "offsetgroup": "Sugarcane juice",
         "orientation": "v",
         "showlegend": true,
         "textposition": "outside",
         "texttemplate": "%{y}",
         "type": "histogram",
         "x": [
          "Sugarcane juice",
          "Sugarcane juice",
          "Sugarcane juice",
          "Sugarcane juice",
          "Sugarcane juice",
          "Sugarcane juice",
          "Sugarcane juice",
          "Sugarcane juice",
          "Sugarcane juice",
          "Sugarcane juice",
          "Sugarcane juice",
          "Sugarcane juice",
          "Sugarcane juice",
          "Sugarcane juice",
          "Sugarcane juice",
          "Sugarcane juice",
          "Sugarcane juice",
          "Sugarcane juice",
          "Sugarcane juice",
          "Sugarcane juice",
          "Sugarcane juice",
          "Sugarcane juice",
          "Sugarcane juice",
          "Sugarcane juice",
          "Sugarcane juice",
          "Sugarcane juice",
          "Sugarcane juice",
          "Sugarcane juice",
          "Sugarcane juice",
          "Sugarcane juice",
          "Sugarcane juice",
          "Sugarcane juice",
          "Sugarcane juice",
          "Sugarcane juice",
          "Sugarcane juice",
          "Sugarcane juice",
          "Sugarcane juice",
          "Sugarcane juice",
          "Sugarcane juice",
          "Sugarcane juice",
          "Sugarcane juice",
          "Sugarcane juice",
          "Sugarcane juice",
          "Sugarcane juice",
          "Sugarcane juice",
          "Sugarcane juice",
          "Sugarcane juice",
          "Sugarcane juice",
          "Sugarcane juice",
          "Sugarcane juice",
          "Sugarcane juice",
          "Sugarcane juice",
          "Sugarcane juice",
          "Sugarcane juice",
          "Sugarcane juice",
          "Sugarcane juice",
          "Sugarcane juice",
          "Sugarcane juice",
          "Sugarcane juice",
          "Sugarcane juice",
          "Sugarcane juice",
          "Sugarcane juice",
          "Sugarcane juice",
          "Sugarcane juice",
          "Sugarcane juice",
          "Sugarcane juice",
          "Sugarcane juice",
          "Sugarcane juice",
          "Sugarcane juice",
          "Sugarcane juice",
          "Sugarcane juice",
          "Sugarcane juice",
          "Sugarcane juice",
          "Sugarcane juice",
          "Sugarcane juice",
          "Sugarcane juice",
          "Sugarcane juice",
          "Sugarcane juice",
          "Sugarcane juice",
          "Sugarcane juice",
          "Sugarcane juice",
          "Sugarcane juice",
          "Sugarcane juice",
          "Sugarcane juice",
          "Sugarcane juice",
          "Sugarcane juice",
          "Sugarcane juice",
          "Sugarcane juice",
          "Sugarcane juice",
          "Sugarcane juice",
          "Sugarcane juice",
          "Sugarcane juice",
          "Sugarcane juice",
          "Sugarcane juice",
          "Sugarcane juice",
          "Sugarcane juice",
          "Sugarcane juice",
          "Sugarcane juice",
          "Sugarcane juice",
          "Sugarcane juice",
          "Sugarcane juice",
          "Sugarcane juice",
          "Sugarcane juice",
          "Sugarcane juice",
          "Sugarcane juice",
          "Sugarcane juice",
          "Sugarcane juice",
          "Sugarcane juice",
          "Sugarcane juice",
          "Sugarcane juice",
          "Sugarcane juice",
          "Sugarcane juice",
          "Sugarcane juice",
          "Sugarcane juice",
          "Sugarcane juice",
          "Sugarcane juice",
          "Sugarcane juice",
          "Sugarcane juice",
          "Sugarcane juice",
          "Sugarcane juice",
          "Sugarcane juice",
          "Sugarcane juice",
          "Sugarcane juice",
          "Sugarcane juice",
          "Sugarcane juice",
          "Sugarcane juice",
          "Sugarcane juice",
          "Sugarcane juice",
          "Sugarcane juice",
          "Sugarcane juice",
          "Sugarcane juice",
          "Sugarcane juice",
          "Sugarcane juice",
          "Sugarcane juice",
          "Sugarcane juice",
          "Sugarcane juice",
          "Sugarcane juice",
          "Sugarcane juice",
          "Sugarcane juice",
          "Sugarcane juice",
          "Sugarcane juice",
          "Sugarcane juice",
          "Sugarcane juice",
          "Sugarcane juice",
          "Sugarcane juice",
          "Sugarcane juice",
          "Sugarcane juice",
          "Sugarcane juice",
          "Sugarcane juice",
          "Sugarcane juice",
          "Sugarcane juice",
          "Sugarcane juice",
          "Sugarcane juice"
         ],
         "xaxis": "x",
         "yaxis": "y"
        },
        {
         "alignmentgroup": "True",
         "bingroup": "x",
         "hovertemplate": "item_name=%{x}<br>count=%{y}<extra></extra>",
         "legendgroup": "Panipuri",
         "marker": {
          "color": "#ab63fa",
          "pattern": {
           "shape": ""
          }
         },
         "name": "Panipuri",
         "offsetgroup": "Panipuri",
         "orientation": "v",
         "showlegend": true,
         "textposition": "outside",
         "texttemplate": "%{y}",
         "type": "histogram",
         "x": [
          "Panipuri",
          "Panipuri",
          "Panipuri",
          "Panipuri",
          "Panipuri",
          "Panipuri",
          "Panipuri",
          "Panipuri",
          "Panipuri",
          "Panipuri",
          "Panipuri",
          "Panipuri",
          "Panipuri",
          "Panipuri",
          "Panipuri",
          "Panipuri",
          "Panipuri",
          "Panipuri",
          "Panipuri",
          "Panipuri",
          "Panipuri",
          "Panipuri",
          "Panipuri",
          "Panipuri",
          "Panipuri",
          "Panipuri",
          "Panipuri",
          "Panipuri",
          "Panipuri",
          "Panipuri",
          "Panipuri",
          "Panipuri",
          "Panipuri",
          "Panipuri",
          "Panipuri",
          "Panipuri",
          "Panipuri",
          "Panipuri",
          "Panipuri",
          "Panipuri",
          "Panipuri",
          "Panipuri",
          "Panipuri",
          "Panipuri",
          "Panipuri",
          "Panipuri",
          "Panipuri",
          "Panipuri",
          "Panipuri",
          "Panipuri",
          "Panipuri",
          "Panipuri",
          "Panipuri",
          "Panipuri",
          "Panipuri",
          "Panipuri",
          "Panipuri",
          "Panipuri",
          "Panipuri",
          "Panipuri",
          "Panipuri",
          "Panipuri",
          "Panipuri",
          "Panipuri",
          "Panipuri",
          "Panipuri",
          "Panipuri",
          "Panipuri",
          "Panipuri",
          "Panipuri",
          "Panipuri",
          "Panipuri",
          "Panipuri",
          "Panipuri",
          "Panipuri",
          "Panipuri",
          "Panipuri",
          "Panipuri",
          "Panipuri",
          "Panipuri",
          "Panipuri",
          "Panipuri",
          "Panipuri",
          "Panipuri",
          "Panipuri",
          "Panipuri",
          "Panipuri",
          "Panipuri",
          "Panipuri",
          "Panipuri",
          "Panipuri",
          "Panipuri",
          "Panipuri",
          "Panipuri",
          "Panipuri",
          "Panipuri",
          "Panipuri",
          "Panipuri",
          "Panipuri",
          "Panipuri",
          "Panipuri",
          "Panipuri",
          "Panipuri",
          "Panipuri",
          "Panipuri",
          "Panipuri",
          "Panipuri",
          "Panipuri",
          "Panipuri",
          "Panipuri",
          "Panipuri",
          "Panipuri",
          "Panipuri",
          "Panipuri",
          "Panipuri",
          "Panipuri",
          "Panipuri",
          "Panipuri",
          "Panipuri",
          "Panipuri",
          "Panipuri",
          "Panipuri",
          "Panipuri",
          "Panipuri",
          "Panipuri",
          "Panipuri",
          "Panipuri",
          "Panipuri",
          "Panipuri",
          "Panipuri",
          "Panipuri",
          "Panipuri",
          "Panipuri",
          "Panipuri",
          "Panipuri",
          "Panipuri",
          "Panipuri",
          "Panipuri",
          "Panipuri",
          "Panipuri",
          "Panipuri",
          "Panipuri",
          "Panipuri",
          "Panipuri",
          "Panipuri",
          "Panipuri",
          "Panipuri",
          "Panipuri",
          "Panipuri",
          "Panipuri"
         ],
         "xaxis": "x",
         "yaxis": "y"
        },
        {
         "alignmentgroup": "True",
         "bingroup": "x",
         "hovertemplate": "item_name=%{x}<br>count=%{y}<extra></extra>",
         "legendgroup": "Frankie",
         "marker": {
          "color": "#FFA15A",
          "pattern": {
           "shape": ""
          }
         },
         "name": "Frankie",
         "offsetgroup": "Frankie",
         "orientation": "v",
         "showlegend": true,
         "textposition": "outside",
         "texttemplate": "%{y}",
         "type": "histogram",
         "x": [
          "Frankie",
          "Frankie",
          "Frankie",
          "Frankie",
          "Frankie",
          "Frankie",
          "Frankie",
          "Frankie",
          "Frankie",
          "Frankie",
          "Frankie",
          "Frankie",
          "Frankie",
          "Frankie",
          "Frankie",
          "Frankie",
          "Frankie",
          "Frankie",
          "Frankie",
          "Frankie",
          "Frankie",
          "Frankie",
          "Frankie",
          "Frankie",
          "Frankie",
          "Frankie",
          "Frankie",
          "Frankie",
          "Frankie",
          "Frankie",
          "Frankie",
          "Frankie",
          "Frankie",
          "Frankie",
          "Frankie",
          "Frankie",
          "Frankie",
          "Frankie",
          "Frankie",
          "Frankie",
          "Frankie",
          "Frankie",
          "Frankie",
          "Frankie",
          "Frankie",
          "Frankie",
          "Frankie",
          "Frankie",
          "Frankie",
          "Frankie",
          "Frankie",
          "Frankie",
          "Frankie",
          "Frankie",
          "Frankie",
          "Frankie",
          "Frankie",
          "Frankie",
          "Frankie",
          "Frankie",
          "Frankie",
          "Frankie",
          "Frankie",
          "Frankie",
          "Frankie",
          "Frankie",
          "Frankie",
          "Frankie",
          "Frankie",
          "Frankie",
          "Frankie",
          "Frankie",
          "Frankie",
          "Frankie",
          "Frankie",
          "Frankie",
          "Frankie",
          "Frankie",
          "Frankie",
          "Frankie",
          "Frankie",
          "Frankie",
          "Frankie",
          "Frankie",
          "Frankie",
          "Frankie",
          "Frankie",
          "Frankie",
          "Frankie",
          "Frankie",
          "Frankie",
          "Frankie",
          "Frankie",
          "Frankie",
          "Frankie",
          "Frankie",
          "Frankie",
          "Frankie",
          "Frankie",
          "Frankie",
          "Frankie",
          "Frankie",
          "Frankie",
          "Frankie",
          "Frankie",
          "Frankie",
          "Frankie",
          "Frankie",
          "Frankie",
          "Frankie",
          "Frankie",
          "Frankie",
          "Frankie",
          "Frankie",
          "Frankie",
          "Frankie",
          "Frankie",
          "Frankie",
          "Frankie",
          "Frankie",
          "Frankie",
          "Frankie",
          "Frankie",
          "Frankie",
          "Frankie",
          "Frankie",
          "Frankie",
          "Frankie",
          "Frankie",
          "Frankie",
          "Frankie",
          "Frankie",
          "Frankie",
          "Frankie",
          "Frankie",
          "Frankie",
          "Frankie",
          "Frankie",
          "Frankie"
         ],
         "xaxis": "x",
         "yaxis": "y"
        },
        {
         "alignmentgroup": "True",
         "bingroup": "x",
         "hovertemplate": "item_name=%{x}<br>count=%{y}<extra></extra>",
         "legendgroup": "Sandwich",
         "marker": {
          "color": "#19d3f3",
          "pattern": {
           "shape": ""
          }
         },
         "name": "Sandwich",
         "offsetgroup": "Sandwich",
         "orientation": "v",
         "showlegend": true,
         "textposition": "outside",
         "texttemplate": "%{y}",
         "type": "histogram",
         "x": [
          "Sandwich",
          "Sandwich",
          "Sandwich",
          "Sandwich",
          "Sandwich",
          "Sandwich",
          "Sandwich",
          "Sandwich",
          "Sandwich",
          "Sandwich",
          "Sandwich",
          "Sandwich",
          "Sandwich",
          "Sandwich",
          "Sandwich",
          "Sandwich",
          "Sandwich",
          "Sandwich",
          "Sandwich",
          "Sandwich",
          "Sandwich",
          "Sandwich",
          "Sandwich",
          "Sandwich",
          "Sandwich",
          "Sandwich",
          "Sandwich",
          "Sandwich",
          "Sandwich",
          "Sandwich",
          "Sandwich",
          "Sandwich",
          "Sandwich",
          "Sandwich",
          "Sandwich",
          "Sandwich",
          "Sandwich",
          "Sandwich",
          "Sandwich",
          "Sandwich",
          "Sandwich",
          "Sandwich",
          "Sandwich",
          "Sandwich",
          "Sandwich",
          "Sandwich",
          "Sandwich",
          "Sandwich",
          "Sandwich",
          "Sandwich",
          "Sandwich",
          "Sandwich",
          "Sandwich",
          "Sandwich",
          "Sandwich",
          "Sandwich",
          "Sandwich",
          "Sandwich",
          "Sandwich",
          "Sandwich",
          "Sandwich",
          "Sandwich",
          "Sandwich",
          "Sandwich",
          "Sandwich",
          "Sandwich",
          "Sandwich",
          "Sandwich",
          "Sandwich",
          "Sandwich",
          "Sandwich",
          "Sandwich",
          "Sandwich",
          "Sandwich",
          "Sandwich",
          "Sandwich",
          "Sandwich",
          "Sandwich",
          "Sandwich",
          "Sandwich",
          "Sandwich",
          "Sandwich",
          "Sandwich",
          "Sandwich",
          "Sandwich",
          "Sandwich",
          "Sandwich",
          "Sandwich",
          "Sandwich",
          "Sandwich",
          "Sandwich",
          "Sandwich",
          "Sandwich",
          "Sandwich",
          "Sandwich",
          "Sandwich",
          "Sandwich",
          "Sandwich",
          "Sandwich",
          "Sandwich",
          "Sandwich",
          "Sandwich",
          "Sandwich",
          "Sandwich",
          "Sandwich",
          "Sandwich",
          "Sandwich",
          "Sandwich",
          "Sandwich",
          "Sandwich",
          "Sandwich",
          "Sandwich",
          "Sandwich",
          "Sandwich",
          "Sandwich",
          "Sandwich",
          "Sandwich",
          "Sandwich",
          "Sandwich",
          "Sandwich",
          "Sandwich",
          "Sandwich",
          "Sandwich",
          "Sandwich",
          "Sandwich",
          "Sandwich",
          "Sandwich",
          "Sandwich",
          "Sandwich"
         ],
         "xaxis": "x",
         "yaxis": "y"
        },
        {
         "alignmentgroup": "True",
         "bingroup": "x",
         "hovertemplate": "item_name=%{x}<br>count=%{y}<extra></extra>",
         "legendgroup": "Cold coffee",
         "marker": {
          "color": "#FF6692",
          "pattern": {
           "shape": ""
          }
         },
         "name": "Cold coffee",
         "offsetgroup": "Cold coffee",
         "orientation": "v",
         "showlegend": true,
         "textposition": "outside",
         "texttemplate": "%{y}",
         "type": "histogram",
         "x": [
          "Cold coffee",
          "Cold coffee",
          "Cold coffee",
          "Cold coffee",
          "Cold coffee",
          "Cold coffee",
          "Cold coffee",
          "Cold coffee",
          "Cold coffee",
          "Cold coffee",
          "Cold coffee",
          "Cold coffee",
          "Cold coffee",
          "Cold coffee",
          "Cold coffee",
          "Cold coffee",
          "Cold coffee",
          "Cold coffee",
          "Cold coffee",
          "Cold coffee",
          "Cold coffee",
          "Cold coffee",
          "Cold coffee",
          "Cold coffee",
          "Cold coffee",
          "Cold coffee",
          "Cold coffee",
          "Cold coffee",
          "Cold coffee",
          "Cold coffee",
          "Cold coffee",
          "Cold coffee",
          "Cold coffee",
          "Cold coffee",
          "Cold coffee",
          "Cold coffee",
          "Cold coffee",
          "Cold coffee",
          "Cold coffee",
          "Cold coffee",
          "Cold coffee",
          "Cold coffee",
          "Cold coffee",
          "Cold coffee",
          "Cold coffee",
          "Cold coffee",
          "Cold coffee",
          "Cold coffee",
          "Cold coffee",
          "Cold coffee",
          "Cold coffee",
          "Cold coffee",
          "Cold coffee",
          "Cold coffee",
          "Cold coffee",
          "Cold coffee",
          "Cold coffee",
          "Cold coffee",
          "Cold coffee",
          "Cold coffee",
          "Cold coffee",
          "Cold coffee",
          "Cold coffee",
          "Cold coffee",
          "Cold coffee",
          "Cold coffee",
          "Cold coffee",
          "Cold coffee",
          "Cold coffee",
          "Cold coffee",
          "Cold coffee",
          "Cold coffee",
          "Cold coffee",
          "Cold coffee",
          "Cold coffee",
          "Cold coffee",
          "Cold coffee",
          "Cold coffee",
          "Cold coffee",
          "Cold coffee",
          "Cold coffee",
          "Cold coffee",
          "Cold coffee",
          "Cold coffee",
          "Cold coffee",
          "Cold coffee",
          "Cold coffee",
          "Cold coffee",
          "Cold coffee",
          "Cold coffee",
          "Cold coffee",
          "Cold coffee",
          "Cold coffee",
          "Cold coffee",
          "Cold coffee",
          "Cold coffee",
          "Cold coffee",
          "Cold coffee",
          "Cold coffee",
          "Cold coffee",
          "Cold coffee",
          "Cold coffee",
          "Cold coffee",
          "Cold coffee",
          "Cold coffee",
          "Cold coffee",
          "Cold coffee",
          "Cold coffee",
          "Cold coffee",
          "Cold coffee",
          "Cold coffee",
          "Cold coffee",
          "Cold coffee",
          "Cold coffee",
          "Cold coffee",
          "Cold coffee",
          "Cold coffee",
          "Cold coffee",
          "Cold coffee",
          "Cold coffee",
          "Cold coffee",
          "Cold coffee",
          "Cold coffee",
          "Cold coffee",
          "Cold coffee",
          "Cold coffee",
          "Cold coffee",
          "Cold coffee",
          "Cold coffee",
          "Cold coffee",
          "Cold coffee",
          "Cold coffee",
          "Cold coffee",
          "Cold coffee",
          "Cold coffee",
          "Cold coffee",
          "Cold coffee",
          "Cold coffee",
          "Cold coffee",
          "Cold coffee",
          "Cold coffee",
          "Cold coffee",
          "Cold coffee",
          "Cold coffee",
          "Cold coffee",
          "Cold coffee",
          "Cold coffee",
          "Cold coffee",
          "Cold coffee",
          "Cold coffee",
          "Cold coffee",
          "Cold coffee",
          "Cold coffee",
          "Cold coffee",
          "Cold coffee",
          "Cold coffee",
          "Cold coffee",
          "Cold coffee",
          "Cold coffee",
          "Cold coffee",
          "Cold coffee"
         ],
         "xaxis": "x",
         "yaxis": "y"
        }
       ],
       "layout": {
        "barmode": "relative",
        "height": 600,
        "legend": {
         "title": {
          "text": "item_name"
         },
         "tracegroupgap": 0
        },
        "template": {
         "data": {
          "bar": [
           {
            "error_x": {
             "color": "#2a3f5f"
            },
            "error_y": {
             "color": "#2a3f5f"
            },
            "marker": {
             "line": {
              "color": "#E5ECF6",
              "width": 0.5
             },
             "pattern": {
              "fillmode": "overlay",
              "size": 10,
              "solidity": 0.2
             }
            },
            "type": "bar"
           }
          ],
          "barpolar": [
           {
            "marker": {
             "line": {
              "color": "#E5ECF6",
              "width": 0.5
             },
             "pattern": {
              "fillmode": "overlay",
              "size": 10,
              "solidity": 0.2
             }
            },
            "type": "barpolar"
           }
          ],
          "carpet": [
           {
            "aaxis": {
             "endlinecolor": "#2a3f5f",
             "gridcolor": "white",
             "linecolor": "white",
             "minorgridcolor": "white",
             "startlinecolor": "#2a3f5f"
            },
            "baxis": {
             "endlinecolor": "#2a3f5f",
             "gridcolor": "white",
             "linecolor": "white",
             "minorgridcolor": "white",
             "startlinecolor": "#2a3f5f"
            },
            "type": "carpet"
           }
          ],
          "choropleth": [
           {
            "colorbar": {
             "outlinewidth": 0,
             "ticks": ""
            },
            "type": "choropleth"
           }
          ],
          "contour": [
           {
            "colorbar": {
             "outlinewidth": 0,
             "ticks": ""
            },
            "colorscale": [
             [
              0,
              "#0d0887"
             ],
             [
              0.1111111111111111,
              "#46039f"
             ],
             [
              0.2222222222222222,
              "#7201a8"
             ],
             [
              0.3333333333333333,
              "#9c179e"
             ],
             [
              0.4444444444444444,
              "#bd3786"
             ],
             [
              0.5555555555555556,
              "#d8576b"
             ],
             [
              0.6666666666666666,
              "#ed7953"
             ],
             [
              0.7777777777777778,
              "#fb9f3a"
             ],
             [
              0.8888888888888888,
              "#fdca26"
             ],
             [
              1,
              "#f0f921"
             ]
            ],
            "type": "contour"
           }
          ],
          "contourcarpet": [
           {
            "colorbar": {
             "outlinewidth": 0,
             "ticks": ""
            },
            "type": "contourcarpet"
           }
          ],
          "heatmap": [
           {
            "colorbar": {
             "outlinewidth": 0,
             "ticks": ""
            },
            "colorscale": [
             [
              0,
              "#0d0887"
             ],
             [
              0.1111111111111111,
              "#46039f"
             ],
             [
              0.2222222222222222,
              "#7201a8"
             ],
             [
              0.3333333333333333,
              "#9c179e"
             ],
             [
              0.4444444444444444,
              "#bd3786"
             ],
             [
              0.5555555555555556,
              "#d8576b"
             ],
             [
              0.6666666666666666,
              "#ed7953"
             ],
             [
              0.7777777777777778,
              "#fb9f3a"
             ],
             [
              0.8888888888888888,
              "#fdca26"
             ],
             [
              1,
              "#f0f921"
             ]
            ],
            "type": "heatmap"
           }
          ],
          "heatmapgl": [
           {
            "colorbar": {
             "outlinewidth": 0,
             "ticks": ""
            },
            "colorscale": [
             [
              0,
              "#0d0887"
             ],
             [
              0.1111111111111111,
              "#46039f"
             ],
             [
              0.2222222222222222,
              "#7201a8"
             ],
             [
              0.3333333333333333,
              "#9c179e"
             ],
             [
              0.4444444444444444,
              "#bd3786"
             ],
             [
              0.5555555555555556,
              "#d8576b"
             ],
             [
              0.6666666666666666,
              "#ed7953"
             ],
             [
              0.7777777777777778,
              "#fb9f3a"
             ],
             [
              0.8888888888888888,
              "#fdca26"
             ],
             [
              1,
              "#f0f921"
             ]
            ],
            "type": "heatmapgl"
           }
          ],
          "histogram": [
           {
            "marker": {
             "pattern": {
              "fillmode": "overlay",
              "size": 10,
              "solidity": 0.2
             }
            },
            "type": "histogram"
           }
          ],
          "histogram2d": [
           {
            "colorbar": {
             "outlinewidth": 0,
             "ticks": ""
            },
            "colorscale": [
             [
              0,
              "#0d0887"
             ],
             [
              0.1111111111111111,
              "#46039f"
             ],
             [
              0.2222222222222222,
              "#7201a8"
             ],
             [
              0.3333333333333333,
              "#9c179e"
             ],
             [
              0.4444444444444444,
              "#bd3786"
             ],
             [
              0.5555555555555556,
              "#d8576b"
             ],
             [
              0.6666666666666666,
              "#ed7953"
             ],
             [
              0.7777777777777778,
              "#fb9f3a"
             ],
             [
              0.8888888888888888,
              "#fdca26"
             ],
             [
              1,
              "#f0f921"
             ]
            ],
            "type": "histogram2d"
           }
          ],
          "histogram2dcontour": [
           {
            "colorbar": {
             "outlinewidth": 0,
             "ticks": ""
            },
            "colorscale": [
             [
              0,
              "#0d0887"
             ],
             [
              0.1111111111111111,
              "#46039f"
             ],
             [
              0.2222222222222222,
              "#7201a8"
             ],
             [
              0.3333333333333333,
              "#9c179e"
             ],
             [
              0.4444444444444444,
              "#bd3786"
             ],
             [
              0.5555555555555556,
              "#d8576b"
             ],
             [
              0.6666666666666666,
              "#ed7953"
             ],
             [
              0.7777777777777778,
              "#fb9f3a"
             ],
             [
              0.8888888888888888,
              "#fdca26"
             ],
             [
              1,
              "#f0f921"
             ]
            ],
            "type": "histogram2dcontour"
           }
          ],
          "mesh3d": [
           {
            "colorbar": {
             "outlinewidth": 0,
             "ticks": ""
            },
            "type": "mesh3d"
           }
          ],
          "parcoords": [
           {
            "line": {
             "colorbar": {
              "outlinewidth": 0,
              "ticks": ""
             }
            },
            "type": "parcoords"
           }
          ],
          "pie": [
           {
            "automargin": true,
            "type": "pie"
           }
          ],
          "scatter": [
           {
            "fillpattern": {
             "fillmode": "overlay",
             "size": 10,
             "solidity": 0.2
            },
            "type": "scatter"
           }
          ],
          "scatter3d": [
           {
            "line": {
             "colorbar": {
              "outlinewidth": 0,
              "ticks": ""
             }
            },
            "marker": {
             "colorbar": {
              "outlinewidth": 0,
              "ticks": ""
             }
            },
            "type": "scatter3d"
           }
          ],
          "scattercarpet": [
           {
            "marker": {
             "colorbar": {
              "outlinewidth": 0,
              "ticks": ""
             }
            },
            "type": "scattercarpet"
           }
          ],
          "scattergeo": [
           {
            "marker": {
             "colorbar": {
              "outlinewidth": 0,
              "ticks": ""
             }
            },
            "type": "scattergeo"
           }
          ],
          "scattergl": [
           {
            "marker": {
             "colorbar": {
              "outlinewidth": 0,
              "ticks": ""
             }
            },
            "type": "scattergl"
           }
          ],
          "scattermapbox": [
           {
            "marker": {
             "colorbar": {
              "outlinewidth": 0,
              "ticks": ""
             }
            },
            "type": "scattermapbox"
           }
          ],
          "scatterpolar": [
           {
            "marker": {
             "colorbar": {
              "outlinewidth": 0,
              "ticks": ""
             }
            },
            "type": "scatterpolar"
           }
          ],
          "scatterpolargl": [
           {
            "marker": {
             "colorbar": {
              "outlinewidth": 0,
              "ticks": ""
             }
            },
            "type": "scatterpolargl"
           }
          ],
          "scatterternary": [
           {
            "marker": {
             "colorbar": {
              "outlinewidth": 0,
              "ticks": ""
             }
            },
            "type": "scatterternary"
           }
          ],
          "surface": [
           {
            "colorbar": {
             "outlinewidth": 0,
             "ticks": ""
            },
            "colorscale": [
             [
              0,
              "#0d0887"
             ],
             [
              0.1111111111111111,
              "#46039f"
             ],
             [
              0.2222222222222222,
              "#7201a8"
             ],
             [
              0.3333333333333333,
              "#9c179e"
             ],
             [
              0.4444444444444444,
              "#bd3786"
             ],
             [
              0.5555555555555556,
              "#d8576b"
             ],
             [
              0.6666666666666666,
              "#ed7953"
             ],
             [
              0.7777777777777778,
              "#fb9f3a"
             ],
             [
              0.8888888888888888,
              "#fdca26"
             ],
             [
              1,
              "#f0f921"
             ]
            ],
            "type": "surface"
           }
          ],
          "table": [
           {
            "cells": {
             "fill": {
              "color": "#EBF0F8"
             },
             "line": {
              "color": "white"
             }
            },
            "header": {
             "fill": {
              "color": "#C8D4E3"
             },
             "line": {
              "color": "white"
             }
            },
            "type": "table"
           }
          ]
         },
         "layout": {
          "annotationdefaults": {
           "arrowcolor": "#2a3f5f",
           "arrowhead": 0,
           "arrowwidth": 1
          },
          "autotypenumbers": "strict",
          "coloraxis": {
           "colorbar": {
            "outlinewidth": 0,
            "ticks": ""
           }
          },
          "colorscale": {
           "diverging": [
            [
             0,
             "#8e0152"
            ],
            [
             0.1,
             "#c51b7d"
            ],
            [
             0.2,
             "#de77ae"
            ],
            [
             0.3,
             "#f1b6da"
            ],
            [
             0.4,
             "#fde0ef"
            ],
            [
             0.5,
             "#f7f7f7"
            ],
            [
             0.6,
             "#e6f5d0"
            ],
            [
             0.7,
             "#b8e186"
            ],
            [
             0.8,
             "#7fbc41"
            ],
            [
             0.9,
             "#4d9221"
            ],
            [
             1,
             "#276419"
            ]
           ],
           "sequential": [
            [
             0,
             "#0d0887"
            ],
            [
             0.1111111111111111,
             "#46039f"
            ],
            [
             0.2222222222222222,
             "#7201a8"
            ],
            [
             0.3333333333333333,
             "#9c179e"
            ],
            [
             0.4444444444444444,
             "#bd3786"
            ],
            [
             0.5555555555555556,
             "#d8576b"
            ],
            [
             0.6666666666666666,
             "#ed7953"
            ],
            [
             0.7777777777777778,
             "#fb9f3a"
            ],
            [
             0.8888888888888888,
             "#fdca26"
            ],
            [
             1,
             "#f0f921"
            ]
           ],
           "sequentialminus": [
            [
             0,
             "#0d0887"
            ],
            [
             0.1111111111111111,
             "#46039f"
            ],
            [
             0.2222222222222222,
             "#7201a8"
            ],
            [
             0.3333333333333333,
             "#9c179e"
            ],
            [
             0.4444444444444444,
             "#bd3786"
            ],
            [
             0.5555555555555556,
             "#d8576b"
            ],
            [
             0.6666666666666666,
             "#ed7953"
            ],
            [
             0.7777777777777778,
             "#fb9f3a"
            ],
            [
             0.8888888888888888,
             "#fdca26"
            ],
            [
             1,
             "#f0f921"
            ]
           ]
          },
          "colorway": [
           "#636efa",
           "#EF553B",
           "#00cc96",
           "#ab63fa",
           "#FFA15A",
           "#19d3f3",
           "#FF6692",
           "#B6E880",
           "#FF97FF",
           "#FECB52"
          ],
          "font": {
           "color": "#2a3f5f"
          },
          "geo": {
           "bgcolor": "white",
           "lakecolor": "white",
           "landcolor": "#E5ECF6",
           "showlakes": true,
           "showland": true,
           "subunitcolor": "white"
          },
          "hoverlabel": {
           "align": "left"
          },
          "hovermode": "closest",
          "mapbox": {
           "style": "light"
          },
          "paper_bgcolor": "white",
          "plot_bgcolor": "#E5ECF6",
          "polar": {
           "angularaxis": {
            "gridcolor": "white",
            "linecolor": "white",
            "ticks": ""
           },
           "bgcolor": "#E5ECF6",
           "radialaxis": {
            "gridcolor": "white",
            "linecolor": "white",
            "ticks": ""
           }
          },
          "scene": {
           "xaxis": {
            "backgroundcolor": "#E5ECF6",
            "gridcolor": "white",
            "gridwidth": 2,
            "linecolor": "white",
            "showbackground": true,
            "ticks": "",
            "zerolinecolor": "white"
           },
           "yaxis": {
            "backgroundcolor": "#E5ECF6",
            "gridcolor": "white",
            "gridwidth": 2,
            "linecolor": "white",
            "showbackground": true,
            "ticks": "",
            "zerolinecolor": "white"
           },
           "zaxis": {
            "backgroundcolor": "#E5ECF6",
            "gridcolor": "white",
            "gridwidth": 2,
            "linecolor": "white",
            "showbackground": true,
            "ticks": "",
            "zerolinecolor": "white"
           }
          },
          "shapedefaults": {
           "line": {
            "color": "#2a3f5f"
           }
          },
          "ternary": {
           "aaxis": {
            "gridcolor": "white",
            "linecolor": "white",
            "ticks": ""
           },
           "baxis": {
            "gridcolor": "white",
            "linecolor": "white",
            "ticks": ""
           },
           "bgcolor": "#E5ECF6",
           "caxis": {
            "gridcolor": "white",
            "linecolor": "white",
            "ticks": ""
           }
          },
          "title": {
           "x": 0.05
          },
          "xaxis": {
           "automargin": true,
           "gridcolor": "white",
           "linecolor": "white",
           "ticks": "",
           "title": {
            "standoff": 15
           },
           "zerolinecolor": "white",
           "zerolinewidth": 2
          },
          "yaxis": {
           "automargin": true,
           "gridcolor": "white",
           "linecolor": "white",
           "ticks": "",
           "title": {
            "standoff": 15
           },
           "zerolinecolor": "white",
           "zerolinewidth": 2
          }
         }
        },
        "title": {
         "text": "Most popular selling item"
        },
        "xaxis": {
         "anchor": "y",
         "categoryarray": [
          "Aalopuri",
          "Vadapav",
          "Sugarcane juice",
          "Panipuri",
          "Frankie",
          "Sandwich",
          "Cold coffee"
         ],
         "categoryorder": "array",
         "domain": [
          0,
          1
         ],
         "title": {
          "text": "item_name"
         }
        },
        "yaxis": {
         "anchor": "x",
         "domain": [
          0,
          1
         ],
         "title": {
          "text": "count"
         }
        }
       }
      }
     },
     "metadata": {},
     "output_type": "display_data"
    }
   ],
   "source": [
    "fig=px.histogram(df,x=\"item_name\",title=\"Most popular selling item\",color=\"item_name\",height=600)\n",
    "fig.update_traces(texttemplate='%{y}', textposition='outside')\n",
    "\n",
    "fig.show()"
   ]
  },
  {
   "cell_type": "markdown",
   "metadata": {},
   "source": [
    "Revenue generated for each item"
   ]
  },
  {
   "cell_type": "code",
   "execution_count": 46,
   "metadata": {},
   "outputs": [
    {
     "data": {
      "text/plain": [
       "item_name\n",
       "Sandwich           65820\n",
       "Frankie            57500\n",
       "Cold coffee        54440\n",
       "Sugarcane juice    31950\n",
       "Panipuri           24520\n",
       "Aalopuri           20880\n",
       "Vadapav            20120\n",
       "Name: Revenue, dtype: int64"
      ]
     },
     "execution_count": 46,
     "metadata": {},
     "output_type": "execute_result"
    }
   ],
   "source": [
    "df.groupby(\"item_name\")[\"Revenue\"].sum().sort_values(ascending=False)"
   ]
  },
  {
   "cell_type": "code",
   "execution_count": 47,
   "metadata": {},
   "outputs": [
    {
     "data": {
      "text/html": [
       "<div>\n",
       "<style scoped>\n",
       "    .dataframe tbody tr th:only-of-type {\n",
       "        vertical-align: middle;\n",
       "    }\n",
       "\n",
       "    .dataframe tbody tr th {\n",
       "        vertical-align: top;\n",
       "    }\n",
       "\n",
       "    .dataframe thead th {\n",
       "        text-align: right;\n",
       "    }\n",
       "</style>\n",
       "<table border=\"1\" class=\"dataframe\">\n",
       "  <thead>\n",
       "    <tr style=\"text-align: right;\">\n",
       "      <th></th>\n",
       "      <th>item_name</th>\n",
       "      <th>Revenue</th>\n",
       "    </tr>\n",
       "  </thead>\n",
       "  <tbody>\n",
       "    <tr>\n",
       "      <th>0</th>\n",
       "      <td>Sandwich</td>\n",
       "      <td>510.232558</td>\n",
       "    </tr>\n",
       "    <tr>\n",
       "      <th>1</th>\n",
       "      <td>Frankie</td>\n",
       "      <td>413.669065</td>\n",
       "    </tr>\n",
       "    <tr>\n",
       "      <th>2</th>\n",
       "      <td>Cold coffee</td>\n",
       "      <td>338.136646</td>\n",
       "    </tr>\n",
       "    <tr>\n",
       "      <th>3</th>\n",
       "      <td>Sugarcane juice</td>\n",
       "      <td>208.823529</td>\n",
       "    </tr>\n",
       "    <tr>\n",
       "      <th>4</th>\n",
       "      <td>Panipuri</td>\n",
       "      <td>163.466667</td>\n",
       "    </tr>\n",
       "    <tr>\n",
       "      <th>5</th>\n",
       "      <td>Aalopuri</td>\n",
       "      <td>155.820896</td>\n",
       "    </tr>\n",
       "    <tr>\n",
       "      <th>6</th>\n",
       "      <td>Vadapav</td>\n",
       "      <td>150.149254</td>\n",
       "    </tr>\n",
       "  </tbody>\n",
       "</table>\n",
       "</div>"
      ],
      "text/plain": [
       "         item_name     Revenue\n",
       "0         Sandwich  510.232558\n",
       "1          Frankie  413.669065\n",
       "2      Cold coffee  338.136646\n",
       "3  Sugarcane juice  208.823529\n",
       "4         Panipuri  163.466667\n",
       "5         Aalopuri  155.820896\n",
       "6          Vadapav  150.149254"
      ]
     },
     "execution_count": 47,
     "metadata": {},
     "output_type": "execute_result"
    }
   ],
   "source": [
    "d2=df.groupby(\"item_name\")[\"Revenue\"].mean().sort_values(ascending=False).reset_index()\n",
    "d2"
   ]
  },
  {
   "cell_type": "code",
   "execution_count": 48,
   "metadata": {},
   "outputs": [
    {
     "data": {
      "application/vnd.plotly.v1+json": {
       "config": {
        "plotlyServerURL": "https://plot.ly"
       },
       "data": [
        {
         "alignmentgroup": "True",
         "hovertemplate": "item_name=%{y}<br>Revenue=%{x}<extra></extra>",
         "legendgroup": "Sandwich",
         "marker": {
          "color": "#636efa",
          "pattern": {
           "shape": ""
          }
         },
         "name": "Sandwich",
         "offsetgroup": "Sandwich",
         "orientation": "h",
         "showlegend": true,
         "textposition": "inside",
         "texttemplate": "%{x}",
         "type": "bar",
         "x": [
          510.2325581395349
         ],
         "xaxis": "x",
         "y": [
          "Sandwich"
         ],
         "yaxis": "y"
        },
        {
         "alignmentgroup": "True",
         "hovertemplate": "item_name=%{y}<br>Revenue=%{x}<extra></extra>",
         "legendgroup": "Frankie",
         "marker": {
          "color": "#EF553B",
          "pattern": {
           "shape": ""
          }
         },
         "name": "Frankie",
         "offsetgroup": "Frankie",
         "orientation": "h",
         "showlegend": true,
         "textposition": "inside",
         "texttemplate": "%{x}",
         "type": "bar",
         "x": [
          413.66906474820144
         ],
         "xaxis": "x",
         "y": [
          "Frankie"
         ],
         "yaxis": "y"
        },
        {
         "alignmentgroup": "True",
         "hovertemplate": "item_name=%{y}<br>Revenue=%{x}<extra></extra>",
         "legendgroup": "Cold coffee",
         "marker": {
          "color": "#00cc96",
          "pattern": {
           "shape": ""
          }
         },
         "name": "Cold coffee",
         "offsetgroup": "Cold coffee",
         "orientation": "h",
         "showlegend": true,
         "textposition": "inside",
         "texttemplate": "%{x}",
         "type": "bar",
         "x": [
          338.1366459627329
         ],
         "xaxis": "x",
         "y": [
          "Cold coffee"
         ],
         "yaxis": "y"
        },
        {
         "alignmentgroup": "True",
         "hovertemplate": "item_name=%{y}<br>Revenue=%{x}<extra></extra>",
         "legendgroup": "Sugarcane juice",
         "marker": {
          "color": "#ab63fa",
          "pattern": {
           "shape": ""
          }
         },
         "name": "Sugarcane juice",
         "offsetgroup": "Sugarcane juice",
         "orientation": "h",
         "showlegend": true,
         "textposition": "inside",
         "texttemplate": "%{x}",
         "type": "bar",
         "x": [
          208.8235294117647
         ],
         "xaxis": "x",
         "y": [
          "Sugarcane juice"
         ],
         "yaxis": "y"
        },
        {
         "alignmentgroup": "True",
         "hovertemplate": "item_name=%{y}<br>Revenue=%{x}<extra></extra>",
         "legendgroup": "Panipuri",
         "marker": {
          "color": "#FFA15A",
          "pattern": {
           "shape": ""
          }
         },
         "name": "Panipuri",
         "offsetgroup": "Panipuri",
         "orientation": "h",
         "showlegend": true,
         "textposition": "inside",
         "texttemplate": "%{x}",
         "type": "bar",
         "x": [
          163.46666666666667
         ],
         "xaxis": "x",
         "y": [
          "Panipuri"
         ],
         "yaxis": "y"
        },
        {
         "alignmentgroup": "True",
         "hovertemplate": "item_name=%{y}<br>Revenue=%{x}<extra></extra>",
         "legendgroup": "Aalopuri",
         "marker": {
          "color": "#19d3f3",
          "pattern": {
           "shape": ""
          }
         },
         "name": "Aalopuri",
         "offsetgroup": "Aalopuri",
         "orientation": "h",
         "showlegend": true,
         "textposition": "inside",
         "texttemplate": "%{x}",
         "type": "bar",
         "x": [
          155.82089552238807
         ],
         "xaxis": "x",
         "y": [
          "Aalopuri"
         ],
         "yaxis": "y"
        },
        {
         "alignmentgroup": "True",
         "hovertemplate": "item_name=%{y}<br>Revenue=%{x}<extra></extra>",
         "legendgroup": "Vadapav",
         "marker": {
          "color": "#FF6692",
          "pattern": {
           "shape": ""
          }
         },
         "name": "Vadapav",
         "offsetgroup": "Vadapav",
         "orientation": "h",
         "showlegend": true,
         "textposition": "inside",
         "texttemplate": "%{x}",
         "type": "bar",
         "x": [
          150.1492537313433
         ],
         "xaxis": "x",
         "y": [
          "Vadapav"
         ],
         "yaxis": "y"
        }
       ],
       "layout": {
        "barmode": "relative",
        "legend": {
         "title": {
          "text": "item_name"
         },
         "tracegroupgap": 0
        },
        "template": {
         "data": {
          "bar": [
           {
            "error_x": {
             "color": "#2a3f5f"
            },
            "error_y": {
             "color": "#2a3f5f"
            },
            "marker": {
             "line": {
              "color": "#E5ECF6",
              "width": 0.5
             },
             "pattern": {
              "fillmode": "overlay",
              "size": 10,
              "solidity": 0.2
             }
            },
            "type": "bar"
           }
          ],
          "barpolar": [
           {
            "marker": {
             "line": {
              "color": "#E5ECF6",
              "width": 0.5
             },
             "pattern": {
              "fillmode": "overlay",
              "size": 10,
              "solidity": 0.2
             }
            },
            "type": "barpolar"
           }
          ],
          "carpet": [
           {
            "aaxis": {
             "endlinecolor": "#2a3f5f",
             "gridcolor": "white",
             "linecolor": "white",
             "minorgridcolor": "white",
             "startlinecolor": "#2a3f5f"
            },
            "baxis": {
             "endlinecolor": "#2a3f5f",
             "gridcolor": "white",
             "linecolor": "white",
             "minorgridcolor": "white",
             "startlinecolor": "#2a3f5f"
            },
            "type": "carpet"
           }
          ],
          "choropleth": [
           {
            "colorbar": {
             "outlinewidth": 0,
             "ticks": ""
            },
            "type": "choropleth"
           }
          ],
          "contour": [
           {
            "colorbar": {
             "outlinewidth": 0,
             "ticks": ""
            },
            "colorscale": [
             [
              0,
              "#0d0887"
             ],
             [
              0.1111111111111111,
              "#46039f"
             ],
             [
              0.2222222222222222,
              "#7201a8"
             ],
             [
              0.3333333333333333,
              "#9c179e"
             ],
             [
              0.4444444444444444,
              "#bd3786"
             ],
             [
              0.5555555555555556,
              "#d8576b"
             ],
             [
              0.6666666666666666,
              "#ed7953"
             ],
             [
              0.7777777777777778,
              "#fb9f3a"
             ],
             [
              0.8888888888888888,
              "#fdca26"
             ],
             [
              1,
              "#f0f921"
             ]
            ],
            "type": "contour"
           }
          ],
          "contourcarpet": [
           {
            "colorbar": {
             "outlinewidth": 0,
             "ticks": ""
            },
            "type": "contourcarpet"
           }
          ],
          "heatmap": [
           {
            "colorbar": {
             "outlinewidth": 0,
             "ticks": ""
            },
            "colorscale": [
             [
              0,
              "#0d0887"
             ],
             [
              0.1111111111111111,
              "#46039f"
             ],
             [
              0.2222222222222222,
              "#7201a8"
             ],
             [
              0.3333333333333333,
              "#9c179e"
             ],
             [
              0.4444444444444444,
              "#bd3786"
             ],
             [
              0.5555555555555556,
              "#d8576b"
             ],
             [
              0.6666666666666666,
              "#ed7953"
             ],
             [
              0.7777777777777778,
              "#fb9f3a"
             ],
             [
              0.8888888888888888,
              "#fdca26"
             ],
             [
              1,
              "#f0f921"
             ]
            ],
            "type": "heatmap"
           }
          ],
          "heatmapgl": [
           {
            "colorbar": {
             "outlinewidth": 0,
             "ticks": ""
            },
            "colorscale": [
             [
              0,
              "#0d0887"
             ],
             [
              0.1111111111111111,
              "#46039f"
             ],
             [
              0.2222222222222222,
              "#7201a8"
             ],
             [
              0.3333333333333333,
              "#9c179e"
             ],
             [
              0.4444444444444444,
              "#bd3786"
             ],
             [
              0.5555555555555556,
              "#d8576b"
             ],
             [
              0.6666666666666666,
              "#ed7953"
             ],
             [
              0.7777777777777778,
              "#fb9f3a"
             ],
             [
              0.8888888888888888,
              "#fdca26"
             ],
             [
              1,
              "#f0f921"
             ]
            ],
            "type": "heatmapgl"
           }
          ],
          "histogram": [
           {
            "marker": {
             "pattern": {
              "fillmode": "overlay",
              "size": 10,
              "solidity": 0.2
             }
            },
            "type": "histogram"
           }
          ],
          "histogram2d": [
           {
            "colorbar": {
             "outlinewidth": 0,
             "ticks": ""
            },
            "colorscale": [
             [
              0,
              "#0d0887"
             ],
             [
              0.1111111111111111,
              "#46039f"
             ],
             [
              0.2222222222222222,
              "#7201a8"
             ],
             [
              0.3333333333333333,
              "#9c179e"
             ],
             [
              0.4444444444444444,
              "#bd3786"
             ],
             [
              0.5555555555555556,
              "#d8576b"
             ],
             [
              0.6666666666666666,
              "#ed7953"
             ],
             [
              0.7777777777777778,
              "#fb9f3a"
             ],
             [
              0.8888888888888888,
              "#fdca26"
             ],
             [
              1,
              "#f0f921"
             ]
            ],
            "type": "histogram2d"
           }
          ],
          "histogram2dcontour": [
           {
            "colorbar": {
             "outlinewidth": 0,
             "ticks": ""
            },
            "colorscale": [
             [
              0,
              "#0d0887"
             ],
             [
              0.1111111111111111,
              "#46039f"
             ],
             [
              0.2222222222222222,
              "#7201a8"
             ],
             [
              0.3333333333333333,
              "#9c179e"
             ],
             [
              0.4444444444444444,
              "#bd3786"
             ],
             [
              0.5555555555555556,
              "#d8576b"
             ],
             [
              0.6666666666666666,
              "#ed7953"
             ],
             [
              0.7777777777777778,
              "#fb9f3a"
             ],
             [
              0.8888888888888888,
              "#fdca26"
             ],
             [
              1,
              "#f0f921"
             ]
            ],
            "type": "histogram2dcontour"
           }
          ],
          "mesh3d": [
           {
            "colorbar": {
             "outlinewidth": 0,
             "ticks": ""
            },
            "type": "mesh3d"
           }
          ],
          "parcoords": [
           {
            "line": {
             "colorbar": {
              "outlinewidth": 0,
              "ticks": ""
             }
            },
            "type": "parcoords"
           }
          ],
          "pie": [
           {
            "automargin": true,
            "type": "pie"
           }
          ],
          "scatter": [
           {
            "fillpattern": {
             "fillmode": "overlay",
             "size": 10,
             "solidity": 0.2
            },
            "type": "scatter"
           }
          ],
          "scatter3d": [
           {
            "line": {
             "colorbar": {
              "outlinewidth": 0,
              "ticks": ""
             }
            },
            "marker": {
             "colorbar": {
              "outlinewidth": 0,
              "ticks": ""
             }
            },
            "type": "scatter3d"
           }
          ],
          "scattercarpet": [
           {
            "marker": {
             "colorbar": {
              "outlinewidth": 0,
              "ticks": ""
             }
            },
            "type": "scattercarpet"
           }
          ],
          "scattergeo": [
           {
            "marker": {
             "colorbar": {
              "outlinewidth": 0,
              "ticks": ""
             }
            },
            "type": "scattergeo"
           }
          ],
          "scattergl": [
           {
            "marker": {
             "colorbar": {
              "outlinewidth": 0,
              "ticks": ""
             }
            },
            "type": "scattergl"
           }
          ],
          "scattermapbox": [
           {
            "marker": {
             "colorbar": {
              "outlinewidth": 0,
              "ticks": ""
             }
            },
            "type": "scattermapbox"
           }
          ],
          "scatterpolar": [
           {
            "marker": {
             "colorbar": {
              "outlinewidth": 0,
              "ticks": ""
             }
            },
            "type": "scatterpolar"
           }
          ],
          "scatterpolargl": [
           {
            "marker": {
             "colorbar": {
              "outlinewidth": 0,
              "ticks": ""
             }
            },
            "type": "scatterpolargl"
           }
          ],
          "scatterternary": [
           {
            "marker": {
             "colorbar": {
              "outlinewidth": 0,
              "ticks": ""
             }
            },
            "type": "scatterternary"
           }
          ],
          "surface": [
           {
            "colorbar": {
             "outlinewidth": 0,
             "ticks": ""
            },
            "colorscale": [
             [
              0,
              "#0d0887"
             ],
             [
              0.1111111111111111,
              "#46039f"
             ],
             [
              0.2222222222222222,
              "#7201a8"
             ],
             [
              0.3333333333333333,
              "#9c179e"
             ],
             [
              0.4444444444444444,
              "#bd3786"
             ],
             [
              0.5555555555555556,
              "#d8576b"
             ],
             [
              0.6666666666666666,
              "#ed7953"
             ],
             [
              0.7777777777777778,
              "#fb9f3a"
             ],
             [
              0.8888888888888888,
              "#fdca26"
             ],
             [
              1,
              "#f0f921"
             ]
            ],
            "type": "surface"
           }
          ],
          "table": [
           {
            "cells": {
             "fill": {
              "color": "#EBF0F8"
             },
             "line": {
              "color": "white"
             }
            },
            "header": {
             "fill": {
              "color": "#C8D4E3"
             },
             "line": {
              "color": "white"
             }
            },
            "type": "table"
           }
          ]
         },
         "layout": {
          "annotationdefaults": {
           "arrowcolor": "#2a3f5f",
           "arrowhead": 0,
           "arrowwidth": 1
          },
          "autotypenumbers": "strict",
          "coloraxis": {
           "colorbar": {
            "outlinewidth": 0,
            "ticks": ""
           }
          },
          "colorscale": {
           "diverging": [
            [
             0,
             "#8e0152"
            ],
            [
             0.1,
             "#c51b7d"
            ],
            [
             0.2,
             "#de77ae"
            ],
            [
             0.3,
             "#f1b6da"
            ],
            [
             0.4,
             "#fde0ef"
            ],
            [
             0.5,
             "#f7f7f7"
            ],
            [
             0.6,
             "#e6f5d0"
            ],
            [
             0.7,
             "#b8e186"
            ],
            [
             0.8,
             "#7fbc41"
            ],
            [
             0.9,
             "#4d9221"
            ],
            [
             1,
             "#276419"
            ]
           ],
           "sequential": [
            [
             0,
             "#0d0887"
            ],
            [
             0.1111111111111111,
             "#46039f"
            ],
            [
             0.2222222222222222,
             "#7201a8"
            ],
            [
             0.3333333333333333,
             "#9c179e"
            ],
            [
             0.4444444444444444,
             "#bd3786"
            ],
            [
             0.5555555555555556,
             "#d8576b"
            ],
            [
             0.6666666666666666,
             "#ed7953"
            ],
            [
             0.7777777777777778,
             "#fb9f3a"
            ],
            [
             0.8888888888888888,
             "#fdca26"
            ],
            [
             1,
             "#f0f921"
            ]
           ],
           "sequentialminus": [
            [
             0,
             "#0d0887"
            ],
            [
             0.1111111111111111,
             "#46039f"
            ],
            [
             0.2222222222222222,
             "#7201a8"
            ],
            [
             0.3333333333333333,
             "#9c179e"
            ],
            [
             0.4444444444444444,
             "#bd3786"
            ],
            [
             0.5555555555555556,
             "#d8576b"
            ],
            [
             0.6666666666666666,
             "#ed7953"
            ],
            [
             0.7777777777777778,
             "#fb9f3a"
            ],
            [
             0.8888888888888888,
             "#fdca26"
            ],
            [
             1,
             "#f0f921"
            ]
           ]
          },
          "colorway": [
           "#636efa",
           "#EF553B",
           "#00cc96",
           "#ab63fa",
           "#FFA15A",
           "#19d3f3",
           "#FF6692",
           "#B6E880",
           "#FF97FF",
           "#FECB52"
          ],
          "font": {
           "color": "#2a3f5f"
          },
          "geo": {
           "bgcolor": "white",
           "lakecolor": "white",
           "landcolor": "#E5ECF6",
           "showlakes": true,
           "showland": true,
           "subunitcolor": "white"
          },
          "hoverlabel": {
           "align": "left"
          },
          "hovermode": "closest",
          "mapbox": {
           "style": "light"
          },
          "paper_bgcolor": "white",
          "plot_bgcolor": "#E5ECF6",
          "polar": {
           "angularaxis": {
            "gridcolor": "white",
            "linecolor": "white",
            "ticks": ""
           },
           "bgcolor": "#E5ECF6",
           "radialaxis": {
            "gridcolor": "white",
            "linecolor": "white",
            "ticks": ""
           }
          },
          "scene": {
           "xaxis": {
            "backgroundcolor": "#E5ECF6",
            "gridcolor": "white",
            "gridwidth": 2,
            "linecolor": "white",
            "showbackground": true,
            "ticks": "",
            "zerolinecolor": "white"
           },
           "yaxis": {
            "backgroundcolor": "#E5ECF6",
            "gridcolor": "white",
            "gridwidth": 2,
            "linecolor": "white",
            "showbackground": true,
            "ticks": "",
            "zerolinecolor": "white"
           },
           "zaxis": {
            "backgroundcolor": "#E5ECF6",
            "gridcolor": "white",
            "gridwidth": 2,
            "linecolor": "white",
            "showbackground": true,
            "ticks": "",
            "zerolinecolor": "white"
           }
          },
          "shapedefaults": {
           "line": {
            "color": "#2a3f5f"
           }
          },
          "ternary": {
           "aaxis": {
            "gridcolor": "white",
            "linecolor": "white",
            "ticks": ""
           },
           "baxis": {
            "gridcolor": "white",
            "linecolor": "white",
            "ticks": ""
           },
           "bgcolor": "#E5ECF6",
           "caxis": {
            "gridcolor": "white",
            "linecolor": "white",
            "ticks": ""
           }
          },
          "title": {
           "x": 0.05
          },
          "xaxis": {
           "automargin": true,
           "gridcolor": "white",
           "linecolor": "white",
           "ticks": "",
           "title": {
            "standoff": 15
           },
           "zerolinecolor": "white",
           "zerolinewidth": 2
          },
          "yaxis": {
           "automargin": true,
           "gridcolor": "white",
           "linecolor": "white",
           "ticks": "",
           "title": {
            "standoff": 15
           },
           "zerolinecolor": "white",
           "zerolinewidth": 2
          }
         }
        },
        "title": {
         "text": "Revenue for each item"
        },
        "xaxis": {
         "anchor": "y",
         "domain": [
          0,
          1
         ],
         "title": {
          "text": "Revenue"
         }
        },
        "yaxis": {
         "anchor": "x",
         "categoryarray": [
          "Vadapav",
          "Aalopuri",
          "Panipuri",
          "Sugarcane juice",
          "Cold coffee",
          "Frankie",
          "Sandwich"
         ],
         "categoryorder": "array",
         "domain": [
          0,
          1
         ],
         "title": {
          "text": "item_name"
         }
        }
       }
      }
     },
     "metadata": {},
     "output_type": "display_data"
    }
   ],
   "source": [
    "fid=px.bar(d2,y=\"item_name\",x=\"Revenue\",title=\"Revenue for each item\",color=\"item_name\",orientation=\"h\")\n",
    "fid.update_traces(texttemplate='%{x}', textposition='inside')\n",
    "fid.show()"
   ]
  },
  {
   "cell_type": "markdown",
   "metadata": {},
   "source": [
    "which time is peek for sales ?"
   ]
  },
  {
   "cell_type": "code",
   "execution_count": 49,
   "metadata": {},
   "outputs": [
    {
     "data": {
      "application/vnd.plotly.v1+json": {
       "config": {
        "plotlyServerURL": "https://plot.ly"
       },
       "data": [
        {
         "alignmentgroup": "True",
         "bingroup": "x",
         "hovertemplate": "time_of_sale=%{x}<br>count=%{y}<extra></extra>",
         "legendgroup": "Night",
         "marker": {
          "color": "#636efa",
          "pattern": {
           "shape": ""
          }
         },
         "name": "Night",
         "offsetgroup": "Night",
         "orientation": "v",
         "showlegend": true,
         "textposition": "inside",
         "texttemplate": "%{y}",
         "type": "histogram",
         "x": [
          "Night",
          "Night",
          "Night",
          "Night",
          "Night",
          "Night",
          "Night",
          "Night",
          "Night",
          "Night",
          "Night",
          "Night",
          "Night",
          "Night",
          "Night",
          "Night",
          "Night",
          "Night",
          "Night",
          "Night",
          "Night",
          "Night",
          "Night",
          "Night",
          "Night",
          "Night",
          "Night",
          "Night",
          "Night",
          "Night",
          "Night",
          "Night",
          "Night",
          "Night",
          "Night",
          "Night",
          "Night",
          "Night",
          "Night",
          "Night",
          "Night",
          "Night",
          "Night",
          "Night",
          "Night",
          "Night",
          "Night",
          "Night",
          "Night",
          "Night",
          "Night",
          "Night",
          "Night",
          "Night",
          "Night",
          "Night",
          "Night",
          "Night",
          "Night",
          "Night",
          "Night",
          "Night",
          "Night",
          "Night",
          "Night",
          "Night",
          "Night",
          "Night",
          "Night",
          "Night",
          "Night",
          "Night",
          "Night",
          "Night",
          "Night",
          "Night",
          "Night",
          "Night",
          "Night",
          "Night",
          "Night",
          "Night",
          "Night",
          "Night",
          "Night",
          "Night",
          "Night",
          "Night",
          "Night",
          "Night",
          "Night",
          "Night",
          "Night",
          "Night",
          "Night",
          "Night",
          "Night",
          "Night",
          "Night",
          "Night",
          "Night",
          "Night",
          "Night",
          "Night",
          "Night",
          "Night",
          "Night",
          "Night",
          "Night",
          "Night",
          "Night",
          "Night",
          "Night",
          "Night",
          "Night",
          "Night",
          "Night",
          "Night",
          "Night",
          "Night",
          "Night",
          "Night",
          "Night",
          "Night",
          "Night",
          "Night",
          "Night",
          "Night",
          "Night",
          "Night",
          "Night",
          "Night",
          "Night",
          "Night",
          "Night",
          "Night",
          "Night",
          "Night",
          "Night",
          "Night",
          "Night",
          "Night",
          "Night",
          "Night",
          "Night",
          "Night",
          "Night",
          "Night",
          "Night",
          "Night",
          "Night",
          "Night",
          "Night",
          "Night",
          "Night",
          "Night",
          "Night",
          "Night",
          "Night",
          "Night",
          "Night",
          "Night",
          "Night",
          "Night",
          "Night",
          "Night",
          "Night",
          "Night",
          "Night",
          "Night",
          "Night",
          "Night",
          "Night",
          "Night",
          "Night",
          "Night",
          "Night",
          "Night",
          "Night",
          "Night",
          "Night",
          "Night",
          "Night",
          "Night",
          "Night",
          "Night",
          "Night",
          "Night",
          "Night",
          "Night",
          "Night",
          "Night",
          "Night",
          "Night",
          "Night",
          "Night",
          "Night",
          "Night",
          "Night",
          "Night",
          "Night",
          "Night",
          "Night",
          "Night",
          "Night"
         ],
         "xaxis": "x",
         "yaxis": "y"
        },
        {
         "alignmentgroup": "True",
         "bingroup": "x",
         "hovertemplate": "time_of_sale=%{x}<br>count=%{y}<extra></extra>",
         "legendgroup": "Afternoon",
         "marker": {
          "color": "#EF553B",
          "pattern": {
           "shape": ""
          }
         },
         "name": "Afternoon",
         "offsetgroup": "Afternoon",
         "orientation": "v",
         "showlegend": true,
         "textposition": "inside",
         "texttemplate": "%{y}",
         "type": "histogram",
         "x": [
          "Afternoon",
          "Afternoon",
          "Afternoon",
          "Afternoon",
          "Afternoon",
          "Afternoon",
          "Afternoon",
          "Afternoon",
          "Afternoon",
          "Afternoon",
          "Afternoon",
          "Afternoon",
          "Afternoon",
          "Afternoon",
          "Afternoon",
          "Afternoon",
          "Afternoon",
          "Afternoon",
          "Afternoon",
          "Afternoon",
          "Afternoon",
          "Afternoon",
          "Afternoon",
          "Afternoon",
          "Afternoon",
          "Afternoon",
          "Afternoon",
          "Afternoon",
          "Afternoon",
          "Afternoon",
          "Afternoon",
          "Afternoon",
          "Afternoon",
          "Afternoon",
          "Afternoon",
          "Afternoon",
          "Afternoon",
          "Afternoon",
          "Afternoon",
          "Afternoon",
          "Afternoon",
          "Afternoon",
          "Afternoon",
          "Afternoon",
          "Afternoon",
          "Afternoon",
          "Afternoon",
          "Afternoon",
          "Afternoon",
          "Afternoon",
          "Afternoon",
          "Afternoon",
          "Afternoon",
          "Afternoon",
          "Afternoon",
          "Afternoon",
          "Afternoon",
          "Afternoon",
          "Afternoon",
          "Afternoon",
          "Afternoon",
          "Afternoon",
          "Afternoon",
          "Afternoon",
          "Afternoon",
          "Afternoon",
          "Afternoon",
          "Afternoon",
          "Afternoon",
          "Afternoon",
          "Afternoon",
          "Afternoon",
          "Afternoon",
          "Afternoon",
          "Afternoon",
          "Afternoon",
          "Afternoon",
          "Afternoon",
          "Afternoon",
          "Afternoon",
          "Afternoon",
          "Afternoon",
          "Afternoon",
          "Afternoon",
          "Afternoon",
          "Afternoon",
          "Afternoon",
          "Afternoon",
          "Afternoon",
          "Afternoon",
          "Afternoon",
          "Afternoon",
          "Afternoon",
          "Afternoon",
          "Afternoon",
          "Afternoon",
          "Afternoon",
          "Afternoon",
          "Afternoon",
          "Afternoon",
          "Afternoon",
          "Afternoon",
          "Afternoon",
          "Afternoon",
          "Afternoon",
          "Afternoon",
          "Afternoon",
          "Afternoon",
          "Afternoon",
          "Afternoon",
          "Afternoon",
          "Afternoon",
          "Afternoon",
          "Afternoon",
          "Afternoon",
          "Afternoon",
          "Afternoon",
          "Afternoon",
          "Afternoon",
          "Afternoon",
          "Afternoon",
          "Afternoon",
          "Afternoon",
          "Afternoon",
          "Afternoon",
          "Afternoon",
          "Afternoon",
          "Afternoon",
          "Afternoon",
          "Afternoon",
          "Afternoon",
          "Afternoon",
          "Afternoon",
          "Afternoon",
          "Afternoon",
          "Afternoon",
          "Afternoon",
          "Afternoon",
          "Afternoon",
          "Afternoon",
          "Afternoon",
          "Afternoon",
          "Afternoon",
          "Afternoon",
          "Afternoon",
          "Afternoon",
          "Afternoon",
          "Afternoon",
          "Afternoon",
          "Afternoon",
          "Afternoon",
          "Afternoon",
          "Afternoon",
          "Afternoon",
          "Afternoon",
          "Afternoon",
          "Afternoon",
          "Afternoon",
          "Afternoon",
          "Afternoon",
          "Afternoon",
          "Afternoon",
          "Afternoon",
          "Afternoon",
          "Afternoon",
          "Afternoon",
          "Afternoon",
          "Afternoon",
          "Afternoon",
          "Afternoon",
          "Afternoon",
          "Afternoon",
          "Afternoon",
          "Afternoon",
          "Afternoon",
          "Afternoon",
          "Afternoon",
          "Afternoon",
          "Afternoon",
          "Afternoon",
          "Afternoon",
          "Afternoon",
          "Afternoon",
          "Afternoon",
          "Afternoon",
          "Afternoon",
          "Afternoon",
          "Afternoon",
          "Afternoon",
          "Afternoon",
          "Afternoon",
          "Afternoon",
          "Afternoon",
          "Afternoon",
          "Afternoon",
          "Afternoon",
          "Afternoon",
          "Afternoon",
          "Afternoon",
          "Afternoon",
          "Afternoon",
          "Afternoon",
          "Afternoon",
          "Afternoon",
          "Afternoon"
         ],
         "xaxis": "x",
         "yaxis": "y"
        },
        {
         "alignmentgroup": "True",
         "bingroup": "x",
         "hovertemplate": "time_of_sale=%{x}<br>count=%{y}<extra></extra>",
         "legendgroup": "Evening",
         "marker": {
          "color": "#00cc96",
          "pattern": {
           "shape": ""
          }
         },
         "name": "Evening",
         "offsetgroup": "Evening",
         "orientation": "v",
         "showlegend": true,
         "textposition": "inside",
         "texttemplate": "%{y}",
         "type": "histogram",
         "x": [
          "Evening",
          "Evening",
          "Evening",
          "Evening",
          "Evening",
          "Evening",
          "Evening",
          "Evening",
          "Evening",
          "Evening",
          "Evening",
          "Evening",
          "Evening",
          "Evening",
          "Evening",
          "Evening",
          "Evening",
          "Evening",
          "Evening",
          "Evening",
          "Evening",
          "Evening",
          "Evening",
          "Evening",
          "Evening",
          "Evening",
          "Evening",
          "Evening",
          "Evening",
          "Evening",
          "Evening",
          "Evening",
          "Evening",
          "Evening",
          "Evening",
          "Evening",
          "Evening",
          "Evening",
          "Evening",
          "Evening",
          "Evening",
          "Evening",
          "Evening",
          "Evening",
          "Evening",
          "Evening",
          "Evening",
          "Evening",
          "Evening",
          "Evening",
          "Evening",
          "Evening",
          "Evening",
          "Evening",
          "Evening",
          "Evening",
          "Evening",
          "Evening",
          "Evening",
          "Evening",
          "Evening",
          "Evening",
          "Evening",
          "Evening",
          "Evening",
          "Evening",
          "Evening",
          "Evening",
          "Evening",
          "Evening",
          "Evening",
          "Evening",
          "Evening",
          "Evening",
          "Evening",
          "Evening",
          "Evening",
          "Evening",
          "Evening",
          "Evening",
          "Evening",
          "Evening",
          "Evening",
          "Evening",
          "Evening",
          "Evening",
          "Evening",
          "Evening",
          "Evening",
          "Evening",
          "Evening",
          "Evening",
          "Evening",
          "Evening",
          "Evening",
          "Evening",
          "Evening",
          "Evening",
          "Evening",
          "Evening",
          "Evening",
          "Evening",
          "Evening",
          "Evening",
          "Evening",
          "Evening",
          "Evening",
          "Evening",
          "Evening",
          "Evening",
          "Evening",
          "Evening",
          "Evening",
          "Evening",
          "Evening",
          "Evening",
          "Evening",
          "Evening",
          "Evening",
          "Evening",
          "Evening",
          "Evening",
          "Evening",
          "Evening",
          "Evening",
          "Evening",
          "Evening",
          "Evening",
          "Evening",
          "Evening",
          "Evening",
          "Evening",
          "Evening",
          "Evening",
          "Evening",
          "Evening",
          "Evening",
          "Evening",
          "Evening",
          "Evening",
          "Evening",
          "Evening",
          "Evening",
          "Evening",
          "Evening",
          "Evening",
          "Evening",
          "Evening",
          "Evening",
          "Evening",
          "Evening",
          "Evening",
          "Evening",
          "Evening",
          "Evening",
          "Evening",
          "Evening",
          "Evening",
          "Evening",
          "Evening",
          "Evening",
          "Evening",
          "Evening",
          "Evening",
          "Evening",
          "Evening",
          "Evening",
          "Evening",
          "Evening",
          "Evening",
          "Evening",
          "Evening",
          "Evening",
          "Evening",
          "Evening",
          "Evening",
          "Evening",
          "Evening",
          "Evening",
          "Evening",
          "Evening",
          "Evening",
          "Evening",
          "Evening",
          "Evening",
          "Evening",
          "Evening",
          "Evening",
          "Evening",
          "Evening",
          "Evening",
          "Evening",
          "Evening",
          "Evening",
          "Evening",
          "Evening",
          "Evening",
          "Evening",
          "Evening",
          "Evening",
          "Evening"
         ],
         "xaxis": "x",
         "yaxis": "y"
        },
        {
         "alignmentgroup": "True",
         "bingroup": "x",
         "hovertemplate": "time_of_sale=%{x}<br>count=%{y}<extra></extra>",
         "legendgroup": "Morning",
         "marker": {
          "color": "#ab63fa",
          "pattern": {
           "shape": ""
          }
         },
         "name": "Morning",
         "offsetgroup": "Morning",
         "orientation": "v",
         "showlegend": true,
         "textposition": "inside",
         "texttemplate": "%{y}",
         "type": "histogram",
         "x": [
          "Morning",
          "Morning",
          "Morning",
          "Morning",
          "Morning",
          "Morning",
          "Morning",
          "Morning",
          "Morning",
          "Morning",
          "Morning",
          "Morning",
          "Morning",
          "Morning",
          "Morning",
          "Morning",
          "Morning",
          "Morning",
          "Morning",
          "Morning",
          "Morning",
          "Morning",
          "Morning",
          "Morning",
          "Morning",
          "Morning",
          "Morning",
          "Morning",
          "Morning",
          "Morning",
          "Morning",
          "Morning",
          "Morning",
          "Morning",
          "Morning",
          "Morning",
          "Morning",
          "Morning",
          "Morning",
          "Morning",
          "Morning",
          "Morning",
          "Morning",
          "Morning",
          "Morning",
          "Morning",
          "Morning",
          "Morning",
          "Morning",
          "Morning",
          "Morning",
          "Morning",
          "Morning",
          "Morning",
          "Morning",
          "Morning",
          "Morning",
          "Morning",
          "Morning",
          "Morning",
          "Morning",
          "Morning",
          "Morning",
          "Morning",
          "Morning",
          "Morning",
          "Morning",
          "Morning",
          "Morning",
          "Morning",
          "Morning",
          "Morning",
          "Morning",
          "Morning",
          "Morning",
          "Morning",
          "Morning",
          "Morning",
          "Morning",
          "Morning",
          "Morning",
          "Morning",
          "Morning",
          "Morning",
          "Morning",
          "Morning",
          "Morning",
          "Morning",
          "Morning",
          "Morning",
          "Morning",
          "Morning",
          "Morning",
          "Morning",
          "Morning",
          "Morning",
          "Morning",
          "Morning",
          "Morning",
          "Morning",
          "Morning",
          "Morning",
          "Morning",
          "Morning",
          "Morning",
          "Morning",
          "Morning",
          "Morning",
          "Morning",
          "Morning",
          "Morning",
          "Morning",
          "Morning",
          "Morning",
          "Morning",
          "Morning",
          "Morning",
          "Morning",
          "Morning",
          "Morning",
          "Morning",
          "Morning",
          "Morning",
          "Morning",
          "Morning",
          "Morning",
          "Morning",
          "Morning",
          "Morning",
          "Morning",
          "Morning",
          "Morning",
          "Morning",
          "Morning",
          "Morning",
          "Morning",
          "Morning",
          "Morning",
          "Morning",
          "Morning",
          "Morning",
          "Morning",
          "Morning",
          "Morning",
          "Morning",
          "Morning",
          "Morning",
          "Morning",
          "Morning",
          "Morning",
          "Morning",
          "Morning",
          "Morning",
          "Morning",
          "Morning",
          "Morning",
          "Morning",
          "Morning",
          "Morning",
          "Morning",
          "Morning",
          "Morning",
          "Morning",
          "Morning",
          "Morning",
          "Morning",
          "Morning",
          "Morning",
          "Morning",
          "Morning",
          "Morning",
          "Morning",
          "Morning",
          "Morning",
          "Morning",
          "Morning",
          "Morning",
          "Morning",
          "Morning",
          "Morning",
          "Morning",
          "Morning",
          "Morning",
          "Morning",
          "Morning",
          "Morning",
          "Morning",
          "Morning",
          "Morning",
          "Morning"
         ],
         "xaxis": "x",
         "yaxis": "y"
        },
        {
         "alignmentgroup": "True",
         "bingroup": "x",
         "hovertemplate": "time_of_sale=%{x}<br>count=%{y}<extra></extra>",
         "legendgroup": "Midnight",
         "marker": {
          "color": "#FFA15A",
          "pattern": {
           "shape": ""
          }
         },
         "name": "Midnight",
         "offsetgroup": "Midnight",
         "orientation": "v",
         "showlegend": true,
         "textposition": "inside",
         "texttemplate": "%{y}",
         "type": "histogram",
         "x": [
          "Midnight",
          "Midnight",
          "Midnight",
          "Midnight",
          "Midnight",
          "Midnight",
          "Midnight",
          "Midnight",
          "Midnight",
          "Midnight",
          "Midnight",
          "Midnight",
          "Midnight",
          "Midnight",
          "Midnight",
          "Midnight",
          "Midnight",
          "Midnight",
          "Midnight",
          "Midnight",
          "Midnight",
          "Midnight",
          "Midnight",
          "Midnight",
          "Midnight",
          "Midnight",
          "Midnight",
          "Midnight",
          "Midnight",
          "Midnight",
          "Midnight",
          "Midnight",
          "Midnight",
          "Midnight",
          "Midnight",
          "Midnight",
          "Midnight",
          "Midnight",
          "Midnight",
          "Midnight",
          "Midnight",
          "Midnight",
          "Midnight",
          "Midnight",
          "Midnight",
          "Midnight",
          "Midnight",
          "Midnight",
          "Midnight",
          "Midnight",
          "Midnight",
          "Midnight",
          "Midnight",
          "Midnight",
          "Midnight",
          "Midnight",
          "Midnight",
          "Midnight",
          "Midnight",
          "Midnight",
          "Midnight",
          "Midnight",
          "Midnight",
          "Midnight",
          "Midnight",
          "Midnight",
          "Midnight",
          "Midnight",
          "Midnight",
          "Midnight",
          "Midnight",
          "Midnight",
          "Midnight",
          "Midnight",
          "Midnight",
          "Midnight",
          "Midnight",
          "Midnight",
          "Midnight",
          "Midnight",
          "Midnight",
          "Midnight",
          "Midnight",
          "Midnight",
          "Midnight",
          "Midnight",
          "Midnight",
          "Midnight",
          "Midnight",
          "Midnight",
          "Midnight",
          "Midnight",
          "Midnight",
          "Midnight",
          "Midnight",
          "Midnight",
          "Midnight",
          "Midnight",
          "Midnight",
          "Midnight",
          "Midnight",
          "Midnight",
          "Midnight",
          "Midnight",
          "Midnight",
          "Midnight",
          "Midnight",
          "Midnight",
          "Midnight",
          "Midnight",
          "Midnight",
          "Midnight",
          "Midnight",
          "Midnight",
          "Midnight",
          "Midnight",
          "Midnight",
          "Midnight",
          "Midnight",
          "Midnight",
          "Midnight",
          "Midnight",
          "Midnight",
          "Midnight",
          "Midnight",
          "Midnight",
          "Midnight",
          "Midnight",
          "Midnight",
          "Midnight",
          "Midnight",
          "Midnight",
          "Midnight",
          "Midnight",
          "Midnight",
          "Midnight",
          "Midnight",
          "Midnight",
          "Midnight",
          "Midnight",
          "Midnight",
          "Midnight",
          "Midnight",
          "Midnight",
          "Midnight",
          "Midnight",
          "Midnight",
          "Midnight",
          "Midnight",
          "Midnight",
          "Midnight",
          "Midnight",
          "Midnight",
          "Midnight",
          "Midnight",
          "Midnight",
          "Midnight",
          "Midnight",
          "Midnight",
          "Midnight",
          "Midnight",
          "Midnight",
          "Midnight",
          "Midnight",
          "Midnight",
          "Midnight",
          "Midnight",
          "Midnight",
          "Midnight",
          "Midnight",
          "Midnight",
          "Midnight",
          "Midnight",
          "Midnight",
          "Midnight",
          "Midnight",
          "Midnight",
          "Midnight",
          "Midnight",
          "Midnight",
          "Midnight",
          "Midnight",
          "Midnight",
          "Midnight",
          "Midnight",
          "Midnight",
          "Midnight",
          "Midnight",
          "Midnight",
          "Midnight",
          "Midnight",
          "Midnight",
          "Midnight",
          "Midnight",
          "Midnight",
          "Midnight",
          "Midnight",
          "Midnight",
          "Midnight"
         ],
         "xaxis": "x",
         "yaxis": "y"
        }
       ],
       "layout": {
        "barmode": "relative",
        "legend": {
         "title": {
          "text": "time_of_sale"
         },
         "tracegroupgap": 0
        },
        "margin": {
         "t": 60
        },
        "template": {
         "data": {
          "bar": [
           {
            "error_x": {
             "color": "#2a3f5f"
            },
            "error_y": {
             "color": "#2a3f5f"
            },
            "marker": {
             "line": {
              "color": "#E5ECF6",
              "width": 0.5
             },
             "pattern": {
              "fillmode": "overlay",
              "size": 10,
              "solidity": 0.2
             }
            },
            "type": "bar"
           }
          ],
          "barpolar": [
           {
            "marker": {
             "line": {
              "color": "#E5ECF6",
              "width": 0.5
             },
             "pattern": {
              "fillmode": "overlay",
              "size": 10,
              "solidity": 0.2
             }
            },
            "type": "barpolar"
           }
          ],
          "carpet": [
           {
            "aaxis": {
             "endlinecolor": "#2a3f5f",
             "gridcolor": "white",
             "linecolor": "white",
             "minorgridcolor": "white",
             "startlinecolor": "#2a3f5f"
            },
            "baxis": {
             "endlinecolor": "#2a3f5f",
             "gridcolor": "white",
             "linecolor": "white",
             "minorgridcolor": "white",
             "startlinecolor": "#2a3f5f"
            },
            "type": "carpet"
           }
          ],
          "choropleth": [
           {
            "colorbar": {
             "outlinewidth": 0,
             "ticks": ""
            },
            "type": "choropleth"
           }
          ],
          "contour": [
           {
            "colorbar": {
             "outlinewidth": 0,
             "ticks": ""
            },
            "colorscale": [
             [
              0,
              "#0d0887"
             ],
             [
              0.1111111111111111,
              "#46039f"
             ],
             [
              0.2222222222222222,
              "#7201a8"
             ],
             [
              0.3333333333333333,
              "#9c179e"
             ],
             [
              0.4444444444444444,
              "#bd3786"
             ],
             [
              0.5555555555555556,
              "#d8576b"
             ],
             [
              0.6666666666666666,
              "#ed7953"
             ],
             [
              0.7777777777777778,
              "#fb9f3a"
             ],
             [
              0.8888888888888888,
              "#fdca26"
             ],
             [
              1,
              "#f0f921"
             ]
            ],
            "type": "contour"
           }
          ],
          "contourcarpet": [
           {
            "colorbar": {
             "outlinewidth": 0,
             "ticks": ""
            },
            "type": "contourcarpet"
           }
          ],
          "heatmap": [
           {
            "colorbar": {
             "outlinewidth": 0,
             "ticks": ""
            },
            "colorscale": [
             [
              0,
              "#0d0887"
             ],
             [
              0.1111111111111111,
              "#46039f"
             ],
             [
              0.2222222222222222,
              "#7201a8"
             ],
             [
              0.3333333333333333,
              "#9c179e"
             ],
             [
              0.4444444444444444,
              "#bd3786"
             ],
             [
              0.5555555555555556,
              "#d8576b"
             ],
             [
              0.6666666666666666,
              "#ed7953"
             ],
             [
              0.7777777777777778,
              "#fb9f3a"
             ],
             [
              0.8888888888888888,
              "#fdca26"
             ],
             [
              1,
              "#f0f921"
             ]
            ],
            "type": "heatmap"
           }
          ],
          "heatmapgl": [
           {
            "colorbar": {
             "outlinewidth": 0,
             "ticks": ""
            },
            "colorscale": [
             [
              0,
              "#0d0887"
             ],
             [
              0.1111111111111111,
              "#46039f"
             ],
             [
              0.2222222222222222,
              "#7201a8"
             ],
             [
              0.3333333333333333,
              "#9c179e"
             ],
             [
              0.4444444444444444,
              "#bd3786"
             ],
             [
              0.5555555555555556,
              "#d8576b"
             ],
             [
              0.6666666666666666,
              "#ed7953"
             ],
             [
              0.7777777777777778,
              "#fb9f3a"
             ],
             [
              0.8888888888888888,
              "#fdca26"
             ],
             [
              1,
              "#f0f921"
             ]
            ],
            "type": "heatmapgl"
           }
          ],
          "histogram": [
           {
            "marker": {
             "pattern": {
              "fillmode": "overlay",
              "size": 10,
              "solidity": 0.2
             }
            },
            "type": "histogram"
           }
          ],
          "histogram2d": [
           {
            "colorbar": {
             "outlinewidth": 0,
             "ticks": ""
            },
            "colorscale": [
             [
              0,
              "#0d0887"
             ],
             [
              0.1111111111111111,
              "#46039f"
             ],
             [
              0.2222222222222222,
              "#7201a8"
             ],
             [
              0.3333333333333333,
              "#9c179e"
             ],
             [
              0.4444444444444444,
              "#bd3786"
             ],
             [
              0.5555555555555556,
              "#d8576b"
             ],
             [
              0.6666666666666666,
              "#ed7953"
             ],
             [
              0.7777777777777778,
              "#fb9f3a"
             ],
             [
              0.8888888888888888,
              "#fdca26"
             ],
             [
              1,
              "#f0f921"
             ]
            ],
            "type": "histogram2d"
           }
          ],
          "histogram2dcontour": [
           {
            "colorbar": {
             "outlinewidth": 0,
             "ticks": ""
            },
            "colorscale": [
             [
              0,
              "#0d0887"
             ],
             [
              0.1111111111111111,
              "#46039f"
             ],
             [
              0.2222222222222222,
              "#7201a8"
             ],
             [
              0.3333333333333333,
              "#9c179e"
             ],
             [
              0.4444444444444444,
              "#bd3786"
             ],
             [
              0.5555555555555556,
              "#d8576b"
             ],
             [
              0.6666666666666666,
              "#ed7953"
             ],
             [
              0.7777777777777778,
              "#fb9f3a"
             ],
             [
              0.8888888888888888,
              "#fdca26"
             ],
             [
              1,
              "#f0f921"
             ]
            ],
            "type": "histogram2dcontour"
           }
          ],
          "mesh3d": [
           {
            "colorbar": {
             "outlinewidth": 0,
             "ticks": ""
            },
            "type": "mesh3d"
           }
          ],
          "parcoords": [
           {
            "line": {
             "colorbar": {
              "outlinewidth": 0,
              "ticks": ""
             }
            },
            "type": "parcoords"
           }
          ],
          "pie": [
           {
            "automargin": true,
            "type": "pie"
           }
          ],
          "scatter": [
           {
            "fillpattern": {
             "fillmode": "overlay",
             "size": 10,
             "solidity": 0.2
            },
            "type": "scatter"
           }
          ],
          "scatter3d": [
           {
            "line": {
             "colorbar": {
              "outlinewidth": 0,
              "ticks": ""
             }
            },
            "marker": {
             "colorbar": {
              "outlinewidth": 0,
              "ticks": ""
             }
            },
            "type": "scatter3d"
           }
          ],
          "scattercarpet": [
           {
            "marker": {
             "colorbar": {
              "outlinewidth": 0,
              "ticks": ""
             }
            },
            "type": "scattercarpet"
           }
          ],
          "scattergeo": [
           {
            "marker": {
             "colorbar": {
              "outlinewidth": 0,
              "ticks": ""
             }
            },
            "type": "scattergeo"
           }
          ],
          "scattergl": [
           {
            "marker": {
             "colorbar": {
              "outlinewidth": 0,
              "ticks": ""
             }
            },
            "type": "scattergl"
           }
          ],
          "scattermapbox": [
           {
            "marker": {
             "colorbar": {
              "outlinewidth": 0,
              "ticks": ""
             }
            },
            "type": "scattermapbox"
           }
          ],
          "scatterpolar": [
           {
            "marker": {
             "colorbar": {
              "outlinewidth": 0,
              "ticks": ""
             }
            },
            "type": "scatterpolar"
           }
          ],
          "scatterpolargl": [
           {
            "marker": {
             "colorbar": {
              "outlinewidth": 0,
              "ticks": ""
             }
            },
            "type": "scatterpolargl"
           }
          ],
          "scatterternary": [
           {
            "marker": {
             "colorbar": {
              "outlinewidth": 0,
              "ticks": ""
             }
            },
            "type": "scatterternary"
           }
          ],
          "surface": [
           {
            "colorbar": {
             "outlinewidth": 0,
             "ticks": ""
            },
            "colorscale": [
             [
              0,
              "#0d0887"
             ],
             [
              0.1111111111111111,
              "#46039f"
             ],
             [
              0.2222222222222222,
              "#7201a8"
             ],
             [
              0.3333333333333333,
              "#9c179e"
             ],
             [
              0.4444444444444444,
              "#bd3786"
             ],
             [
              0.5555555555555556,
              "#d8576b"
             ],
             [
              0.6666666666666666,
              "#ed7953"
             ],
             [
              0.7777777777777778,
              "#fb9f3a"
             ],
             [
              0.8888888888888888,
              "#fdca26"
             ],
             [
              1,
              "#f0f921"
             ]
            ],
            "type": "surface"
           }
          ],
          "table": [
           {
            "cells": {
             "fill": {
              "color": "#EBF0F8"
             },
             "line": {
              "color": "white"
             }
            },
            "header": {
             "fill": {
              "color": "#C8D4E3"
             },
             "line": {
              "color": "white"
             }
            },
            "type": "table"
           }
          ]
         },
         "layout": {
          "annotationdefaults": {
           "arrowcolor": "#2a3f5f",
           "arrowhead": 0,
           "arrowwidth": 1
          },
          "autotypenumbers": "strict",
          "coloraxis": {
           "colorbar": {
            "outlinewidth": 0,
            "ticks": ""
           }
          },
          "colorscale": {
           "diverging": [
            [
             0,
             "#8e0152"
            ],
            [
             0.1,
             "#c51b7d"
            ],
            [
             0.2,
             "#de77ae"
            ],
            [
             0.3,
             "#f1b6da"
            ],
            [
             0.4,
             "#fde0ef"
            ],
            [
             0.5,
             "#f7f7f7"
            ],
            [
             0.6,
             "#e6f5d0"
            ],
            [
             0.7,
             "#b8e186"
            ],
            [
             0.8,
             "#7fbc41"
            ],
            [
             0.9,
             "#4d9221"
            ],
            [
             1,
             "#276419"
            ]
           ],
           "sequential": [
            [
             0,
             "#0d0887"
            ],
            [
             0.1111111111111111,
             "#46039f"
            ],
            [
             0.2222222222222222,
             "#7201a8"
            ],
            [
             0.3333333333333333,
             "#9c179e"
            ],
            [
             0.4444444444444444,
             "#bd3786"
            ],
            [
             0.5555555555555556,
             "#d8576b"
            ],
            [
             0.6666666666666666,
             "#ed7953"
            ],
            [
             0.7777777777777778,
             "#fb9f3a"
            ],
            [
             0.8888888888888888,
             "#fdca26"
            ],
            [
             1,
             "#f0f921"
            ]
           ],
           "sequentialminus": [
            [
             0,
             "#0d0887"
            ],
            [
             0.1111111111111111,
             "#46039f"
            ],
            [
             0.2222222222222222,
             "#7201a8"
            ],
            [
             0.3333333333333333,
             "#9c179e"
            ],
            [
             0.4444444444444444,
             "#bd3786"
            ],
            [
             0.5555555555555556,
             "#d8576b"
            ],
            [
             0.6666666666666666,
             "#ed7953"
            ],
            [
             0.7777777777777778,
             "#fb9f3a"
            ],
            [
             0.8888888888888888,
             "#fdca26"
            ],
            [
             1,
             "#f0f921"
            ]
           ]
          },
          "colorway": [
           "#636efa",
           "#EF553B",
           "#00cc96",
           "#ab63fa",
           "#FFA15A",
           "#19d3f3",
           "#FF6692",
           "#B6E880",
           "#FF97FF",
           "#FECB52"
          ],
          "font": {
           "color": "#2a3f5f"
          },
          "geo": {
           "bgcolor": "white",
           "lakecolor": "white",
           "landcolor": "#E5ECF6",
           "showlakes": true,
           "showland": true,
           "subunitcolor": "white"
          },
          "hoverlabel": {
           "align": "left"
          },
          "hovermode": "closest",
          "mapbox": {
           "style": "light"
          },
          "paper_bgcolor": "white",
          "plot_bgcolor": "#E5ECF6",
          "polar": {
           "angularaxis": {
            "gridcolor": "white",
            "linecolor": "white",
            "ticks": ""
           },
           "bgcolor": "#E5ECF6",
           "radialaxis": {
            "gridcolor": "white",
            "linecolor": "white",
            "ticks": ""
           }
          },
          "scene": {
           "xaxis": {
            "backgroundcolor": "#E5ECF6",
            "gridcolor": "white",
            "gridwidth": 2,
            "linecolor": "white",
            "showbackground": true,
            "ticks": "",
            "zerolinecolor": "white"
           },
           "yaxis": {
            "backgroundcolor": "#E5ECF6",
            "gridcolor": "white",
            "gridwidth": 2,
            "linecolor": "white",
            "showbackground": true,
            "ticks": "",
            "zerolinecolor": "white"
           },
           "zaxis": {
            "backgroundcolor": "#E5ECF6",
            "gridcolor": "white",
            "gridwidth": 2,
            "linecolor": "white",
            "showbackground": true,
            "ticks": "",
            "zerolinecolor": "white"
           }
          },
          "shapedefaults": {
           "line": {
            "color": "#2a3f5f"
           }
          },
          "ternary": {
           "aaxis": {
            "gridcolor": "white",
            "linecolor": "white",
            "ticks": ""
           },
           "baxis": {
            "gridcolor": "white",
            "linecolor": "white",
            "ticks": ""
           },
           "bgcolor": "#E5ECF6",
           "caxis": {
            "gridcolor": "white",
            "linecolor": "white",
            "ticks": ""
           }
          },
          "title": {
           "x": 0.05
          },
          "xaxis": {
           "automargin": true,
           "gridcolor": "white",
           "linecolor": "white",
           "ticks": "",
           "title": {
            "standoff": 15
           },
           "zerolinecolor": "white",
           "zerolinewidth": 2
          },
          "yaxis": {
           "automargin": true,
           "gridcolor": "white",
           "linecolor": "white",
           "ticks": "",
           "title": {
            "standoff": 15
           },
           "zerolinecolor": "white",
           "zerolinewidth": 2
          }
         }
        },
        "xaxis": {
         "anchor": "y",
         "categoryarray": [
          "Night",
          "Afternoon",
          "Evening",
          "Morning",
          "Midnight"
         ],
         "categoryorder": "array",
         "domain": [
          0,
          1
         ],
         "title": {
          "text": "time_of_sale"
         }
        },
        "yaxis": {
         "anchor": "x",
         "domain": [
          0,
          1
         ],
         "title": {
          "text": "count"
         }
        }
       }
      }
     },
     "metadata": {},
     "output_type": "display_data"
    }
   ],
   "source": [
    "fig=px.histogram(df,x=\"time_of_sale\",color=\"time_of_sale\")\n",
    "fig.update_traces(texttemplate='%{y}', textposition='inside')\n",
    "fig.show()"
   ]
  },
  {
   "cell_type": "code",
   "execution_count": 50,
   "metadata": {},
   "outputs": [],
   "source": [
    "d4=df.groupby(\"time_of_sale\")[\"Revenue\"].sum().sort_values(ascending=False).reset_index()"
   ]
  },
  {
   "cell_type": "code",
   "execution_count": 51,
   "metadata": {},
   "outputs": [],
   "source": [
    "tot=df[\"Revenue\"].sum()"
   ]
  },
  {
   "cell_type": "code",
   "execution_count": 52,
   "metadata": {},
   "outputs": [
    {
     "data": {
      "text/html": [
       "<div>\n",
       "<style scoped>\n",
       "    .dataframe tbody tr th:only-of-type {\n",
       "        vertical-align: middle;\n",
       "    }\n",
       "\n",
       "    .dataframe tbody tr th {\n",
       "        vertical-align: top;\n",
       "    }\n",
       "\n",
       "    .dataframe thead th {\n",
       "        text-align: right;\n",
       "    }\n",
       "</style>\n",
       "<table border=\"1\" class=\"dataframe\">\n",
       "  <thead>\n",
       "    <tr style=\"text-align: right;\">\n",
       "      <th></th>\n",
       "      <th>time_of_sale</th>\n",
       "      <th>Revenue</th>\n",
       "      <th>Percentage</th>\n",
       "    </tr>\n",
       "  </thead>\n",
       "  <tbody>\n",
       "    <tr>\n",
       "      <th>0</th>\n",
       "      <td>Night</td>\n",
       "      <td>62075</td>\n",
       "      <td>22.55</td>\n",
       "    </tr>\n",
       "    <tr>\n",
       "      <th>1</th>\n",
       "      <td>Afternoon</td>\n",
       "      <td>56345</td>\n",
       "      <td>20.47</td>\n",
       "    </tr>\n",
       "    <tr>\n",
       "      <th>2</th>\n",
       "      <td>Morning</td>\n",
       "      <td>53730</td>\n",
       "      <td>19.52</td>\n",
       "    </tr>\n",
       "    <tr>\n",
       "      <th>3</th>\n",
       "      <td>Evening</td>\n",
       "      <td>52355</td>\n",
       "      <td>19.02</td>\n",
       "    </tr>\n",
       "    <tr>\n",
       "      <th>4</th>\n",
       "      <td>Midnight</td>\n",
       "      <td>50725</td>\n",
       "      <td>18.43</td>\n",
       "    </tr>\n",
       "  </tbody>\n",
       "</table>\n",
       "</div>"
      ],
      "text/plain": [
       "  time_of_sale  Revenue  Percentage\n",
       "0        Night    62075       22.55\n",
       "1    Afternoon    56345       20.47\n",
       "2      Morning    53730       19.52\n",
       "3      Evening    52355       19.02\n",
       "4     Midnight    50725       18.43"
      ]
     },
     "execution_count": 52,
     "metadata": {},
     "output_type": "execute_result"
    }
   ],
   "source": [
    "d4[\"Percentage\"] = (d4[\"Revenue\"] / tot) * 100\n",
    "d4[\"Percentage\"] = d4[\"Percentage\"].round(2)\n",
    "d4\n"
   ]
  },
  {
   "cell_type": "code",
   "execution_count": 53,
   "metadata": {},
   "outputs": [
    {
     "data": {
      "application/vnd.plotly.v1+json": {
       "config": {
        "plotlyServerURL": "https://plot.ly"
       },
       "data": [
        {
         "alignmentgroup": "True",
         "hovertemplate": "time_of_sale=%{x}<br>Percentage=%{y}<extra></extra>",
         "legendgroup": "Night",
         "marker": {
          "color": "#636efa",
          "pattern": {
           "shape": ""
          }
         },
         "name": "Night",
         "offsetgroup": "Night",
         "orientation": "v",
         "showlegend": true,
         "textposition": "inside",
         "texttemplate": "%{y}",
         "type": "bar",
         "x": [
          "Night"
         ],
         "xaxis": "x",
         "y": [
          22.55
         ],
         "yaxis": "y"
        },
        {
         "alignmentgroup": "True",
         "hovertemplate": "time_of_sale=%{x}<br>Percentage=%{y}<extra></extra>",
         "legendgroup": "Afternoon",
         "marker": {
          "color": "#EF553B",
          "pattern": {
           "shape": ""
          }
         },
         "name": "Afternoon",
         "offsetgroup": "Afternoon",
         "orientation": "v",
         "showlegend": true,
         "textposition": "inside",
         "texttemplate": "%{y}",
         "type": "bar",
         "x": [
          "Afternoon"
         ],
         "xaxis": "x",
         "y": [
          20.47
         ],
         "yaxis": "y"
        },
        {
         "alignmentgroup": "True",
         "hovertemplate": "time_of_sale=%{x}<br>Percentage=%{y}<extra></extra>",
         "legendgroup": "Morning",
         "marker": {
          "color": "#00cc96",
          "pattern": {
           "shape": ""
          }
         },
         "name": "Morning",
         "offsetgroup": "Morning",
         "orientation": "v",
         "showlegend": true,
         "textposition": "inside",
         "texttemplate": "%{y}",
         "type": "bar",
         "x": [
          "Morning"
         ],
         "xaxis": "x",
         "y": [
          19.52
         ],
         "yaxis": "y"
        },
        {
         "alignmentgroup": "True",
         "hovertemplate": "time_of_sale=%{x}<br>Percentage=%{y}<extra></extra>",
         "legendgroup": "Evening",
         "marker": {
          "color": "#ab63fa",
          "pattern": {
           "shape": ""
          }
         },
         "name": "Evening",
         "offsetgroup": "Evening",
         "orientation": "v",
         "showlegend": true,
         "textposition": "inside",
         "texttemplate": "%{y}",
         "type": "bar",
         "x": [
          "Evening"
         ],
         "xaxis": "x",
         "y": [
          19.02
         ],
         "yaxis": "y"
        },
        {
         "alignmentgroup": "True",
         "hovertemplate": "time_of_sale=%{x}<br>Percentage=%{y}<extra></extra>",
         "legendgroup": "Midnight",
         "marker": {
          "color": "#FFA15A",
          "pattern": {
           "shape": ""
          }
         },
         "name": "Midnight",
         "offsetgroup": "Midnight",
         "orientation": "v",
         "showlegend": true,
         "textposition": "inside",
         "texttemplate": "%{y}",
         "type": "bar",
         "x": [
          "Midnight"
         ],
         "xaxis": "x",
         "y": [
          18.43
         ],
         "yaxis": "y"
        }
       ],
       "layout": {
        "barmode": "relative",
        "legend": {
         "title": {
          "text": "time_of_sale"
         },
         "tracegroupgap": 0
        },
        "template": {
         "data": {
          "bar": [
           {
            "error_x": {
             "color": "#2a3f5f"
            },
            "error_y": {
             "color": "#2a3f5f"
            },
            "marker": {
             "line": {
              "color": "#E5ECF6",
              "width": 0.5
             },
             "pattern": {
              "fillmode": "overlay",
              "size": 10,
              "solidity": 0.2
             }
            },
            "type": "bar"
           }
          ],
          "barpolar": [
           {
            "marker": {
             "line": {
              "color": "#E5ECF6",
              "width": 0.5
             },
             "pattern": {
              "fillmode": "overlay",
              "size": 10,
              "solidity": 0.2
             }
            },
            "type": "barpolar"
           }
          ],
          "carpet": [
           {
            "aaxis": {
             "endlinecolor": "#2a3f5f",
             "gridcolor": "white",
             "linecolor": "white",
             "minorgridcolor": "white",
             "startlinecolor": "#2a3f5f"
            },
            "baxis": {
             "endlinecolor": "#2a3f5f",
             "gridcolor": "white",
             "linecolor": "white",
             "minorgridcolor": "white",
             "startlinecolor": "#2a3f5f"
            },
            "type": "carpet"
           }
          ],
          "choropleth": [
           {
            "colorbar": {
             "outlinewidth": 0,
             "ticks": ""
            },
            "type": "choropleth"
           }
          ],
          "contour": [
           {
            "colorbar": {
             "outlinewidth": 0,
             "ticks": ""
            },
            "colorscale": [
             [
              0,
              "#0d0887"
             ],
             [
              0.1111111111111111,
              "#46039f"
             ],
             [
              0.2222222222222222,
              "#7201a8"
             ],
             [
              0.3333333333333333,
              "#9c179e"
             ],
             [
              0.4444444444444444,
              "#bd3786"
             ],
             [
              0.5555555555555556,
              "#d8576b"
             ],
             [
              0.6666666666666666,
              "#ed7953"
             ],
             [
              0.7777777777777778,
              "#fb9f3a"
             ],
             [
              0.8888888888888888,
              "#fdca26"
             ],
             [
              1,
              "#f0f921"
             ]
            ],
            "type": "contour"
           }
          ],
          "contourcarpet": [
           {
            "colorbar": {
             "outlinewidth": 0,
             "ticks": ""
            },
            "type": "contourcarpet"
           }
          ],
          "heatmap": [
           {
            "colorbar": {
             "outlinewidth": 0,
             "ticks": ""
            },
            "colorscale": [
             [
              0,
              "#0d0887"
             ],
             [
              0.1111111111111111,
              "#46039f"
             ],
             [
              0.2222222222222222,
              "#7201a8"
             ],
             [
              0.3333333333333333,
              "#9c179e"
             ],
             [
              0.4444444444444444,
              "#bd3786"
             ],
             [
              0.5555555555555556,
              "#d8576b"
             ],
             [
              0.6666666666666666,
              "#ed7953"
             ],
             [
              0.7777777777777778,
              "#fb9f3a"
             ],
             [
              0.8888888888888888,
              "#fdca26"
             ],
             [
              1,
              "#f0f921"
             ]
            ],
            "type": "heatmap"
           }
          ],
          "heatmapgl": [
           {
            "colorbar": {
             "outlinewidth": 0,
             "ticks": ""
            },
            "colorscale": [
             [
              0,
              "#0d0887"
             ],
             [
              0.1111111111111111,
              "#46039f"
             ],
             [
              0.2222222222222222,
              "#7201a8"
             ],
             [
              0.3333333333333333,
              "#9c179e"
             ],
             [
              0.4444444444444444,
              "#bd3786"
             ],
             [
              0.5555555555555556,
              "#d8576b"
             ],
             [
              0.6666666666666666,
              "#ed7953"
             ],
             [
              0.7777777777777778,
              "#fb9f3a"
             ],
             [
              0.8888888888888888,
              "#fdca26"
             ],
             [
              1,
              "#f0f921"
             ]
            ],
            "type": "heatmapgl"
           }
          ],
          "histogram": [
           {
            "marker": {
             "pattern": {
              "fillmode": "overlay",
              "size": 10,
              "solidity": 0.2
             }
            },
            "type": "histogram"
           }
          ],
          "histogram2d": [
           {
            "colorbar": {
             "outlinewidth": 0,
             "ticks": ""
            },
            "colorscale": [
             [
              0,
              "#0d0887"
             ],
             [
              0.1111111111111111,
              "#46039f"
             ],
             [
              0.2222222222222222,
              "#7201a8"
             ],
             [
              0.3333333333333333,
              "#9c179e"
             ],
             [
              0.4444444444444444,
              "#bd3786"
             ],
             [
              0.5555555555555556,
              "#d8576b"
             ],
             [
              0.6666666666666666,
              "#ed7953"
             ],
             [
              0.7777777777777778,
              "#fb9f3a"
             ],
             [
              0.8888888888888888,
              "#fdca26"
             ],
             [
              1,
              "#f0f921"
             ]
            ],
            "type": "histogram2d"
           }
          ],
          "histogram2dcontour": [
           {
            "colorbar": {
             "outlinewidth": 0,
             "ticks": ""
            },
            "colorscale": [
             [
              0,
              "#0d0887"
             ],
             [
              0.1111111111111111,
              "#46039f"
             ],
             [
              0.2222222222222222,
              "#7201a8"
             ],
             [
              0.3333333333333333,
              "#9c179e"
             ],
             [
              0.4444444444444444,
              "#bd3786"
             ],
             [
              0.5555555555555556,
              "#d8576b"
             ],
             [
              0.6666666666666666,
              "#ed7953"
             ],
             [
              0.7777777777777778,
              "#fb9f3a"
             ],
             [
              0.8888888888888888,
              "#fdca26"
             ],
             [
              1,
              "#f0f921"
             ]
            ],
            "type": "histogram2dcontour"
           }
          ],
          "mesh3d": [
           {
            "colorbar": {
             "outlinewidth": 0,
             "ticks": ""
            },
            "type": "mesh3d"
           }
          ],
          "parcoords": [
           {
            "line": {
             "colorbar": {
              "outlinewidth": 0,
              "ticks": ""
             }
            },
            "type": "parcoords"
           }
          ],
          "pie": [
           {
            "automargin": true,
            "type": "pie"
           }
          ],
          "scatter": [
           {
            "fillpattern": {
             "fillmode": "overlay",
             "size": 10,
             "solidity": 0.2
            },
            "type": "scatter"
           }
          ],
          "scatter3d": [
           {
            "line": {
             "colorbar": {
              "outlinewidth": 0,
              "ticks": ""
             }
            },
            "marker": {
             "colorbar": {
              "outlinewidth": 0,
              "ticks": ""
             }
            },
            "type": "scatter3d"
           }
          ],
          "scattercarpet": [
           {
            "marker": {
             "colorbar": {
              "outlinewidth": 0,
              "ticks": ""
             }
            },
            "type": "scattercarpet"
           }
          ],
          "scattergeo": [
           {
            "marker": {
             "colorbar": {
              "outlinewidth": 0,
              "ticks": ""
             }
            },
            "type": "scattergeo"
           }
          ],
          "scattergl": [
           {
            "marker": {
             "colorbar": {
              "outlinewidth": 0,
              "ticks": ""
             }
            },
            "type": "scattergl"
           }
          ],
          "scattermapbox": [
           {
            "marker": {
             "colorbar": {
              "outlinewidth": 0,
              "ticks": ""
             }
            },
            "type": "scattermapbox"
           }
          ],
          "scatterpolar": [
           {
            "marker": {
             "colorbar": {
              "outlinewidth": 0,
              "ticks": ""
             }
            },
            "type": "scatterpolar"
           }
          ],
          "scatterpolargl": [
           {
            "marker": {
             "colorbar": {
              "outlinewidth": 0,
              "ticks": ""
             }
            },
            "type": "scatterpolargl"
           }
          ],
          "scatterternary": [
           {
            "marker": {
             "colorbar": {
              "outlinewidth": 0,
              "ticks": ""
             }
            },
            "type": "scatterternary"
           }
          ],
          "surface": [
           {
            "colorbar": {
             "outlinewidth": 0,
             "ticks": ""
            },
            "colorscale": [
             [
              0,
              "#0d0887"
             ],
             [
              0.1111111111111111,
              "#46039f"
             ],
             [
              0.2222222222222222,
              "#7201a8"
             ],
             [
              0.3333333333333333,
              "#9c179e"
             ],
             [
              0.4444444444444444,
              "#bd3786"
             ],
             [
              0.5555555555555556,
              "#d8576b"
             ],
             [
              0.6666666666666666,
              "#ed7953"
             ],
             [
              0.7777777777777778,
              "#fb9f3a"
             ],
             [
              0.8888888888888888,
              "#fdca26"
             ],
             [
              1,
              "#f0f921"
             ]
            ],
            "type": "surface"
           }
          ],
          "table": [
           {
            "cells": {
             "fill": {
              "color": "#EBF0F8"
             },
             "line": {
              "color": "white"
             }
            },
            "header": {
             "fill": {
              "color": "#C8D4E3"
             },
             "line": {
              "color": "white"
             }
            },
            "type": "table"
           }
          ]
         },
         "layout": {
          "annotationdefaults": {
           "arrowcolor": "#2a3f5f",
           "arrowhead": 0,
           "arrowwidth": 1
          },
          "autotypenumbers": "strict",
          "coloraxis": {
           "colorbar": {
            "outlinewidth": 0,
            "ticks": ""
           }
          },
          "colorscale": {
           "diverging": [
            [
             0,
             "#8e0152"
            ],
            [
             0.1,
             "#c51b7d"
            ],
            [
             0.2,
             "#de77ae"
            ],
            [
             0.3,
             "#f1b6da"
            ],
            [
             0.4,
             "#fde0ef"
            ],
            [
             0.5,
             "#f7f7f7"
            ],
            [
             0.6,
             "#e6f5d0"
            ],
            [
             0.7,
             "#b8e186"
            ],
            [
             0.8,
             "#7fbc41"
            ],
            [
             0.9,
             "#4d9221"
            ],
            [
             1,
             "#276419"
            ]
           ],
           "sequential": [
            [
             0,
             "#0d0887"
            ],
            [
             0.1111111111111111,
             "#46039f"
            ],
            [
             0.2222222222222222,
             "#7201a8"
            ],
            [
             0.3333333333333333,
             "#9c179e"
            ],
            [
             0.4444444444444444,
             "#bd3786"
            ],
            [
             0.5555555555555556,
             "#d8576b"
            ],
            [
             0.6666666666666666,
             "#ed7953"
            ],
            [
             0.7777777777777778,
             "#fb9f3a"
            ],
            [
             0.8888888888888888,
             "#fdca26"
            ],
            [
             1,
             "#f0f921"
            ]
           ],
           "sequentialminus": [
            [
             0,
             "#0d0887"
            ],
            [
             0.1111111111111111,
             "#46039f"
            ],
            [
             0.2222222222222222,
             "#7201a8"
            ],
            [
             0.3333333333333333,
             "#9c179e"
            ],
            [
             0.4444444444444444,
             "#bd3786"
            ],
            [
             0.5555555555555556,
             "#d8576b"
            ],
            [
             0.6666666666666666,
             "#ed7953"
            ],
            [
             0.7777777777777778,
             "#fb9f3a"
            ],
            [
             0.8888888888888888,
             "#fdca26"
            ],
            [
             1,
             "#f0f921"
            ]
           ]
          },
          "colorway": [
           "#636efa",
           "#EF553B",
           "#00cc96",
           "#ab63fa",
           "#FFA15A",
           "#19d3f3",
           "#FF6692",
           "#B6E880",
           "#FF97FF",
           "#FECB52"
          ],
          "font": {
           "color": "#2a3f5f"
          },
          "geo": {
           "bgcolor": "white",
           "lakecolor": "white",
           "landcolor": "#E5ECF6",
           "showlakes": true,
           "showland": true,
           "subunitcolor": "white"
          },
          "hoverlabel": {
           "align": "left"
          },
          "hovermode": "closest",
          "mapbox": {
           "style": "light"
          },
          "paper_bgcolor": "white",
          "plot_bgcolor": "#E5ECF6",
          "polar": {
           "angularaxis": {
            "gridcolor": "white",
            "linecolor": "white",
            "ticks": ""
           },
           "bgcolor": "#E5ECF6",
           "radialaxis": {
            "gridcolor": "white",
            "linecolor": "white",
            "ticks": ""
           }
          },
          "scene": {
           "xaxis": {
            "backgroundcolor": "#E5ECF6",
            "gridcolor": "white",
            "gridwidth": 2,
            "linecolor": "white",
            "showbackground": true,
            "ticks": "",
            "zerolinecolor": "white"
           },
           "yaxis": {
            "backgroundcolor": "#E5ECF6",
            "gridcolor": "white",
            "gridwidth": 2,
            "linecolor": "white",
            "showbackground": true,
            "ticks": "",
            "zerolinecolor": "white"
           },
           "zaxis": {
            "backgroundcolor": "#E5ECF6",
            "gridcolor": "white",
            "gridwidth": 2,
            "linecolor": "white",
            "showbackground": true,
            "ticks": "",
            "zerolinecolor": "white"
           }
          },
          "shapedefaults": {
           "line": {
            "color": "#2a3f5f"
           }
          },
          "ternary": {
           "aaxis": {
            "gridcolor": "white",
            "linecolor": "white",
            "ticks": ""
           },
           "baxis": {
            "gridcolor": "white",
            "linecolor": "white",
            "ticks": ""
           },
           "bgcolor": "#E5ECF6",
           "caxis": {
            "gridcolor": "white",
            "linecolor": "white",
            "ticks": ""
           }
          },
          "title": {
           "x": 0.05
          },
          "xaxis": {
           "automargin": true,
           "gridcolor": "white",
           "linecolor": "white",
           "ticks": "",
           "title": {
            "standoff": 15
           },
           "zerolinecolor": "white",
           "zerolinewidth": 2
          },
          "yaxis": {
           "automargin": true,
           "gridcolor": "white",
           "linecolor": "white",
           "ticks": "",
           "title": {
            "standoff": 15
           },
           "zerolinecolor": "white",
           "zerolinewidth": 2
          }
         }
        },
        "title": {
         "text": "Percentage of Revenue generated per time"
        },
        "xaxis": {
         "anchor": "y",
         "categoryarray": [
          "Night",
          "Afternoon",
          "Morning",
          "Evening",
          "Midnight"
         ],
         "categoryorder": "array",
         "domain": [
          0,
          1
         ],
         "title": {
          "text": "time_of_sale"
         }
        },
        "yaxis": {
         "anchor": "x",
         "domain": [
          0,
          1
         ],
         "title": {
          "text": "Percentage"
         }
        }
       }
      }
     },
     "metadata": {},
     "output_type": "display_data"
    }
   ],
   "source": [
    "fig=px.bar(d4,x=\"time_of_sale\",y=\"Percentage\",title=\"Percentage of Revenue generated per time\",color=\"time_of_sale\")\n",
    "fig.update_traces(texttemplate=\"%{y}\",textposition=\"inside\")"
   ]
  },
  {
   "cell_type": "code",
   "execution_count": 54,
   "metadata": {},
   "outputs": [
    {
     "name": "stdout",
     "output_type": "stream",
     "text": [
      "The most sold item is Cold coffee\n",
      "Mean revenue by item:\n",
      "         item_name     Revenue\n",
      "0         Sandwich  561.600000\n",
      "1          Frankie  443.478261\n",
      "2      Cold coffee  358.750000\n",
      "3  Sugarcane juice  206.000000\n",
      "4         Panipuri  160.689655\n",
      "5         Aalopuri  159.259259\n",
      "6          Vadapav  134.482759\n"
     ]
    }
   ],
   "source": [
    "time=input(\"Enter sales time to know various things:\")\n",
    "d5=df[df[\"time_of_sale\"]==time]\n",
    "\n",
    "most_sold_item = d5[\"item_name\"].mode().iloc[0]\n",
    "print(\"The most sold item is\", most_sold_item)\n",
    "\n",
    "# Group by item_name and calculate mean revenue, sorted descending\n",
    "mean_revenue = d5.groupby(\"item_name\")[\"Revenue\"].mean().sort_values(ascending=False).reset_index()\n",
    "print(\"Mean revenue by item:\")\n",
    "print(mean_revenue)"
   ]
  },
  {
   "cell_type": "markdown",
   "metadata": {},
   "source": [
    "Which transaction type is mostly used?"
   ]
  },
  {
   "cell_type": "code",
   "execution_count": 55,
   "metadata": {},
   "outputs": [
    {
     "data": {
      "text/html": [
       "<div>\n",
       "<style scoped>\n",
       "    .dataframe tbody tr th:only-of-type {\n",
       "        vertical-align: middle;\n",
       "    }\n",
       "\n",
       "    .dataframe tbody tr th {\n",
       "        vertical-align: top;\n",
       "    }\n",
       "\n",
       "    .dataframe thead th {\n",
       "        text-align: right;\n",
       "    }\n",
       "</style>\n",
       "<table border=\"1\" class=\"dataframe\">\n",
       "  <thead>\n",
       "    <tr style=\"text-align: right;\">\n",
       "      <th></th>\n",
       "      <th>transaction_type</th>\n",
       "      <th>count</th>\n",
       "    </tr>\n",
       "  </thead>\n",
       "  <tbody>\n",
       "    <tr>\n",
       "      <th>0</th>\n",
       "      <td>Cash</td>\n",
       "      <td>476</td>\n",
       "    </tr>\n",
       "    <tr>\n",
       "      <th>1</th>\n",
       "      <td>Online</td>\n",
       "      <td>417</td>\n",
       "    </tr>\n",
       "  </tbody>\n",
       "</table>\n",
       "</div>"
      ],
      "text/plain": [
       "  transaction_type  count\n",
       "0             Cash    476\n",
       "1           Online    417"
      ]
     },
     "execution_count": 55,
     "metadata": {},
     "output_type": "execute_result"
    }
   ],
   "source": [
    "tf=df[\"transaction_type\"].value_counts().reset_index()\n",
    "tf.columns=[\"transaction_type\",\"count\"]\n",
    "tf"
   ]
  },
  {
   "cell_type": "code",
   "execution_count": 56,
   "metadata": {},
   "outputs": [
    {
     "data": {
      "application/vnd.plotly.v1+json": {
       "config": {
        "plotlyServerURL": "https://plot.ly"
       },
       "data": [
        {
         "domain": {
          "x": [
           0,
           1
          ],
          "y": [
           0,
           1
          ]
         },
         "hovertemplate": "transaction_type=%{label}<br>count=%{value}<extra></extra>",
         "labels": [
          "Cash",
          "Online"
         ],
         "legendgroup": "",
         "name": "",
         "showlegend": true,
         "type": "pie",
         "values": [
          476,
          417
         ]
        }
       ],
       "layout": {
        "legend": {
         "tracegroupgap": 0
        },
        "template": {
         "data": {
          "bar": [
           {
            "error_x": {
             "color": "#2a3f5f"
            },
            "error_y": {
             "color": "#2a3f5f"
            },
            "marker": {
             "line": {
              "color": "#E5ECF6",
              "width": 0.5
             },
             "pattern": {
              "fillmode": "overlay",
              "size": 10,
              "solidity": 0.2
             }
            },
            "type": "bar"
           }
          ],
          "barpolar": [
           {
            "marker": {
             "line": {
              "color": "#E5ECF6",
              "width": 0.5
             },
             "pattern": {
              "fillmode": "overlay",
              "size": 10,
              "solidity": 0.2
             }
            },
            "type": "barpolar"
           }
          ],
          "carpet": [
           {
            "aaxis": {
             "endlinecolor": "#2a3f5f",
             "gridcolor": "white",
             "linecolor": "white",
             "minorgridcolor": "white",
             "startlinecolor": "#2a3f5f"
            },
            "baxis": {
             "endlinecolor": "#2a3f5f",
             "gridcolor": "white",
             "linecolor": "white",
             "minorgridcolor": "white",
             "startlinecolor": "#2a3f5f"
            },
            "type": "carpet"
           }
          ],
          "choropleth": [
           {
            "colorbar": {
             "outlinewidth": 0,
             "ticks": ""
            },
            "type": "choropleth"
           }
          ],
          "contour": [
           {
            "colorbar": {
             "outlinewidth": 0,
             "ticks": ""
            },
            "colorscale": [
             [
              0,
              "#0d0887"
             ],
             [
              0.1111111111111111,
              "#46039f"
             ],
             [
              0.2222222222222222,
              "#7201a8"
             ],
             [
              0.3333333333333333,
              "#9c179e"
             ],
             [
              0.4444444444444444,
              "#bd3786"
             ],
             [
              0.5555555555555556,
              "#d8576b"
             ],
             [
              0.6666666666666666,
              "#ed7953"
             ],
             [
              0.7777777777777778,
              "#fb9f3a"
             ],
             [
              0.8888888888888888,
              "#fdca26"
             ],
             [
              1,
              "#f0f921"
             ]
            ],
            "type": "contour"
           }
          ],
          "contourcarpet": [
           {
            "colorbar": {
             "outlinewidth": 0,
             "ticks": ""
            },
            "type": "contourcarpet"
           }
          ],
          "heatmap": [
           {
            "colorbar": {
             "outlinewidth": 0,
             "ticks": ""
            },
            "colorscale": [
             [
              0,
              "#0d0887"
             ],
             [
              0.1111111111111111,
              "#46039f"
             ],
             [
              0.2222222222222222,
              "#7201a8"
             ],
             [
              0.3333333333333333,
              "#9c179e"
             ],
             [
              0.4444444444444444,
              "#bd3786"
             ],
             [
              0.5555555555555556,
              "#d8576b"
             ],
             [
              0.6666666666666666,
              "#ed7953"
             ],
             [
              0.7777777777777778,
              "#fb9f3a"
             ],
             [
              0.8888888888888888,
              "#fdca26"
             ],
             [
              1,
              "#f0f921"
             ]
            ],
            "type": "heatmap"
           }
          ],
          "heatmapgl": [
           {
            "colorbar": {
             "outlinewidth": 0,
             "ticks": ""
            },
            "colorscale": [
             [
              0,
              "#0d0887"
             ],
             [
              0.1111111111111111,
              "#46039f"
             ],
             [
              0.2222222222222222,
              "#7201a8"
             ],
             [
              0.3333333333333333,
              "#9c179e"
             ],
             [
              0.4444444444444444,
              "#bd3786"
             ],
             [
              0.5555555555555556,
              "#d8576b"
             ],
             [
              0.6666666666666666,
              "#ed7953"
             ],
             [
              0.7777777777777778,
              "#fb9f3a"
             ],
             [
              0.8888888888888888,
              "#fdca26"
             ],
             [
              1,
              "#f0f921"
             ]
            ],
            "type": "heatmapgl"
           }
          ],
          "histogram": [
           {
            "marker": {
             "pattern": {
              "fillmode": "overlay",
              "size": 10,
              "solidity": 0.2
             }
            },
            "type": "histogram"
           }
          ],
          "histogram2d": [
           {
            "colorbar": {
             "outlinewidth": 0,
             "ticks": ""
            },
            "colorscale": [
             [
              0,
              "#0d0887"
             ],
             [
              0.1111111111111111,
              "#46039f"
             ],
             [
              0.2222222222222222,
              "#7201a8"
             ],
             [
              0.3333333333333333,
              "#9c179e"
             ],
             [
              0.4444444444444444,
              "#bd3786"
             ],
             [
              0.5555555555555556,
              "#d8576b"
             ],
             [
              0.6666666666666666,
              "#ed7953"
             ],
             [
              0.7777777777777778,
              "#fb9f3a"
             ],
             [
              0.8888888888888888,
              "#fdca26"
             ],
             [
              1,
              "#f0f921"
             ]
            ],
            "type": "histogram2d"
           }
          ],
          "histogram2dcontour": [
           {
            "colorbar": {
             "outlinewidth": 0,
             "ticks": ""
            },
            "colorscale": [
             [
              0,
              "#0d0887"
             ],
             [
              0.1111111111111111,
              "#46039f"
             ],
             [
              0.2222222222222222,
              "#7201a8"
             ],
             [
              0.3333333333333333,
              "#9c179e"
             ],
             [
              0.4444444444444444,
              "#bd3786"
             ],
             [
              0.5555555555555556,
              "#d8576b"
             ],
             [
              0.6666666666666666,
              "#ed7953"
             ],
             [
              0.7777777777777778,
              "#fb9f3a"
             ],
             [
              0.8888888888888888,
              "#fdca26"
             ],
             [
              1,
              "#f0f921"
             ]
            ],
            "type": "histogram2dcontour"
           }
          ],
          "mesh3d": [
           {
            "colorbar": {
             "outlinewidth": 0,
             "ticks": ""
            },
            "type": "mesh3d"
           }
          ],
          "parcoords": [
           {
            "line": {
             "colorbar": {
              "outlinewidth": 0,
              "ticks": ""
             }
            },
            "type": "parcoords"
           }
          ],
          "pie": [
           {
            "automargin": true,
            "type": "pie"
           }
          ],
          "scatter": [
           {
            "fillpattern": {
             "fillmode": "overlay",
             "size": 10,
             "solidity": 0.2
            },
            "type": "scatter"
           }
          ],
          "scatter3d": [
           {
            "line": {
             "colorbar": {
              "outlinewidth": 0,
              "ticks": ""
             }
            },
            "marker": {
             "colorbar": {
              "outlinewidth": 0,
              "ticks": ""
             }
            },
            "type": "scatter3d"
           }
          ],
          "scattercarpet": [
           {
            "marker": {
             "colorbar": {
              "outlinewidth": 0,
              "ticks": ""
             }
            },
            "type": "scattercarpet"
           }
          ],
          "scattergeo": [
           {
            "marker": {
             "colorbar": {
              "outlinewidth": 0,
              "ticks": ""
             }
            },
            "type": "scattergeo"
           }
          ],
          "scattergl": [
           {
            "marker": {
             "colorbar": {
              "outlinewidth": 0,
              "ticks": ""
             }
            },
            "type": "scattergl"
           }
          ],
          "scattermapbox": [
           {
            "marker": {
             "colorbar": {
              "outlinewidth": 0,
              "ticks": ""
             }
            },
            "type": "scattermapbox"
           }
          ],
          "scatterpolar": [
           {
            "marker": {
             "colorbar": {
              "outlinewidth": 0,
              "ticks": ""
             }
            },
            "type": "scatterpolar"
           }
          ],
          "scatterpolargl": [
           {
            "marker": {
             "colorbar": {
              "outlinewidth": 0,
              "ticks": ""
             }
            },
            "type": "scatterpolargl"
           }
          ],
          "scatterternary": [
           {
            "marker": {
             "colorbar": {
              "outlinewidth": 0,
              "ticks": ""
             }
            },
            "type": "scatterternary"
           }
          ],
          "surface": [
           {
            "colorbar": {
             "outlinewidth": 0,
             "ticks": ""
            },
            "colorscale": [
             [
              0,
              "#0d0887"
             ],
             [
              0.1111111111111111,
              "#46039f"
             ],
             [
              0.2222222222222222,
              "#7201a8"
             ],
             [
              0.3333333333333333,
              "#9c179e"
             ],
             [
              0.4444444444444444,
              "#bd3786"
             ],
             [
              0.5555555555555556,
              "#d8576b"
             ],
             [
              0.6666666666666666,
              "#ed7953"
             ],
             [
              0.7777777777777778,
              "#fb9f3a"
             ],
             [
              0.8888888888888888,
              "#fdca26"
             ],
             [
              1,
              "#f0f921"
             ]
            ],
            "type": "surface"
           }
          ],
          "table": [
           {
            "cells": {
             "fill": {
              "color": "#EBF0F8"
             },
             "line": {
              "color": "white"
             }
            },
            "header": {
             "fill": {
              "color": "#C8D4E3"
             },
             "line": {
              "color": "white"
             }
            },
            "type": "table"
           }
          ]
         },
         "layout": {
          "annotationdefaults": {
           "arrowcolor": "#2a3f5f",
           "arrowhead": 0,
           "arrowwidth": 1
          },
          "autotypenumbers": "strict",
          "coloraxis": {
           "colorbar": {
            "outlinewidth": 0,
            "ticks": ""
           }
          },
          "colorscale": {
           "diverging": [
            [
             0,
             "#8e0152"
            ],
            [
             0.1,
             "#c51b7d"
            ],
            [
             0.2,
             "#de77ae"
            ],
            [
             0.3,
             "#f1b6da"
            ],
            [
             0.4,
             "#fde0ef"
            ],
            [
             0.5,
             "#f7f7f7"
            ],
            [
             0.6,
             "#e6f5d0"
            ],
            [
             0.7,
             "#b8e186"
            ],
            [
             0.8,
             "#7fbc41"
            ],
            [
             0.9,
             "#4d9221"
            ],
            [
             1,
             "#276419"
            ]
           ],
           "sequential": [
            [
             0,
             "#0d0887"
            ],
            [
             0.1111111111111111,
             "#46039f"
            ],
            [
             0.2222222222222222,
             "#7201a8"
            ],
            [
             0.3333333333333333,
             "#9c179e"
            ],
            [
             0.4444444444444444,
             "#bd3786"
            ],
            [
             0.5555555555555556,
             "#d8576b"
            ],
            [
             0.6666666666666666,
             "#ed7953"
            ],
            [
             0.7777777777777778,
             "#fb9f3a"
            ],
            [
             0.8888888888888888,
             "#fdca26"
            ],
            [
             1,
             "#f0f921"
            ]
           ],
           "sequentialminus": [
            [
             0,
             "#0d0887"
            ],
            [
             0.1111111111111111,
             "#46039f"
            ],
            [
             0.2222222222222222,
             "#7201a8"
            ],
            [
             0.3333333333333333,
             "#9c179e"
            ],
            [
             0.4444444444444444,
             "#bd3786"
            ],
            [
             0.5555555555555556,
             "#d8576b"
            ],
            [
             0.6666666666666666,
             "#ed7953"
            ],
            [
             0.7777777777777778,
             "#fb9f3a"
            ],
            [
             0.8888888888888888,
             "#fdca26"
            ],
            [
             1,
             "#f0f921"
            ]
           ]
          },
          "colorway": [
           "#636efa",
           "#EF553B",
           "#00cc96",
           "#ab63fa",
           "#FFA15A",
           "#19d3f3",
           "#FF6692",
           "#B6E880",
           "#FF97FF",
           "#FECB52"
          ],
          "font": {
           "color": "#2a3f5f"
          },
          "geo": {
           "bgcolor": "white",
           "lakecolor": "white",
           "landcolor": "#E5ECF6",
           "showlakes": true,
           "showland": true,
           "subunitcolor": "white"
          },
          "hoverlabel": {
           "align": "left"
          },
          "hovermode": "closest",
          "mapbox": {
           "style": "light"
          },
          "paper_bgcolor": "white",
          "plot_bgcolor": "#E5ECF6",
          "polar": {
           "angularaxis": {
            "gridcolor": "white",
            "linecolor": "white",
            "ticks": ""
           },
           "bgcolor": "#E5ECF6",
           "radialaxis": {
            "gridcolor": "white",
            "linecolor": "white",
            "ticks": ""
           }
          },
          "scene": {
           "xaxis": {
            "backgroundcolor": "#E5ECF6",
            "gridcolor": "white",
            "gridwidth": 2,
            "linecolor": "white",
            "showbackground": true,
            "ticks": "",
            "zerolinecolor": "white"
           },
           "yaxis": {
            "backgroundcolor": "#E5ECF6",
            "gridcolor": "white",
            "gridwidth": 2,
            "linecolor": "white",
            "showbackground": true,
            "ticks": "",
            "zerolinecolor": "white"
           },
           "zaxis": {
            "backgroundcolor": "#E5ECF6",
            "gridcolor": "white",
            "gridwidth": 2,
            "linecolor": "white",
            "showbackground": true,
            "ticks": "",
            "zerolinecolor": "white"
           }
          },
          "shapedefaults": {
           "line": {
            "color": "#2a3f5f"
           }
          },
          "ternary": {
           "aaxis": {
            "gridcolor": "white",
            "linecolor": "white",
            "ticks": ""
           },
           "baxis": {
            "gridcolor": "white",
            "linecolor": "white",
            "ticks": ""
           },
           "bgcolor": "#E5ECF6",
           "caxis": {
            "gridcolor": "white",
            "linecolor": "white",
            "ticks": ""
           }
          },
          "title": {
           "x": 0.05
          },
          "xaxis": {
           "automargin": true,
           "gridcolor": "white",
           "linecolor": "white",
           "ticks": "",
           "title": {
            "standoff": 15
           },
           "zerolinecolor": "white",
           "zerolinewidth": 2
          },
          "yaxis": {
           "automargin": true,
           "gridcolor": "white",
           "linecolor": "white",
           "ticks": "",
           "title": {
            "standoff": 15
           },
           "zerolinecolor": "white",
           "zerolinewidth": 2
          }
         }
        },
        "title": {
         "text": "Transaction Types"
        }
       }
      }
     },
     "metadata": {},
     "output_type": "display_data"
    }
   ],
   "source": [
    "fig=px.pie(tf,names=\"transaction_type\",values=\"count\",title='Transaction Types')\n",
    "fig.show()"
   ]
  },
  {
   "cell_type": "code",
   "execution_count": 57,
   "metadata": {},
   "outputs": [
    {
     "name": "stdout",
     "output_type": "stream",
     "text": [
      "Object `times` not found.\n"
     ]
    }
   ],
   "source": [
    "Which transaction type is mostly used at different times?"
   ]
  },
  {
   "cell_type": "code",
   "execution_count": 58,
   "metadata": {},
   "outputs": [
    {
     "data": {
      "text/html": [
       "<div>\n",
       "<style scoped>\n",
       "    .dataframe tbody tr th:only-of-type {\n",
       "        vertical-align: middle;\n",
       "    }\n",
       "\n",
       "    .dataframe tbody tr th {\n",
       "        vertical-align: top;\n",
       "    }\n",
       "\n",
       "    .dataframe thead th {\n",
       "        text-align: right;\n",
       "    }\n",
       "</style>\n",
       "<table border=\"1\" class=\"dataframe\">\n",
       "  <thead>\n",
       "    <tr style=\"text-align: right;\">\n",
       "      <th></th>\n",
       "      <th>time_of_sale</th>\n",
       "      <th>transaction_type</th>\n",
       "      <th>count</th>\n",
       "    </tr>\n",
       "  </thead>\n",
       "  <tbody>\n",
       "    <tr>\n",
       "      <th>0</th>\n",
       "      <td>Evening</td>\n",
       "      <td>Cash</td>\n",
       "      <td>103</td>\n",
       "    </tr>\n",
       "    <tr>\n",
       "      <th>1</th>\n",
       "      <td>Midnight</td>\n",
       "      <td>Cash</td>\n",
       "      <td>98</td>\n",
       "    </tr>\n",
       "    <tr>\n",
       "      <th>2</th>\n",
       "      <td>Morning</td>\n",
       "      <td>Cash</td>\n",
       "      <td>92</td>\n",
       "    </tr>\n",
       "    <tr>\n",
       "      <th>3</th>\n",
       "      <td>Night</td>\n",
       "      <td>Cash</td>\n",
       "      <td>92</td>\n",
       "    </tr>\n",
       "    <tr>\n",
       "      <th>4</th>\n",
       "      <td>Afternoon</td>\n",
       "      <td>Cash</td>\n",
       "      <td>91</td>\n",
       "    </tr>\n",
       "  </tbody>\n",
       "</table>\n",
       "</div>"
      ],
      "text/plain": [
       "  time_of_sale transaction_type  count\n",
       "0      Evening             Cash    103\n",
       "1     Midnight             Cash     98\n",
       "2      Morning             Cash     92\n",
       "3        Night             Cash     92\n",
       "4    Afternoon             Cash     91"
      ]
     },
     "execution_count": 58,
     "metadata": {},
     "output_type": "execute_result"
    }
   ],
   "source": [
    "ds=df[df[\"transaction_type\"]==\"Cash\"]\n",
    "tr=ds.groupby(\"time_of_sale\")[\"transaction_type\"].value_counts().sort_values(ascending=False).reset_index()\n",
    "tr"
   ]
  },
  {
   "cell_type": "code",
   "execution_count": 59,
   "metadata": {},
   "outputs": [
    {
     "data": {
      "text/html": [
       "<div>\n",
       "<style scoped>\n",
       "    .dataframe tbody tr th:only-of-type {\n",
       "        vertical-align: middle;\n",
       "    }\n",
       "\n",
       "    .dataframe tbody tr th {\n",
       "        vertical-align: top;\n",
       "    }\n",
       "\n",
       "    .dataframe thead th {\n",
       "        text-align: right;\n",
       "    }\n",
       "</style>\n",
       "<table border=\"1\" class=\"dataframe\">\n",
       "  <thead>\n",
       "    <tr style=\"text-align: right;\">\n",
       "      <th></th>\n",
       "      <th>time_of_sale</th>\n",
       "      <th>transaction_type</th>\n",
       "      <th>count</th>\n",
       "    </tr>\n",
       "  </thead>\n",
       "  <tbody>\n",
       "    <tr>\n",
       "      <th>0</th>\n",
       "      <td>Afternoon</td>\n",
       "      <td>Online</td>\n",
       "      <td>90</td>\n",
       "    </tr>\n",
       "    <tr>\n",
       "      <th>1</th>\n",
       "      <td>Night</td>\n",
       "      <td>Online</td>\n",
       "      <td>90</td>\n",
       "    </tr>\n",
       "    <tr>\n",
       "      <th>2</th>\n",
       "      <td>Evening</td>\n",
       "      <td>Online</td>\n",
       "      <td>82</td>\n",
       "    </tr>\n",
       "    <tr>\n",
       "      <th>3</th>\n",
       "      <td>Midnight</td>\n",
       "      <td>Online</td>\n",
       "      <td>79</td>\n",
       "    </tr>\n",
       "    <tr>\n",
       "      <th>4</th>\n",
       "      <td>Morning</td>\n",
       "      <td>Online</td>\n",
       "      <td>76</td>\n",
       "    </tr>\n",
       "  </tbody>\n",
       "</table>\n",
       "</div>"
      ],
      "text/plain": [
       "  time_of_sale transaction_type  count\n",
       "0    Afternoon           Online     90\n",
       "1        Night           Online     90\n",
       "2      Evening           Online     82\n",
       "3     Midnight           Online     79\n",
       "4      Morning           Online     76"
      ]
     },
     "execution_count": 59,
     "metadata": {},
     "output_type": "execute_result"
    }
   ],
   "source": [
    "dr=df[df[\"transaction_type\"]==\"Online\"]\n",
    "tr=dr.groupby(\"time_of_sale\")[\"transaction_type\"].value_counts().sort_values(ascending=False).reset_index()\n",
    "tr"
   ]
  }
 ],
 "metadata": {
  "kernelspec": {
   "display_name": "Python 3",
   "language": "python",
   "name": "python3"
  },
  "language_info": {
   "codemirror_mode": {
    "name": "ipython",
    "version": 3
   },
   "file_extension": ".py",
   "mimetype": "text/x-python",
   "name": "python",
   "nbconvert_exporter": "python",
   "pygments_lexer": "ipython3",
   "version": "3.10.11"
  }
 },
 "nbformat": 4,
 "nbformat_minor": 2
}
